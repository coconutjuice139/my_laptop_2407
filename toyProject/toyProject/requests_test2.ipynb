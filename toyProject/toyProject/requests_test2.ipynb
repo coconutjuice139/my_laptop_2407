{
 "cells": [
  {
   "cell_type": "code",
   "execution_count": 13,
   "metadata": {},
   "outputs": [
    {
     "name": "stdout",
     "output_type": "stream",
     "text": [
      "[<td colspan=\"7\" height=\"8\"></td>, <td align=\"center\"><span class=\"tah p10 gray03\">15:51</span></td>, <td class=\"num\"><span class=\"tah p11\">339,000</span></td>, <td class=\"num\">\n",
      "<em class=\"bu_p bu_pdn\"><span class=\"blind\">하락</span></em><span class=\"tah p11 nv01\">\n",
      "\t\t\t\t4,500\n",
      "\t\t\t\t</span>\n",
      "</td>, <td class=\"num\"><span class=\"tah p11\">0</span></td>, <td class=\"num\"><span class=\"tah p11\">339,000</span></td>, <td class=\"num\"><span class=\"tah p11\">177,603</span></td>, <td class=\"num\"><span class=\"tah p11\">1</span></td>, <td align=\"center\"><span class=\"tah p10 gray03\">15:49</span></td>, <td class=\"num\"><span class=\"tah p11\">339,000</span></td>, <td class=\"num\">\n",
      "<em class=\"bu_p bu_pdn\"><span class=\"blind\">하락</span></em><span class=\"tah p11 nv01\">\n",
      "\t\t\t\t4,500\n",
      "\t\t\t\t</span>\n",
      "</td>, <td class=\"num\"><span class=\"tah p11\">0</span></td>, <td class=\"num\"><span class=\"tah p11\">339,000</span></td>, <td class=\"num\"><span class=\"tah p11\">177,602</span></td>, <td class=\"num\"><span class=\"tah p11\">10</span></td>, <td align=\"center\"><span class=\"tah p10 gray03\">15:48</span></td>, <td class=\"num\"><span class=\"tah p11\">339,000</span></td>, <td class=\"num\">\n",
      "<em class=\"bu_p bu_pdn\"><span class=\"blind\">하락</span></em><span class=\"tah p11 nv01\">\n",
      "\t\t\t\t4,500\n",
      "\t\t\t\t</span>\n",
      "</td>, <td class=\"num\"><span class=\"tah p11\">0</span></td>, <td class=\"num\"><span class=\"tah p11\">339,000</span></td>, <td class=\"num\"><span class=\"tah p11\">177,592</span></td>, <td class=\"num\"><span class=\"tah p11\">2</span></td>, <td align=\"center\"><span class=\"tah p10 gray03\">15:44</span></td>, <td class=\"num\"><span class=\"tah p11\">339,000</span></td>, <td class=\"num\">\n",
      "<em class=\"bu_p bu_pdn\"><span class=\"blind\">하락</span></em><span class=\"tah p11 nv01\">\n",
      "\t\t\t\t4,500\n",
      "\t\t\t\t</span>\n",
      "</td>, <td class=\"num\"><span class=\"tah p11\">0</span></td>, <td class=\"num\"><span class=\"tah p11\">339,000</span></td>, <td class=\"num\"><span class=\"tah p11\">177,590</span></td>, <td class=\"num\"><span class=\"tah p11\">3</span></td>, <td align=\"center\"><span class=\"tah p10 gray03\">15:42</span></td>, <td class=\"num\"><span class=\"tah p11\">339,000</span></td>, <td class=\"num\">\n",
      "<em class=\"bu_p bu_pdn\"><span class=\"blind\">하락</span></em><span class=\"tah p11 nv01\">\n",
      "\t\t\t\t4,500\n",
      "\t\t\t\t</span>\n",
      "</td>, <td class=\"num\"><span class=\"tah p11\">0</span></td>, <td class=\"num\"><span class=\"tah p11\">339,000</span></td>, <td class=\"num\"><span class=\"tah p11\">177,587</span></td>, <td class=\"num\"><span class=\"tah p11\">1</span></td>, <td colspan=\"7\" height=\"8\"></td>, <td bgcolor=\"#e1e1e1\" colspan=\"7\" height=\"1\"></td>, <td colspan=\"7\" height=\"8\"></td>, <td align=\"center\"><span class=\"tah p10 gray03\">15:40</span></td>, <td class=\"num\"><span class=\"tah p11\">339,000</span></td>, <td class=\"num\">\n",
      "<em class=\"bu_p bu_pdn\"><span class=\"blind\">하락</span></em><span class=\"tah p11 nv01\">\n",
      "\t\t\t\t4,500\n",
      "\t\t\t\t</span>\n",
      "</td>, <td class=\"num\"><span class=\"tah p11\">0</span></td>, <td class=\"num\"><span class=\"tah p11\">339,000</span></td>, <td class=\"num\"><span class=\"tah p11\">177,586</span></td>, <td class=\"num\"><span class=\"tah p11\">193</span></td>, <td align=\"center\"><span class=\"tah p10 gray03\">15:30</span></td>, <td class=\"num\"><span class=\"tah p11\">339,000</span></td>, <td class=\"num\">\n",
      "<em class=\"bu_p bu_pdn\"><span class=\"blind\">하락</span></em><span class=\"tah p11 nv01\">\n",
      "\t\t\t\t4,500\n",
      "\t\t\t\t</span>\n",
      "</td>, <td class=\"num\"><span class=\"tah p11\">339,500</span></td>, <td class=\"num\"><span class=\"tah p11\">339,000</span></td>, <td class=\"num\"><span class=\"tah p11\">177,393</span></td>, <td class=\"num\"><span class=\"tah p11\">16,336</span></td>, <td align=\"center\"><span class=\"tah p10 gray03\">15:19</span></td>, <td class=\"num\"><span class=\"tah p11\">340,500</span></td>, <td class=\"num\">\n",
      "<em class=\"bu_p bu_pdn\"><span class=\"blind\">하락</span></em><span class=\"tah p11 nv01\">\n",
      "\t\t\t\t3,000\n",
      "\t\t\t\t</span>\n",
      "</td>, <td class=\"num\"><span class=\"tah p11\">340,500</span></td>, <td class=\"num\"><span class=\"tah p11\">340,000</span></td>, <td class=\"num\"><span class=\"tah p11\">161,057</span></td>, <td class=\"num\"><span class=\"tah p11\">1,392</span></td>, <td align=\"center\"><span class=\"tah p10 gray03\">15:18</span></td>, <td class=\"num\"><span class=\"tah p11\">340,000</span></td>, <td class=\"num\">\n",
      "<em class=\"bu_p bu_pdn\"><span class=\"blind\">하락</span></em><span class=\"tah p11 nv01\">\n",
      "\t\t\t\t3,500\n",
      "\t\t\t\t</span>\n",
      "</td>, <td class=\"num\"><span class=\"tah p11\">340,500</span></td>, <td class=\"num\"><span class=\"tah p11\">340,000</span></td>, <td class=\"num\"><span class=\"tah p11\">159,665</span></td>, <td class=\"num\"><span class=\"tah p11\">697</span></td>, <td align=\"center\"><span class=\"tah p10 gray03\">15:17</span></td>, <td class=\"num\"><span class=\"tah p11\">340,500</span></td>, <td class=\"num\">\n",
      "<em class=\"bu_p bu_pdn\"><span class=\"blind\">하락</span></em><span class=\"tah p11 nv01\">\n",
      "\t\t\t\t3,000\n",
      "\t\t\t\t</span>\n",
      "</td>, <td class=\"num\"><span class=\"tah p11\">340,500</span></td>, <td class=\"num\"><span class=\"tah p11\">340,000</span></td>, <td class=\"num\"><span class=\"tah p11\">158,968</span></td>, <td class=\"num\"><span class=\"tah p11\">1,639</span></td>, <td colspan=\"7\" height=\"8\"></td>, <td class=\"on\">\n",
      "<a href=\"/item/sise_time.naver?code=006400&amp;thistime=202407261800&amp;page=1\">1</a>\n",
      "</td>, <td>\n",
      "<a href=\"/item/sise_time.naver?code=006400&amp;thistime=202407261800&amp;page=2\">2</a>\n",
      "</td>, <td>\n",
      "<a href=\"/item/sise_time.naver?code=006400&amp;thistime=202407261800&amp;page=3\">3</a>\n",
      "</td>, <td>\n",
      "<a href=\"/item/sise_time.naver?code=006400&amp;thistime=202407261800&amp;page=4\">4</a>\n",
      "</td>, <td>\n",
      "<a href=\"/item/sise_time.naver?code=006400&amp;thistime=202407261800&amp;page=5\">5</a>\n",
      "</td>, <td>\n",
      "<a href=\"/item/sise_time.naver?code=006400&amp;thistime=202407261800&amp;page=6\">6</a>\n",
      "</td>, <td>\n",
      "<a href=\"/item/sise_time.naver?code=006400&amp;thistime=202407261800&amp;page=7\">7</a>\n",
      "</td>, <td>\n",
      "<a href=\"/item/sise_time.naver?code=006400&amp;thistime=202407261800&amp;page=8\">8</a>\n",
      "</td>, <td>\n",
      "<a href=\"/item/sise_time.naver?code=006400&amp;thistime=202407261800&amp;page=9\">9</a>\n",
      "</td>, <td>\n",
      "<a href=\"/item/sise_time.naver?code=006400&amp;thistime=202407261800&amp;page=10\">10</a>\n",
      "</td>, <td class=\"pgR\">\n",
      "<a href=\"/item/sise_time.naver?code=006400&amp;thistime=202407261800&amp;page=11\">\n",
      "\t\t\t\t다음<img alt=\"\" border=\"0\" height=\"5\" src=\"https://ssl.pstatic.net/static/n/cmn/bu_pgarR.gif\" width=\"3\"/>\n",
      "</a>\n",
      "</td>, <td class=\"pgRR\">\n",
      "<a href=\"/item/sise_time.naver?code=006400&amp;thistime=202407261800&amp;page=39\">맨뒤\n",
      "\t\t\t\t<img alt=\"\" border=\"0\" height=\"5\" src=\"https://ssl.pstatic.net/static/n/cmn/bu_pgarRR.gif\" width=\"8\"/>\n",
      "</a>\n",
      "</td>]\n"
     ]
    }
   ],
   "source": [
    "import requests\n",
    "from bs4 import BeautifulSoup as bs\n",
    "import time\n",
    "import os\n",
    "import pandas as pd\n",
    "import re\n",
    "\n",
    "custom_header = {\n",
    "    \"user-agent\": \"Mozilla/5.0 (Macintosh; Intel Mac OS X 10_15_7) AppleWebKit/537.36 (KHTML, like Gecko) Chrome/114.0.0.0 Safari/537.36\",\n",
    "    \"referer\": \"https://pann.ante.com/\"\n",
    "}\n",
    "url = \"https://finance.naver.com/item/sise_time.naver?code=006400&thistime=202407261800&page=1\"\n",
    "response = requests.get(url, headers=custom_header)\n",
    "response.raise_for_status()\n",
    "response.status_code\n",
    "\n",
    "soup = bs(response.text, \"html.parser\")\n",
    "\n",
    "test_list = soup.find_all(\"td\") # 변동량\n",
    "print(test_list)"
   ]
  },
  {
   "cell_type": "code",
   "execution_count": 11,
   "metadata": {},
   "outputs": [
    {
     "name": "stdout",
     "output_type": "stream",
     "text": [
      "['', '09:06', '343,500', '\\n보합0\\n', '344,500', '344,000', '18,508', '3,587', '09:05', '343,500', '\\n보합0\\n', '344,000', '343,500', '14,921', '808', '09:04', '342,500', '\\n하락\\n\\t\\t\\t\\t1,000\\n\\t\\t\\t\\t\\n', '343,000', '342,500', '14,113', '839', '09:03', '341,500', '\\n하락\\n\\t\\t\\t\\t2,000\\n\\t\\t\\t\\t\\n', '342,000', '341,500', '13,274', '4,730', '09:02', '343,000', '\\n하락\\n\\t\\t\\t\\t500\\n\\t\\t\\t\\t\\n', '343,000', '342,000', '8,544', '2,537', '', '', '', '09:01', '343,000', '\\n하락\\n\\t\\t\\t\\t500\\n\\t\\t\\t\\t\\n', '343,000', '342,500', '6,007', '2,092', '09:00', '342,000', '\\n하락\\n\\t\\t\\t\\t1,500\\n\\t\\t\\t\\t\\n', '342,000', '341,500', '3,915', '3,915', '\\xa0', '\\xa0', '\\xa0', '\\xa0', '\\xa0', '\\xa0', '\\xa0', '\\xa0', '\\xa0', '\\xa0', '\\xa0', '\\xa0', '\\xa0', '\\xa0', '\\xa0', '\\xa0', '\\xa0', '\\xa0', '\\xa0', '\\xa0', '\\xa0']\n"
     ]
    }
   ],
   "source": [
    "lst = []\n",
    "for i in range(74):\n",
    "    lst.append(test_list[i].text)\n",
    "\n",
    "print(lst)"
   ]
  },
  {
   "cell_type": "code",
   "execution_count": 9,
   "metadata": {},
   "outputs": [
    {
     "name": "stdout",
     "output_type": "stream",
     "text": [
      "\n",
      "보합0\n",
      "\n"
     ]
    }
   ],
   "source": [
    "print(test_list[3].text)"
   ]
  },
  {
   "cell_type": "code",
   "execution_count": 12,
   "metadata": {},
   "outputs": [
    {
     "data": {
      "text/plain": [
       "'0'"
      ]
     },
     "execution_count": 12,
     "metadata": {},
     "output_type": "execute_result"
    }
   ],
   "source": [
    "re.findall(r'\\d?,?\\d+?', test_list[3].text)[0]"
   ]
  },
  {
   "cell_type": "code",
   "execution_count": 25,
   "metadata": {},
   "outputs": [
    {
     "name": "stdout",
     "output_type": "stream",
     "text": [
      "/item/sise_time.naver?code=006400&thistime=202407261800&page=39\n"
     ]
    },
    {
     "data": {
      "text/plain": [
       "'39'"
      ]
     },
     "execution_count": 25,
     "metadata": {},
     "output_type": "execute_result"
    }
   ],
   "source": [
    "find_page = soup.findAll(\"a\") # 마지막 페이지 찾기\n",
    "href = []\n",
    "for link in find_page:\n",
    "    href = link.attrs['href']\n",
    "print(href)\n",
    "href[-2:]"
   ]
  },
  {
   "cell_type": "code",
   "execution_count": 29,
   "metadata": {},
   "outputs": [
    {
     "data": {
      "text/html": [
       "<div>\n",
       "<style scoped>\n",
       "    .dataframe tbody tr th:only-of-type {\n",
       "        vertical-align: middle;\n",
       "    }\n",
       "\n",
       "    .dataframe tbody tr th {\n",
       "        vertical-align: top;\n",
       "    }\n",
       "\n",
       "    .dataframe thead th {\n",
       "        text-align: right;\n",
       "    }\n",
       "</style>\n",
       "<table border=\"1\" class=\"dataframe\">\n",
       "  <thead>\n",
       "    <tr style=\"text-align: right;\">\n",
       "      <th></th>\n",
       "      <th>1</th>\n",
       "      <th>2</th>\n",
       "      <th>3</th>\n",
       "      <th>4</th>\n",
       "      <th>5</th>\n",
       "      <th>6</th>\n",
       "      <th>7</th>\n",
       "    </tr>\n",
       "  </thead>\n",
       "  <tbody>\n",
       "    <tr>\n",
       "      <th>0</th>\n",
       "      <td>15:51</td>\n",
       "      <td>339,000</td>\n",
       "      <td>['4,500']</td>\n",
       "      <td>0</td>\n",
       "      <td>339,000</td>\n",
       "      <td>177,603</td>\n",
       "      <td>1</td>\n",
       "    </tr>\n",
       "    <tr>\n",
       "      <th>1</th>\n",
       "      <td>15:49</td>\n",
       "      <td>339,000</td>\n",
       "      <td>['4,500']</td>\n",
       "      <td>0</td>\n",
       "      <td>339,000</td>\n",
       "      <td>177,602</td>\n",
       "      <td>10</td>\n",
       "    </tr>\n",
       "    <tr>\n",
       "      <th>2</th>\n",
       "      <td>15:48</td>\n",
       "      <td>339,000</td>\n",
       "      <td>['4,500']</td>\n",
       "      <td>0</td>\n",
       "      <td>339,000</td>\n",
       "      <td>177,592</td>\n",
       "      <td>2</td>\n",
       "    </tr>\n",
       "    <tr>\n",
       "      <th>3</th>\n",
       "      <td>15:44</td>\n",
       "      <td>339,000</td>\n",
       "      <td>['4,500']</td>\n",
       "      <td>0</td>\n",
       "      <td>339,000</td>\n",
       "      <td>177,590</td>\n",
       "      <td>3</td>\n",
       "    </tr>\n",
       "    <tr>\n",
       "      <th>4</th>\n",
       "      <td>15:42</td>\n",
       "      <td>339,000</td>\n",
       "      <td>['4,500']</td>\n",
       "      <td>0</td>\n",
       "      <td>339,000</td>\n",
       "      <td>177,587</td>\n",
       "      <td>1</td>\n",
       "    </tr>\n",
       "    <tr>\n",
       "      <th>...</th>\n",
       "      <td>...</td>\n",
       "      <td>...</td>\n",
       "      <td>...</td>\n",
       "      <td>...</td>\n",
       "      <td>...</td>\n",
       "      <td>...</td>\n",
       "      <td>...</td>\n",
       "    </tr>\n",
       "    <tr>\n",
       "      <th>495</th>\n",
       "      <td>09:01</td>\n",
       "      <td>343,000</td>\n",
       "      <td>['500']</td>\n",
       "      <td>343,000</td>\n",
       "      <td>342,500</td>\n",
       "      <td>6,007</td>\n",
       "      <td>2,092</td>\n",
       "    </tr>\n",
       "    <tr>\n",
       "      <th>496</th>\n",
       "      <td>09:00</td>\n",
       "      <td>342,000</td>\n",
       "      <td>['1,500']</td>\n",
       "      <td>342,000</td>\n",
       "      <td>341,500</td>\n",
       "      <td>3,915</td>\n",
       "      <td>3,915</td>\n",
       "    </tr>\n",
       "    <tr>\n",
       "      <th>497</th>\n",
       "      <td></td>\n",
       "      <td></td>\n",
       "      <td>[]</td>\n",
       "      <td></td>\n",
       "      <td></td>\n",
       "      <td></td>\n",
       "      <td></td>\n",
       "    </tr>\n",
       "    <tr>\n",
       "      <th>498</th>\n",
       "      <td></td>\n",
       "      <td></td>\n",
       "      <td>[]</td>\n",
       "      <td></td>\n",
       "      <td></td>\n",
       "      <td></td>\n",
       "      <td></td>\n",
       "    </tr>\n",
       "    <tr>\n",
       "      <th>499</th>\n",
       "      <td></td>\n",
       "      <td></td>\n",
       "      <td>[]</td>\n",
       "      <td></td>\n",
       "      <td></td>\n",
       "      <td></td>\n",
       "      <td></td>\n",
       "    </tr>\n",
       "  </tbody>\n",
       "</table>\n",
       "<p>500 rows × 7 columns</p>\n",
       "</div>"
      ],
      "text/plain": [
       "         1        2          3        4        5        6      7\n",
       "0    15:51  339,000  ['4,500']        0  339,000  177,603      1\n",
       "1    15:49  339,000  ['4,500']        0  339,000  177,602     10\n",
       "2    15:48  339,000  ['4,500']        0  339,000  177,592      2\n",
       "3    15:44  339,000  ['4,500']        0  339,000  177,590      3\n",
       "4    15:42  339,000  ['4,500']        0  339,000  177,587      1\n",
       "..     ...      ...        ...      ...      ...      ...    ...\n",
       "495  09:01  343,000    ['500']  343,000  342,500    6,007  2,092\n",
       "496  09:00  342,000  ['1,500']  342,000  341,500    3,915  3,915\n",
       "497                         []                                  \n",
       "498                         []                                  \n",
       "499                         []                                  \n",
       "\n",
       "[500 rows x 7 columns]"
      ]
     },
     "execution_count": 29,
     "metadata": {},
     "output_type": "execute_result"
    }
   ],
   "source": [
    "test = pd.read_csv(\"./csvsource/test/test10.csv\")\n",
    "test.columns = [\"a\",\"b\",\"c\",\"d\",\"e\",\"f\",\"g\"]\n",
    "columns = [\"1\",\"2\",\"3\",\"4\",\"5\",\"6\",\"7\"]\n",
    "test.columns = columns\n",
    "test"
   ]
  },
  {
   "cell_type": "code",
   "execution_count": 32,
   "metadata": {},
   "outputs": [
    {
     "data": {
      "text/plain": [
       "['체결시각', '체결가', '전일비', '매도', '매수', '거래량', '변동량']"
      ]
     },
     "execution_count": 32,
     "metadata": {},
     "output_type": "execute_result"
    }
   ],
   "source": [
    "th_list = soup.find_all(\"th\")\n",
    "column = []\n",
    "for i in range(len(th_list)):\n",
    "    column.append(th_list[i].text)\n",
    "column"
   ]
  }
 ],
 "metadata": {
  "kernelspec": {
   "display_name": ".venv",
   "language": "python",
   "name": "python3"
  },
  "language_info": {
   "codemirror_mode": {
    "name": "ipython",
    "version": 3
   },
   "file_extension": ".py",
   "mimetype": "text/x-python",
   "name": "python",
   "nbconvert_exporter": "python",
   "pygments_lexer": "ipython3",
   "version": "3.12.4"
  }
 },
 "nbformat": 4,
 "nbformat_minor": 2
}
