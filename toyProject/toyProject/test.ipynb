{
 "cells": [
  {
   "cell_type": "code",
   "execution_count": 2,
   "metadata": {},
   "outputs": [],
   "source": [
    "import requests\n",
    "from bs4 import BeautifulSoup as bs\n",
    "import time\n",
    "import os\n",
    "import pandas as pd\n",
    "import re"
   ]
  },
  {
   "cell_type": "code",
   "execution_count": 3,
   "metadata": {},
   "outputs": [
    {
     "data": {
      "text/plain": [
       "200"
      ]
     },
     "execution_count": 3,
     "metadata": {},
     "output_type": "execute_result"
    }
   ],
   "source": [
    "custom_header = {\n",
    "    \"user-agent\": \"Mozilla/5.0 (Macintosh; Intel Mac OS X 10_15_7) AppleWebKit/537.36 (KHTML, like Gecko) Chrome/114.0.0.0 Safari/537.36\",\n",
    "    \"referer\": \"https://pann.ante.com/\"\n",
    "}\n",
    "url = \"https://finance.naver.com/item/sise_time.naver?code=006400&thistime=202407261800&page=50\"\n",
    "response = requests.get(url, headers=custom_header)\n",
    "response.raise_for_status()\n",
    "response.status_code"
   ]
  },
  {
   "cell_type": "code",
   "execution_count": 4,
   "metadata": {},
   "outputs": [
    {
     "data": {
      "text/plain": [
       "'<html lang=\"ko\">\\n<head>\\n<meta http-equiv=\"Content-Type\" content=\"text/html; charset=euc-kr\">\\n<title>네이버페이 증권</title>\\n\\n<link rel=\"stylesheet\" type=\"text/css\" href=\"https://ssl.pstatic.net/imgstock/static.pc/20240725112316/css/newstock.css\">\\n<link rel=\"stylesheet\" type=\"text/css\" href=\"https://ssl.pstatic.net/imgstock/static.pc/20240725112316/css/common.css\">\\n<link rel=\"stylesheet\" type=\"text/css\" href=\"https://ssl.pstatic.net/imgstock/static.pc/20240725112316/css/layout.css\">\\n<link rel=\"stylesheet\" type=\"text/css\" href=\"https://ssl.pstatic.net/imgstock/static.pc/20240725112316/css/finance_header.css\">\\n<link rel=\"stylesheet\" type=\"text/css\" href=\"https://ssl.pstatic.net/imgstock/static.pc/20240725112316/css/main.css\">\\n<link rel=\"stylesheet\" type=\"text/css\" href=\"https://ssl.pstatic.net/imgstock/static.pc/20240725112316/css/newstock2.css\">\\n<link rel=\"stylesheet\" type=\"text/css\" href=\"https://ssl.pstatic.net/imgstock/static.pc/20240725112316/css/newstock3.css\">\\n<link rel=\"stylesheet\" type=\"text/css\" href=\"https://ssl.pstatic.net/imgstock/static.pc/20240725112316/css/world.css\">\\n</head>\\n<body>\\n<script language=\"JavaScript\">\\nfunction mouseOver(obj){\\n  obj.style.backgroundColor=\"#f6f4e5\";\\n}\\nfunction mouseOut(obj){\\n  obj.style.backgroundColor=\"#ffffff\";\\n}\\n</script>\\n\\t\\t\\t\\t<h4 class=\"tlline2\"><strong><span class=\"red03\">시간별</span>시세</strong></h4>\\t\\t\\t\\t\\n\\t\\t\\t\\t<table cellspacing=\"0\" class=\"type2\">\\n\\t\\t\\t\\t<tr>\\n\\t\\t\\t\\t<th>체결시각</th>\\n\\t\\t\\t\\t<th>체결가</th>\\n\\t\\t\\t\\t<th>전일비</th>\\n\\t\\t\\t\\t<th>매도</th>\\n\\t\\t\\t\\t<th>매수</th>\\n\\t\\t\\t\\t<th>거래량</th>\\n\\t\\t\\t\\t<th>변동량</th>\\n\\t\\t\\t\\t</tr>\\n\\t\\t\\t\\t<tr>\\n\\t\\t\\t\\t<td colspan=\"7\" height=\"8\"></td>\\n\\t\\t\\t\\t</tr>\\n\\n\\t\\n\\t\\t\\n\\t\\t\\t\\t<tr onMouseOver=\"mouseOver(this)\" onMouseOut=\"mouseOut(this)\">\\n\\t\\t\\t\\t<td align=\"center\"><span class=\"tah p10 gray03\">09:06</span></td>\\n\\t\\t\\t\\t<td class=\"num\"><span class=\"tah p11\">343,500</span></td>\\n\\t\\t\\t\\t<td class=\"num\">\\n\\t\\t\\t\\t<em class=\"bu_p bu_pn\"><span class=\"blind\">보합</span></em><span class=\"tah p11\">0</span>\\n\\t\\t\\t</td>\\n\\t\\t\\t\\t<td class=\"num\"><span class=\"tah p11\">344,500</span></td>\\n\\t\\t\\t\\t<td class=\"num\"><span class=\"tah p11\">344,000</span></td>\\n\\t\\t\\t\\t<td class=\"num\"><span class=\"tah p11\">18,508</span></td>\\n\\t\\t\\t\\t<td class=\"num\"><span class=\"tah p11\">3,587</span></td>\\n\\t\\t\\t\\t</tr>\\n\\t\\t\\n\\t\\t\\n\\t\\t\\t\\n\\t\\n\\t\\n\\t\\n\\t\\t\\n\\t\\n\\n\\t\\n\\t\\t\\n\\t\\t\\t\\t<tr onMouseOver=\"mouseOver(this)\" onMouseOut=\"mouseOut(this)\">\\n\\t\\t\\t\\t<td align=\"center\"><span class=\"tah p10 gray03\">09:05</span></td>\\n\\t\\t\\t\\t<td class=\"num\"><span class=\"tah p11\">343,500</span></td>\\n\\t\\t\\t\\t<td class=\"num\">\\n\\t\\t\\t\\t<em class=\"bu_p bu_pn\"><span class=\"blind\">보합</span></em><span class=\"tah p11\">0</span>\\n\\t\\t\\t</td>\\n\\t\\t\\t\\t<td class=\"num\"><span class=\"tah p11\">344,000</span></td>\\n\\t\\t\\t\\t<td class=\"num\"><span class=\"tah p11\">343,500</span></td>\\n\\t\\t\\t\\t<td class=\"num\"><span class=\"tah p11\">14,921</span></td>\\n\\t\\t\\t\\t<td class=\"num\"><span class=\"tah p11\">808</span></td>\\n\\t\\t\\t\\t</tr>\\n\\t\\t\\n\\t\\t\\n\\t\\t\\t\\n\\t\\n\\t\\n\\t\\n\\t\\t\\n\\t\\n\\n\\t\\n\\t\\t\\n\\t\\t\\t\\t<tr onMouseOver=\"mouseOver(this)\" onMouseOut=\"mouseOut(this)\">\\n\\t\\t\\t\\t<td align=\"center\"><span class=\"tah p10 gray03\">09:04</span></td>\\n\\t\\t\\t\\t<td class=\"num\"><span class=\"tah p11\">342,500</span></td>\\n\\t\\t\\t\\t<td class=\"num\">\\n\\t\\t\\t\\t<em class=\"bu_p bu_pdn\"><span class=\"blind\">하락</span></em><span class=\"tah p11 nv01\">\\n\\t\\t\\t\\t1,000\\n\\t\\t\\t\\t</span>\\n\\t\\t\\t</td>\\n\\t\\t\\t\\t<td class=\"num\"><span class=\"tah p11\">343,000</span></td>\\n\\t\\t\\t\\t<td class=\"num\"><span class=\"tah p11\">342,500</span></td>\\n\\t\\t\\t\\t<td class=\"num\"><span class=\"tah p11\">14,113</span></td>\\n\\t\\t\\t\\t<td class=\"num\"><span class=\"tah p11\">839</span></td>\\n\\t\\t\\t\\t</tr>\\n\\t\\t\\n\\t\\t\\n\\t\\t\\t\\n\\t\\n\\t\\n\\t\\n\\t\\t\\n\\t\\n\\n\\t\\n\\t\\t\\n\\t\\t\\t\\t<tr onMouseOver=\"mouseOver(this)\" onMouseOut=\"mouseOut(this)\">\\n\\t\\t\\t\\t<td align=\"center\"><span class=\"tah p10 gray03\">09:03</span></td>\\n\\t\\t\\t\\t<td class=\"num\"><span class=\"tah p11\">341,500</span></td>\\n\\t\\t\\t\\t<td class=\"num\">\\n\\t\\t\\t\\t<em class=\"bu_p bu_pdn\"><span class=\"blind\">하락</span></em><span class=\"tah p11 nv01\">\\n\\t\\t\\t\\t2,000\\n\\t\\t\\t\\t</span>\\n\\t\\t\\t</td>\\n\\t\\t\\t\\t<td class=\"num\"><span class=\"tah p11\">342,000</span></td>\\n\\t\\t\\t\\t<td class=\"num\"><span class=\"tah p11\">341,500</span></td>\\n\\t\\t\\t\\t<td class=\"num\"><span class=\"tah p11\">13,274</span></td>\\n\\t\\t\\t\\t<td class=\"num\"><span class=\"tah p11\">4,730</span></td>\\n\\t\\t\\t\\t</tr>\\n\\t\\t\\n\\t\\t\\n\\t\\t\\t\\n\\t\\n\\t\\n\\t\\n\\t\\t\\n\\t\\n\\n\\t\\n\\t\\t\\n\\t\\t\\t\\t<tr onMouseOver=\"mouseOver(this)\" onMouseOut=\"mouseOut(this)\">\\n\\t\\t\\t\\t<td align=\"center\"><span class=\"tah p10 gray03\">09:02</span></td>\\n\\t\\t\\t\\t<td class=\"num\"><span class=\"tah p11\">343,000</span></td>\\n\\t\\t\\t\\t<td class=\"num\">\\n\\t\\t\\t\\t<em class=\"bu_p bu_pdn\"><span class=\"blind\">하락</span></em><span class=\"tah p11 nv01\">\\n\\t\\t\\t\\t500\\n\\t\\t\\t\\t</span>\\n\\t\\t\\t</td>\\n\\t\\t\\t\\t<td class=\"num\"><span class=\"tah p11\">343,000</span></td>\\n\\t\\t\\t\\t<td class=\"num\"><span class=\"tah p11\">342,000</span></td>\\n\\t\\t\\t\\t<td class=\"num\"><span class=\"tah p11\">8,544</span></td>\\n\\t\\t\\t\\t<td class=\"num\"><span class=\"tah p11\">2,537</span></td>\\n\\t\\t\\t\\t</tr>\\n\\t\\t\\n\\t\\t\\n\\t\\t\\t\\n\\t\\n\\t\\n\\t\\n\\t\\t\\n\\t\\t\\t\\t<tr>\\n\\t\\t\\t\\t<td colspan=\"7\" height=\"8\"></td>\\n\\t\\t\\t\\t</tr>\\n\\t\\t\\t\\t<tr>\\n\\t\\t\\t\\t<td colspan=\"7\" height=\"1\" bgcolor=\"#e1e1e1\"></td>\\n\\t\\t\\t\\t</tr>\\n\\t\\t\\t\\t<tr>\\n\\t\\t\\t\\t<td colspan=\"7\" height=\"8\"></td>\\n\\t\\t\\t\\t</tr>\\n\\t\\t\\n\\t\\n\\n\\t\\n\\t\\t\\n\\t\\t\\t\\t<tr onMouseOver=\"mouseOver(this)\" onMouseOut=\"mouseOut(this)\">\\n\\t\\t\\t\\t<td align=\"center\"><span class=\"tah p10 gray03\">09:01</span></td>\\n\\t\\t\\t\\t<td class=\"num\"><span class=\"tah p11\">343,000</span></td>\\n\\t\\t\\t\\t<td class=\"num\">\\n\\t\\t\\t\\t<em class=\"bu_p bu_pdn\"><span class=\"blind\">하락</span></em><span class=\"tah p11 nv01\">\\n\\t\\t\\t\\t500\\n\\t\\t\\t\\t</span>\\n\\t\\t\\t</td>\\n\\t\\t\\t\\t<td class=\"num\"><span class=\"tah p11\">343,000</span></td>\\n\\t\\t\\t\\t<td class=\"num\"><span class=\"tah p11\">342,500</span></td>\\n\\t\\t\\t\\t<td class=\"num\"><span class=\"tah p11\">6,007</span></td>\\n\\t\\t\\t\\t<td class=\"num\"><span class=\"tah p11\">2,092</span></td>\\n\\t\\t\\t\\t</tr>\\n\\t\\t\\n\\t\\t\\n\\t\\t\\t\\n\\t\\n\\t\\n\\t\\n\\t\\t\\n\\t\\n\\n\\t\\n\\t\\t\\n\\t\\t\\t\\t<tr onMouseOver=\"mouseOver(this)\" onMouseOut=\"mouseOut(this)\">\\n\\t\\t\\t\\t<td align=\"center\"><span class=\"tah p10 gray03\">09:00</span></td>\\n\\t\\t\\t\\t<td class=\"num\"><span class=\"tah p11\">342,000</span></td>\\n\\t\\t\\t\\t<td class=\"num\">\\n\\t\\t\\t\\t<em class=\"bu_p bu_pdn\"><span class=\"blind\">하락</span></em><span class=\"tah p11 nv01\">\\n\\t\\t\\t\\t1,500\\n\\t\\t\\t\\t</span>\\n\\t\\t\\t</td>\\n\\t\\t\\t\\t<td class=\"num\"><span class=\"tah p11\">342,000</span></td>\\n\\t\\t\\t\\t<td class=\"num\"><span class=\"tah p11\">341,500</span></td>\\n\\t\\t\\t\\t<td class=\"num\"><span class=\"tah p11\">3,915</span></td>\\n\\t\\t\\t\\t<td class=\"num\"><span class=\"tah p11\">3,915</span></td>\\n\\t\\t\\t\\t</tr>\\n\\t\\t\\n\\t\\t\\n\\t\\t\\t\\n\\t\\n\\t\\n\\t\\n\\t\\t\\n\\t\\n\\n\\t\\n\\t\\t\\n\\t\\t\\n\\t\\t\\t\\t<tr onMouseOver=\"mouseOver(this)\" onMouseOut=\"mouseOut(this)\">\\n\\t\\t\\t\\t<td align=\"center\">&nbsp;</td>\\n\\t\\t\\t\\t<td class=\"num\">&nbsp;</td>\\n\\t\\t\\t\\t<td class=\"num\">&nbsp;</td>\\n\\t\\t\\t\\t<td class=\"num\">&nbsp;</td>\\n\\t\\t\\t\\t<td class=\"num\">&nbsp;</td>\\n\\t\\t\\t\\t<td class=\"num\">&nbsp;</td>\\n\\t\\t\\t\\t<td class=\"num\">&nbsp;</td>\\n\\t\\t\\t\\t</tr>\\n\\t\\t\\n\\t\\t\\t\\n\\t\\n\\t\\n\\t\\n\\t\\t\\n\\t\\n\\n\\t\\n\\t\\t\\n\\t\\t\\n\\t\\t\\t\\t<tr onMouseOver=\"mouseOver(this)\" onMouseOut=\"mouseOut(this)\">\\n\\t\\t\\t\\t<td align=\"center\">&nbsp;</td>\\n\\t\\t\\t\\t<td class=\"num\">&nbsp;</td>\\n\\t\\t\\t\\t<td class=\"num\">&nbsp;</td>\\n\\t\\t\\t\\t<td class=\"num\">&nbsp;</td>\\n\\t\\t\\t\\t<td class=\"num\">&nbsp;</td>\\n\\t\\t\\t\\t<td class=\"num\">&nbsp;</td>\\n\\t\\t\\t\\t<td class=\"num\">&nbsp;</td>\\n\\t\\t\\t\\t</tr>\\n\\t\\t\\n\\t\\t\\t\\n\\t\\n\\t\\n\\t\\n\\t\\t\\n\\t\\n\\n\\t\\n\\t\\t\\n\\t\\t\\n\\t\\t\\t\\t<tr onMouseOver=\"mouseOver(this)\" onMouseOut=\"mouseOut(this)\">\\n\\t\\t\\t\\t<td align=\"center\">&nbsp;</td>\\n\\t\\t\\t\\t<td class=\"num\">&nbsp;</td>\\n\\t\\t\\t\\t<td class=\"num\">&nbsp;</td>\\n\\t\\t\\t\\t<td class=\"num\">&nbsp;</td>\\n\\t\\t\\t\\t<td class=\"num\">&nbsp;</td>\\n\\t\\t\\t\\t<td class=\"num\">&nbsp;</td>\\n\\t\\t\\t\\t<td class=\"num\">&nbsp;</td>\\n\\t\\t\\t\\t</tr>\\n\\t\\t\\n\\t\\t\\t\\n\\t\\n\\t\\n\\t\\n\\t\\t\\n\\t\\n\\n\\t\\t\\t\\t<tr>\\n\\t\\t\\t\\t<td colspan=\"7\" height=\"8\"></td>\\n\\t\\t\\t\\t</tr>\\n\\t\\t\\t\\t</table>\\n\\t\\t\\t\\t\\n\\t\\t\\t\\t<!--- 페이지 네비게이션 시작--->\\n\\t\\t\\t\\t<table summary=\"페이지 네비게이션 리스트\" class=\"Nnavi\" align=\"center\">\\n\\t\\t\\t\\t<caption>페이지 네비게이션</caption>\\n\\t\\t\\t\\t<tr>\\t\\t\\n\\t\\t\\t\\n\\t\\t\\t\\t<td class=\"pgLL\">\\n\\t\\t\\t\\t<a href=\"/item/sise_time.naver?code=006400&amp;thistime=202407261800&amp;page=1\"  >\\n\\t\\t\\t\\t<img src=\"https://ssl.pstatic.net/static/n/cmn/bu_pgarLL.gif\" width=\"7\" height=\"5\" alt=\"\">맨앞\\n\\t\\t\\t\\t</a>\\n\\t\\t\\t\\t</td>\\n\\n                <td class=\"pgL\">\\n\\t\\t\\t\\t<a href=\"/item/sise_time.naver?code=006400&amp;thistime=202407261800&amp;page=21\"  >\\n\\t\\t\\t\\t<img src=\"https://ssl.pstatic.net/static/n/cmn/bu_pgarL.gif\" width=\"3\" height=\"5\" alt=\"\">이전\\n\\t\\t\\t\\t</a>\\n\\t\\t\\t\\t</td>\\n\\n                <td>\\n\\t\\t\\t\\t<a href=\"/item/sise_time.naver?code=006400&amp;thistime=202407261800&amp;page=31\"  >31</a>\\n\\t\\t\\t\\t</td>\\n<td>\\n\\t\\t\\t\\t<a href=\"/item/sise_time.naver?code=006400&amp;thistime=202407261800&amp;page=32\"  >32</a>\\n\\t\\t\\t\\t</td>\\n<td>\\n\\t\\t\\t\\t<a href=\"/item/sise_time.naver?code=006400&amp;thistime=202407261800&amp;page=33\"  >33</a>\\n\\t\\t\\t\\t</td>\\n<td>\\n\\t\\t\\t\\t<a href=\"/item/sise_time.naver?code=006400&amp;thistime=202407261800&amp;page=34\"  >34</a>\\n\\t\\t\\t\\t</td>\\n<td>\\n\\t\\t\\t\\t<a href=\"/item/sise_time.naver?code=006400&amp;thistime=202407261800&amp;page=35\"  >35</a>\\n\\t\\t\\t\\t</td>\\n<td>\\n\\t\\t\\t\\t<a href=\"/item/sise_time.naver?code=006400&amp;thistime=202407261800&amp;page=36\"  >36</a>\\n\\t\\t\\t\\t</td>\\n<td>\\n\\t\\t\\t\\t<a href=\"/item/sise_time.naver?code=006400&amp;thistime=202407261800&amp;page=37\"  >37</a>\\n\\t\\t\\t\\t</td>\\n<td>\\n\\t\\t\\t\\t<a href=\"/item/sise_time.naver?code=006400&amp;thistime=202407261800&amp;page=38\"  >38</a>\\n\\t\\t\\t\\t</td>\\n<td class=\"on\">\\n\\t\\t\\t\\t<a href=\"/item/sise_time.naver?code=006400&amp;thistime=202407261800&amp;page=39\"  >39</a>\\n\\t\\t\\t\\t</td>\\n\\n                \\n                \\n            \\n\\t\\t\\t\\t</tr>\\n\\t\\t\\t\\t</table>\\n\\t\\t\\t\\t<!--- 페이지 네비게이션 끝--->\\n\\n\\n<script type=\"text/javascript\" src=\"https://ssl.pstatic.net/imgstock/static.pc/20240725112316/js/jindo.min.ns.1.5.3.euckr.js\"></script>\\n<script type=\"text/javascript\" src=\"https://ssl.pstatic.net/imgstock/static.pc/20240725112316/js/lcslog.js\"></script>\\n<script type=\"text/javascript\">\\n    ;(function(){\\n        var eventType = \"onpageshow\" in window ? \"pageshow\" : \"load\";\\n        jindo.$Fn(function(){\\n            lcs_do();\\n        }).attach(window, eventType);\\n    })();\\n</script>\\n\\n</body>\\n'"
      ]
     },
     "execution_count": 4,
     "metadata": {},
     "output_type": "execute_result"
    }
   ],
   "source": [
    "response.text"
   ]
  },
  {
   "cell_type": "code",
   "execution_count": 5,
   "metadata": {},
   "outputs": [
    {
     "data": {
      "text/plain": [
       "<html lang=\"ko\">\n",
       "<head>\n",
       "<meta content=\"text/html; charset=utf-8\" http-equiv=\"Content-Type\"/>\n",
       "<title>네이버페이 증권</title>\n",
       "<link href=\"https://ssl.pstatic.net/imgstock/static.pc/20240725112316/css/newstock.css\" rel=\"stylesheet\" type=\"text/css\"/>\n",
       "<link href=\"https://ssl.pstatic.net/imgstock/static.pc/20240725112316/css/common.css\" rel=\"stylesheet\" type=\"text/css\"/>\n",
       "<link href=\"https://ssl.pstatic.net/imgstock/static.pc/20240725112316/css/layout.css\" rel=\"stylesheet\" type=\"text/css\"/>\n",
       "<link href=\"https://ssl.pstatic.net/imgstock/static.pc/20240725112316/css/finance_header.css\" rel=\"stylesheet\" type=\"text/css\"/>\n",
       "<link href=\"https://ssl.pstatic.net/imgstock/static.pc/20240725112316/css/main.css\" rel=\"stylesheet\" type=\"text/css\"/>\n",
       "<link href=\"https://ssl.pstatic.net/imgstock/static.pc/20240725112316/css/newstock2.css\" rel=\"stylesheet\" type=\"text/css\"/>\n",
       "<link href=\"https://ssl.pstatic.net/imgstock/static.pc/20240725112316/css/newstock3.css\" rel=\"stylesheet\" type=\"text/css\"/>\n",
       "<link href=\"https://ssl.pstatic.net/imgstock/static.pc/20240725112316/css/world.css\" rel=\"stylesheet\" type=\"text/css\"/>\n",
       "</head>\n",
       "<body>\n",
       "<script language=\"JavaScript\">\n",
       "function mouseOver(obj){\n",
       "  obj.style.backgroundColor=\"#f6f4e5\";\n",
       "}\n",
       "function mouseOut(obj){\n",
       "  obj.style.backgroundColor=\"#ffffff\";\n",
       "}\n",
       "</script>\n",
       "<h4 class=\"tlline2\"><strong><span class=\"red03\">시간별</span>시세</strong></h4>\n",
       "<table cellspacing=\"0\" class=\"type2\">\n",
       "<tr>\n",
       "<th>체결시각</th>\n",
       "<th>체결가</th>\n",
       "<th>전일비</th>\n",
       "<th>매도</th>\n",
       "<th>매수</th>\n",
       "<th>거래량</th>\n",
       "<th>변동량</th>\n",
       "</tr>\n",
       "<tr>\n",
       "<td colspan=\"7\" height=\"8\"></td>\n",
       "</tr>\n",
       "<tr onmouseout=\"mouseOut(this)\" onmouseover=\"mouseOver(this)\">\n",
       "<td align=\"center\"><span class=\"tah p10 gray03\">09:06</span></td>\n",
       "<td class=\"num\"><span class=\"tah p11\">343,500</span></td>\n",
       "<td class=\"num\">\n",
       "<em class=\"bu_p bu_pn\"><span class=\"blind\">보합</span></em><span class=\"tah p11\">0</span>\n",
       "</td>\n",
       "<td class=\"num\"><span class=\"tah p11\">344,500</span></td>\n",
       "<td class=\"num\"><span class=\"tah p11\">344,000</span></td>\n",
       "<td class=\"num\"><span class=\"tah p11\">18,508</span></td>\n",
       "<td class=\"num\"><span class=\"tah p11\">3,587</span></td>\n",
       "</tr>\n",
       "<tr onmouseout=\"mouseOut(this)\" onmouseover=\"mouseOver(this)\">\n",
       "<td align=\"center\"><span class=\"tah p10 gray03\">09:05</span></td>\n",
       "<td class=\"num\"><span class=\"tah p11\">343,500</span></td>\n",
       "<td class=\"num\">\n",
       "<em class=\"bu_p bu_pn\"><span class=\"blind\">보합</span></em><span class=\"tah p11\">0</span>\n",
       "</td>\n",
       "<td class=\"num\"><span class=\"tah p11\">344,000</span></td>\n",
       "<td class=\"num\"><span class=\"tah p11\">343,500</span></td>\n",
       "<td class=\"num\"><span class=\"tah p11\">14,921</span></td>\n",
       "<td class=\"num\"><span class=\"tah p11\">808</span></td>\n",
       "</tr>\n",
       "<tr onmouseout=\"mouseOut(this)\" onmouseover=\"mouseOver(this)\">\n",
       "<td align=\"center\"><span class=\"tah p10 gray03\">09:04</span></td>\n",
       "<td class=\"num\"><span class=\"tah p11\">342,500</span></td>\n",
       "<td class=\"num\">\n",
       "<em class=\"bu_p bu_pdn\"><span class=\"blind\">하락</span></em><span class=\"tah p11 nv01\">\n",
       "\t\t\t\t1,000\n",
       "\t\t\t\t</span>\n",
       "</td>\n",
       "<td class=\"num\"><span class=\"tah p11\">343,000</span></td>\n",
       "<td class=\"num\"><span class=\"tah p11\">342,500</span></td>\n",
       "<td class=\"num\"><span class=\"tah p11\">14,113</span></td>\n",
       "<td class=\"num\"><span class=\"tah p11\">839</span></td>\n",
       "</tr>\n",
       "<tr onmouseout=\"mouseOut(this)\" onmouseover=\"mouseOver(this)\">\n",
       "<td align=\"center\"><span class=\"tah p10 gray03\">09:03</span></td>\n",
       "<td class=\"num\"><span class=\"tah p11\">341,500</span></td>\n",
       "<td class=\"num\">\n",
       "<em class=\"bu_p bu_pdn\"><span class=\"blind\">하락</span></em><span class=\"tah p11 nv01\">\n",
       "\t\t\t\t2,000\n",
       "\t\t\t\t</span>\n",
       "</td>\n",
       "<td class=\"num\"><span class=\"tah p11\">342,000</span></td>\n",
       "<td class=\"num\"><span class=\"tah p11\">341,500</span></td>\n",
       "<td class=\"num\"><span class=\"tah p11\">13,274</span></td>\n",
       "<td class=\"num\"><span class=\"tah p11\">4,730</span></td>\n",
       "</tr>\n",
       "<tr onmouseout=\"mouseOut(this)\" onmouseover=\"mouseOver(this)\">\n",
       "<td align=\"center\"><span class=\"tah p10 gray03\">09:02</span></td>\n",
       "<td class=\"num\"><span class=\"tah p11\">343,000</span></td>\n",
       "<td class=\"num\">\n",
       "<em class=\"bu_p bu_pdn\"><span class=\"blind\">하락</span></em><span class=\"tah p11 nv01\">\n",
       "\t\t\t\t500\n",
       "\t\t\t\t</span>\n",
       "</td>\n",
       "<td class=\"num\"><span class=\"tah p11\">343,000</span></td>\n",
       "<td class=\"num\"><span class=\"tah p11\">342,000</span></td>\n",
       "<td class=\"num\"><span class=\"tah p11\">8,544</span></td>\n",
       "<td class=\"num\"><span class=\"tah p11\">2,537</span></td>\n",
       "</tr>\n",
       "<tr>\n",
       "<td colspan=\"7\" height=\"8\"></td>\n",
       "</tr>\n",
       "<tr>\n",
       "<td bgcolor=\"#e1e1e1\" colspan=\"7\" height=\"1\"></td>\n",
       "</tr>\n",
       "<tr>\n",
       "<td colspan=\"7\" height=\"8\"></td>\n",
       "</tr>\n",
       "<tr onmouseout=\"mouseOut(this)\" onmouseover=\"mouseOver(this)\">\n",
       "<td align=\"center\"><span class=\"tah p10 gray03\">09:01</span></td>\n",
       "<td class=\"num\"><span class=\"tah p11\">343,000</span></td>\n",
       "<td class=\"num\">\n",
       "<em class=\"bu_p bu_pdn\"><span class=\"blind\">하락</span></em><span class=\"tah p11 nv01\">\n",
       "\t\t\t\t500\n",
       "\t\t\t\t</span>\n",
       "</td>\n",
       "<td class=\"num\"><span class=\"tah p11\">343,000</span></td>\n",
       "<td class=\"num\"><span class=\"tah p11\">342,500</span></td>\n",
       "<td class=\"num\"><span class=\"tah p11\">6,007</span></td>\n",
       "<td class=\"num\"><span class=\"tah p11\">2,092</span></td>\n",
       "</tr>\n",
       "<tr onmouseout=\"mouseOut(this)\" onmouseover=\"mouseOver(this)\">\n",
       "<td align=\"center\"><span class=\"tah p10 gray03\">09:00</span></td>\n",
       "<td class=\"num\"><span class=\"tah p11\">342,000</span></td>\n",
       "<td class=\"num\">\n",
       "<em class=\"bu_p bu_pdn\"><span class=\"blind\">하락</span></em><span class=\"tah p11 nv01\">\n",
       "\t\t\t\t1,500\n",
       "\t\t\t\t</span>\n",
       "</td>\n",
       "<td class=\"num\"><span class=\"tah p11\">342,000</span></td>\n",
       "<td class=\"num\"><span class=\"tah p11\">341,500</span></td>\n",
       "<td class=\"num\"><span class=\"tah p11\">3,915</span></td>\n",
       "<td class=\"num\"><span class=\"tah p11\">3,915</span></td>\n",
       "</tr>\n",
       "<tr onmouseout=\"mouseOut(this)\" onmouseover=\"mouseOver(this)\">\n",
       "<td align=\"center\"> </td>\n",
       "<td class=\"num\"> </td>\n",
       "<td class=\"num\"> </td>\n",
       "<td class=\"num\"> </td>\n",
       "<td class=\"num\"> </td>\n",
       "<td class=\"num\"> </td>\n",
       "<td class=\"num\"> </td>\n",
       "</tr>\n",
       "<tr onmouseout=\"mouseOut(this)\" onmouseover=\"mouseOver(this)\">\n",
       "<td align=\"center\"> </td>\n",
       "<td class=\"num\"> </td>\n",
       "<td class=\"num\"> </td>\n",
       "<td class=\"num\"> </td>\n",
       "<td class=\"num\"> </td>\n",
       "<td class=\"num\"> </td>\n",
       "<td class=\"num\"> </td>\n",
       "</tr>\n",
       "<tr onmouseout=\"mouseOut(this)\" onmouseover=\"mouseOver(this)\">\n",
       "<td align=\"center\"> </td>\n",
       "<td class=\"num\"> </td>\n",
       "<td class=\"num\"> </td>\n",
       "<td class=\"num\"> </td>\n",
       "<td class=\"num\"> </td>\n",
       "<td class=\"num\"> </td>\n",
       "<td class=\"num\"> </td>\n",
       "</tr>\n",
       "<tr>\n",
       "<td colspan=\"7\" height=\"8\"></td>\n",
       "</tr>\n",
       "</table>\n",
       "<!--- 페이지 네비게이션 시작--->\n",
       "<table align=\"center\" class=\"Nnavi\" summary=\"페이지 네비게이션 리스트\">\n",
       "<caption>페이지 네비게이션</caption>\n",
       "<tr>\n",
       "<td class=\"pgLL\">\n",
       "<a href=\"/item/sise_time.naver?code=006400&amp;thistime=202407261800&amp;page=1\">\n",
       "<img alt=\"\" height=\"5\" src=\"https://ssl.pstatic.net/static/n/cmn/bu_pgarLL.gif\" width=\"7\"/>맨앞\n",
       "\t\t\t\t</a>\n",
       "</td>\n",
       "<td class=\"pgL\">\n",
       "<a href=\"/item/sise_time.naver?code=006400&amp;thistime=202407261800&amp;page=21\">\n",
       "<img alt=\"\" height=\"5\" src=\"https://ssl.pstatic.net/static/n/cmn/bu_pgarL.gif\" width=\"3\"/>이전\n",
       "\t\t\t\t</a>\n",
       "</td>\n",
       "<td>\n",
       "<a href=\"/item/sise_time.naver?code=006400&amp;thistime=202407261800&amp;page=31\">31</a>\n",
       "</td>\n",
       "<td>\n",
       "<a href=\"/item/sise_time.naver?code=006400&amp;thistime=202407261800&amp;page=32\">32</a>\n",
       "</td>\n",
       "<td>\n",
       "<a href=\"/item/sise_time.naver?code=006400&amp;thistime=202407261800&amp;page=33\">33</a>\n",
       "</td>\n",
       "<td>\n",
       "<a href=\"/item/sise_time.naver?code=006400&amp;thistime=202407261800&amp;page=34\">34</a>\n",
       "</td>\n",
       "<td>\n",
       "<a href=\"/item/sise_time.naver?code=006400&amp;thistime=202407261800&amp;page=35\">35</a>\n",
       "</td>\n",
       "<td>\n",
       "<a href=\"/item/sise_time.naver?code=006400&amp;thistime=202407261800&amp;page=36\">36</a>\n",
       "</td>\n",
       "<td>\n",
       "<a href=\"/item/sise_time.naver?code=006400&amp;thistime=202407261800&amp;page=37\">37</a>\n",
       "</td>\n",
       "<td>\n",
       "<a href=\"/item/sise_time.naver?code=006400&amp;thistime=202407261800&amp;page=38\">38</a>\n",
       "</td>\n",
       "<td class=\"on\">\n",
       "<a href=\"/item/sise_time.naver?code=006400&amp;thistime=202407261800&amp;page=39\">39</a>\n",
       "</td>\n",
       "</tr>\n",
       "</table>\n",
       "<!--- 페이지 네비게이션 끝--->\n",
       "<script src=\"https://ssl.pstatic.net/imgstock/static.pc/20240725112316/js/jindo.min.ns.1.5.3.euckr.js\" type=\"text/javascript\"></script>\n",
       "<script src=\"https://ssl.pstatic.net/imgstock/static.pc/20240725112316/js/lcslog.js\" type=\"text/javascript\"></script>\n",
       "<script type=\"text/javascript\">\n",
       "    ;(function(){\n",
       "        var eventType = \"onpageshow\" in window ? \"pageshow\" : \"load\";\n",
       "        jindo.$Fn(function(){\n",
       "            lcs_do();\n",
       "        }).attach(window, eventType);\n",
       "    })();\n",
       "</script>\n",
       "</body>\n",
       "</html>"
      ]
     },
     "execution_count": 5,
     "metadata": {},
     "output_type": "execute_result"
    }
   ],
   "source": [
    "soup = bs(response.text, \"html.parser\")\n",
    "soup"
   ]
  },
  {
   "cell_type": "code",
   "execution_count": 46,
   "metadata": {},
   "outputs": [
    {
     "name": "stdout",
     "output_type": "stream",
     "text": [
      "7\n"
     ]
    }
   ],
   "source": [
    "th_list = soup.find_all(\"th\")\n",
    "print(len(th_list))"
   ]
  },
  {
   "cell_type": "code",
   "execution_count": 47,
   "metadata": {},
   "outputs": [
    {
     "data": {
      "text/plain": [
       "'체결시각'"
      ]
     },
     "execution_count": 47,
     "metadata": {},
     "output_type": "execute_result"
    }
   ],
   "source": [
    "th_list[0].get_text()"
   ]
  },
  {
   "cell_type": "code",
   "execution_count": 48,
   "metadata": {},
   "outputs": [
    {
     "data": {
      "text/plain": [
       "['체결시각', '체결가', '전일비', '매도', '매수', '거래량', '변동량']"
      ]
     },
     "execution_count": 48,
     "metadata": {},
     "output_type": "execute_result"
    }
   ],
   "source": [
    "lst = []\n",
    "for i in range(7):\n",
    "    lst.append(th_list[i].get_text())\n",
    "lst"
   ]
  },
  {
   "cell_type": "code",
   "execution_count": 49,
   "metadata": {},
   "outputs": [
    {
     "name": "stdout",
     "output_type": "stream",
     "text": [
      "10\n"
     ]
    }
   ],
   "source": [
    "span_list = soup.find_all(\"span\", class_=\"tah p10 gray03\") # 채결 시각\n",
    "print(len(span_list))"
   ]
  },
  {
   "cell_type": "code",
   "execution_count": 50,
   "metadata": {},
   "outputs": [
    {
     "data": {
      "text/plain": [
       "['15:51',\n",
       " '15:49',\n",
       " '15:48',\n",
       " '15:44',\n",
       " '15:42',\n",
       " '15:40',\n",
       " '15:30',\n",
       " '15:19',\n",
       " '15:18',\n",
       " '15:17']"
      ]
     },
     "execution_count": 50,
     "metadata": {},
     "output_type": "execute_result"
    }
   ],
   "source": [
    "lst = []\n",
    "for i in range(10):\n",
    "    lst.append(span_list[i].get_text())\n",
    "lst"
   ]
  },
  {
   "cell_type": "code",
   "execution_count": 51,
   "metadata": {},
   "outputs": [
    {
     "name": "stdout",
     "output_type": "stream",
     "text": [
      "50\n"
     ]
    },
    {
     "data": {
      "text/plain": [
       "['339,000',\n",
       " '339,000',\n",
       " '339,000',\n",
       " '339,000',\n",
       " '339,000',\n",
       " '339,000',\n",
       " '339,000',\n",
       " '340,500',\n",
       " '340,000',\n",
       " '340,500']"
      ]
     },
     "execution_count": 51,
     "metadata": {},
     "output_type": "execute_result"
    }
   ],
   "source": [
    "span1_list = soup.find_all(\"span\", class_=\"tah p11\") # 채결가\n",
    "print(len(span1_list))\n",
    "\n",
    "lst = []\n",
    "for i in range(10):\n",
    "    lst.append(span1_list[5*i].get_text())\n",
    "lst"
   ]
  },
  {
   "cell_type": "code",
   "execution_count": 57,
   "metadata": {},
   "outputs": [
    {
     "name": "stdout",
     "output_type": "stream",
     "text": [
      "10\n"
     ]
    },
    {
     "data": {
      "text/plain": [
       "['4,500',\n",
       " '4,500',\n",
       " '4,500',\n",
       " '4,500',\n",
       " '4,500',\n",
       " '4,500',\n",
       " '4,500',\n",
       " '3,000',\n",
       " '3,500',\n",
       " '3,000']"
      ]
     },
     "execution_count": 57,
     "metadata": {},
     "output_type": "execute_result"
    }
   ],
   "source": [
    "span2_list = soup.find_all(\"span\", class_=\"tah p11 nv01\") # 전일비\n",
    "print(len(span2_list))\n",
    "\n",
    "lst = []\n",
    "for i in range(10):\n",
    "    \n",
    "    lst.append(re.findall(r'\\d?,?\\d+', span2_list[i].get_text())[0])\n",
    "lst"
   ]
  },
  {
   "cell_type": "code",
   "execution_count": 59,
   "metadata": {},
   "outputs": [
    {
     "name": "stdout",
     "output_type": "stream",
     "text": [
      "50\n"
     ]
    },
    {
     "data": {
      "text/plain": [
       "['0', '0', '0', '0', '0', '0', '339,500', '340,500', '340,500', '340,500']"
      ]
     },
     "execution_count": 59,
     "metadata": {},
     "output_type": "execute_result"
    }
   ],
   "source": [
    "span3_list = soup.find_all(\"span\", class_=\"tah p11\") # 매도\n",
    "print(len(span3_list))\n",
    "\n",
    "lst = []\n",
    "for i in range(10):\n",
    "    \n",
    "    lst.append(span3_list[5*i+1].get_text())\n",
    "lst"
   ]
  },
  {
   "cell_type": "code",
   "execution_count": 60,
   "metadata": {},
   "outputs": [
    {
     "name": "stdout",
     "output_type": "stream",
     "text": [
      "50\n"
     ]
    },
    {
     "data": {
      "text/plain": [
       "['339,000',\n",
       " '339,000',\n",
       " '339,000',\n",
       " '339,000',\n",
       " '339,000',\n",
       " '339,000',\n",
       " '339,000',\n",
       " '340,000',\n",
       " '340,000',\n",
       " '340,000']"
      ]
     },
     "execution_count": 60,
     "metadata": {},
     "output_type": "execute_result"
    }
   ],
   "source": [
    "span4_list = soup.find_all(\"span\", class_=\"tah p11\") # 매수\n",
    "print(len(span4_list))\n",
    "\n",
    "lst = []\n",
    "for i in range(10):\n",
    "    \n",
    "    lst.append(span4_list[5*i+2].get_text())\n",
    "lst"
   ]
  },
  {
   "cell_type": "code",
   "execution_count": 61,
   "metadata": {},
   "outputs": [
    {
     "name": "stdout",
     "output_type": "stream",
     "text": [
      "50\n"
     ]
    },
    {
     "data": {
      "text/plain": [
       "['177,603',\n",
       " '177,602',\n",
       " '177,592',\n",
       " '177,590',\n",
       " '177,587',\n",
       " '177,586',\n",
       " '177,393',\n",
       " '161,057',\n",
       " '159,665',\n",
       " '158,968']"
      ]
     },
     "execution_count": 61,
     "metadata": {},
     "output_type": "execute_result"
    }
   ],
   "source": [
    "span5_list = soup.find_all(\"span\", class_=\"tah p11\") # 거래량\n",
    "print(len(span5_list))\n",
    "\n",
    "lst = []\n",
    "for i in range(10):\n",
    "    \n",
    "    lst.append(span5_list[5*i+3].get_text())\n",
    "lst"
   ]
  },
  {
   "cell_type": "code",
   "execution_count": 62,
   "metadata": {},
   "outputs": [
    {
     "name": "stdout",
     "output_type": "stream",
     "text": [
      "50\n"
     ]
    },
    {
     "data": {
      "text/plain": [
       "['1', '10', '2', '3', '1', '193', '16,336', '1,392', '697', '1,639']"
      ]
     },
     "execution_count": 62,
     "metadata": {},
     "output_type": "execute_result"
    }
   ],
   "source": [
    "span6_list = soup.find_all(\"span\", class_=\"tah p11\") # 변동량\n",
    "print(len(span6_list))\n",
    "\n",
    "lst = []\n",
    "for i in range(10):\n",
    "    \n",
    "    lst.append(span6_list[5*i+4].get_text())\n",
    "lst"
   ]
  },
  {
   "cell_type": "code",
   "execution_count": 68,
   "metadata": {},
   "outputs": [
    {
     "name": "stdout",
     "output_type": "stream",
     "text": [
      "0 1\n",
      "1 1\n",
      "2 1\n",
      "3 1\n",
      "4 1\n",
      "0 2\n",
      "1 2\n",
      "2 2\n",
      "3 2\n",
      "4 2\n",
      "0 3\n",
      "1 3\n",
      "2 3\n",
      "3 3\n",
      "4 3\n",
      "0 4\n",
      "1 4\n",
      "2 4\n",
      "3 4\n",
      "4 4\n"
     ]
    }
   ],
   "source": [
    "for j in range (5):\n",
    "    for i in range(5):\n",
    "        try:\n",
    "            p = i / j\n",
    "            print(i, j)\n",
    "        except:\n",
    "            break\n",
    "            break\n",
    "\n",
    "\n"
   ]
  },
  {
   "cell_type": "code",
   "execution_count": 69,
   "metadata": {},
   "outputs": [
    {
     "data": {
      "text/plain": [
       "3"
      ]
     },
     "execution_count": 69,
     "metadata": {},
     "output_type": "execute_result"
    }
   ],
   "source": [
    "lst = [[1,2,3,4,5],[1,2,3,4,5,4,3,3],[2,3,4,3]]\n",
    "len(lst)"
   ]
  },
  {
   "cell_type": "code",
   "execution_count": 74,
   "metadata": {},
   "outputs": [
    {
     "name": "stdout",
     "output_type": "stream",
     "text": [
      "3\n",
      "0.0\n",
      "2\n",
      "0.0\n",
      "1\n",
      "0.0\n",
      "0\n",
      "0\n"
     ]
    }
   ],
   "source": [
    "cnt = 0\n",
    "\n",
    "def test(cnt):\n",
    "    for j in range(5):\n",
    "        if cnt == 1:\n",
    "            return\n",
    "        try:\n",
    "            for i in range(3,-1,-1):\n",
    "                print(i)\n",
    "                print(j/i)\n",
    "        except:\n",
    "            cnt = 1\n",
    "            break\n",
    "test(cnt)\n",
    "print(cnt)"
   ]
  },
  {
   "cell_type": "code",
   "execution_count": 75,
   "metadata": {},
   "outputs": [
    {
     "data": {
      "text/plain": [
       "'0'"
      ]
     },
     "execution_count": 75,
     "metadata": {},
     "output_type": "execute_result"
    }
   ],
   "source": [
    "test01 = \"sadf0asdf\"\n",
    "\n",
    "\n",
    "re.findall(r'\\d?,?\\d+', test01)[0]"
   ]
  },
  {
   "cell_type": "code",
   "execution_count": 6,
   "metadata": {},
   "outputs": [
    {
     "name": "stdout",
     "output_type": "stream",
     "text": [
      "[<td colspan=\"7\" height=\"8\"></td>, <td align=\"center\"><span class=\"tah p10 gray03\">09:06</span></td>, <td class=\"num\"><span class=\"tah p11\">343,500</span></td>, <td class=\"num\">\n",
      "<em class=\"bu_p bu_pn\"><span class=\"blind\">보합</span></em><span class=\"tah p11\">0</span>\n",
      "</td>, <td class=\"num\"><span class=\"tah p11\">344,500</span></td>, <td class=\"num\"><span class=\"tah p11\">344,000</span></td>, <td class=\"num\"><span class=\"tah p11\">18,508</span></td>, <td class=\"num\"><span class=\"tah p11\">3,587</span></td>, <td align=\"center\"><span class=\"tah p10 gray03\">09:05</span></td>, <td class=\"num\"><span class=\"tah p11\">343,500</span></td>, <td class=\"num\">\n",
      "<em class=\"bu_p bu_pn\"><span class=\"blind\">보합</span></em><span class=\"tah p11\">0</span>\n",
      "</td>, <td class=\"num\"><span class=\"tah p11\">344,000</span></td>, <td class=\"num\"><span class=\"tah p11\">343,500</span></td>, <td class=\"num\"><span class=\"tah p11\">14,921</span></td>, <td class=\"num\"><span class=\"tah p11\">808</span></td>, <td align=\"center\"><span class=\"tah p10 gray03\">09:04</span></td>, <td class=\"num\"><span class=\"tah p11\">342,500</span></td>, <td class=\"num\">\n",
      "<em class=\"bu_p bu_pdn\"><span class=\"blind\">하락</span></em><span class=\"tah p11 nv01\">\n",
      "\t\t\t\t1,000\n",
      "\t\t\t\t</span>\n",
      "</td>, <td class=\"num\"><span class=\"tah p11\">343,000</span></td>, <td class=\"num\"><span class=\"tah p11\">342,500</span></td>, <td class=\"num\"><span class=\"tah p11\">14,113</span></td>, <td class=\"num\"><span class=\"tah p11\">839</span></td>, <td align=\"center\"><span class=\"tah p10 gray03\">09:03</span></td>, <td class=\"num\"><span class=\"tah p11\">341,500</span></td>, <td class=\"num\">\n",
      "<em class=\"bu_p bu_pdn\"><span class=\"blind\">하락</span></em><span class=\"tah p11 nv01\">\n",
      "\t\t\t\t2,000\n",
      "\t\t\t\t</span>\n",
      "</td>, <td class=\"num\"><span class=\"tah p11\">342,000</span></td>, <td class=\"num\"><span class=\"tah p11\">341,500</span></td>, <td class=\"num\"><span class=\"tah p11\">13,274</span></td>, <td class=\"num\"><span class=\"tah p11\">4,730</span></td>, <td align=\"center\"><span class=\"tah p10 gray03\">09:02</span></td>, <td class=\"num\"><span class=\"tah p11\">343,000</span></td>, <td class=\"num\">\n",
      "<em class=\"bu_p bu_pdn\"><span class=\"blind\">하락</span></em><span class=\"tah p11 nv01\">\n",
      "\t\t\t\t500\n",
      "\t\t\t\t</span>\n",
      "</td>, <td class=\"num\"><span class=\"tah p11\">343,000</span></td>, <td class=\"num\"><span class=\"tah p11\">342,000</span></td>, <td class=\"num\"><span class=\"tah p11\">8,544</span></td>, <td class=\"num\"><span class=\"tah p11\">2,537</span></td>, <td colspan=\"7\" height=\"8\"></td>, <td bgcolor=\"#e1e1e1\" colspan=\"7\" height=\"1\"></td>, <td colspan=\"7\" height=\"8\"></td>, <td align=\"center\"><span class=\"tah p10 gray03\">09:01</span></td>, <td class=\"num\"><span class=\"tah p11\">343,000</span></td>, <td class=\"num\">\n",
      "<em class=\"bu_p bu_pdn\"><span class=\"blind\">하락</span></em><span class=\"tah p11 nv01\">\n",
      "\t\t\t\t500\n",
      "\t\t\t\t</span>\n",
      "</td>, <td class=\"num\"><span class=\"tah p11\">343,000</span></td>, <td class=\"num\"><span class=\"tah p11\">342,500</span></td>, <td class=\"num\"><span class=\"tah p11\">6,007</span></td>, <td class=\"num\"><span class=\"tah p11\">2,092</span></td>, <td align=\"center\"><span class=\"tah p10 gray03\">09:00</span></td>, <td class=\"num\"><span class=\"tah p11\">342,000</span></td>, <td class=\"num\">\n",
      "<em class=\"bu_p bu_pdn\"><span class=\"blind\">하락</span></em><span class=\"tah p11 nv01\">\n",
      "\t\t\t\t1,500\n",
      "\t\t\t\t</span>\n",
      "</td>, <td class=\"num\"><span class=\"tah p11\">342,000</span></td>, <td class=\"num\"><span class=\"tah p11\">341,500</span></td>, <td class=\"num\"><span class=\"tah p11\">3,915</span></td>, <td class=\"num\"><span class=\"tah p11\">3,915</span></td>, <td align=\"center\"> </td>, <td class=\"num\"> </td>, <td class=\"num\"> </td>, <td class=\"num\"> </td>, <td class=\"num\"> </td>, <td class=\"num\"> </td>, <td class=\"num\"> </td>, <td align=\"center\"> </td>, <td class=\"num\"> </td>, <td class=\"num\"> </td>, <td class=\"num\"> </td>, <td class=\"num\"> </td>, <td class=\"num\"> </td>, <td class=\"num\"> </td>, <td align=\"center\"> </td>, <td class=\"num\"> </td>, <td class=\"num\"> </td>, <td class=\"num\"> </td>, <td class=\"num\"> </td>, <td class=\"num\"> </td>, <td class=\"num\"> </td>, <td colspan=\"7\" height=\"8\"></td>, <td class=\"pgLL\">\n",
      "<a href=\"/item/sise_time.naver?code=006400&amp;thistime=202407261800&amp;page=1\">\n",
      "<img alt=\"\" height=\"5\" src=\"https://ssl.pstatic.net/static/n/cmn/bu_pgarLL.gif\" width=\"7\"/>맨앞\n",
      "\t\t\t\t</a>\n",
      "</td>, <td class=\"pgL\">\n",
      "<a href=\"/item/sise_time.naver?code=006400&amp;thistime=202407261800&amp;page=21\">\n",
      "<img alt=\"\" height=\"5\" src=\"https://ssl.pstatic.net/static/n/cmn/bu_pgarL.gif\" width=\"3\"/>이전\n",
      "\t\t\t\t</a>\n",
      "</td>, <td>\n",
      "<a href=\"/item/sise_time.naver?code=006400&amp;thistime=202407261800&amp;page=31\">31</a>\n",
      "</td>, <td>\n",
      "<a href=\"/item/sise_time.naver?code=006400&amp;thistime=202407261800&amp;page=32\">32</a>\n",
      "</td>, <td>\n",
      "<a href=\"/item/sise_time.naver?code=006400&amp;thistime=202407261800&amp;page=33\">33</a>\n",
      "</td>, <td>\n",
      "<a href=\"/item/sise_time.naver?code=006400&amp;thistime=202407261800&amp;page=34\">34</a>\n",
      "</td>, <td>\n",
      "<a href=\"/item/sise_time.naver?code=006400&amp;thistime=202407261800&amp;page=35\">35</a>\n",
      "</td>, <td>\n",
      "<a href=\"/item/sise_time.naver?code=006400&amp;thistime=202407261800&amp;page=36\">36</a>\n",
      "</td>, <td>\n",
      "<a href=\"/item/sise_time.naver?code=006400&amp;thistime=202407261800&amp;page=37\">37</a>\n",
      "</td>, <td>\n",
      "<a href=\"/item/sise_time.naver?code=006400&amp;thistime=202407261800&amp;page=38\">38</a>\n",
      "</td>, <td class=\"on\">\n",
      "<a href=\"/item/sise_time.naver?code=006400&amp;thistime=202407261800&amp;page=39\">39</a>\n",
      "</td>]\n"
     ]
    }
   ],
   "source": [
    "test_list = soup.find_all(\"td\") # 변동량\n",
    "print(test_list)"
   ]
  },
  {
   "cell_type": "code",
   "execution_count": 82,
   "metadata": {},
   "outputs": [
    {
     "ename": "TypeError",
     "evalue": "expected string or bytes-like object, got 'Tag'",
     "output_type": "error",
     "traceback": [
      "\u001b[1;31m---------------------------------------------------------------------------\u001b[0m",
      "\u001b[1;31mTypeError\u001b[0m                                 Traceback (most recent call last)",
      "Cell \u001b[1;32mIn[82], line 1\u001b[0m\n\u001b[1;32m----> 1\u001b[0m test2_list \u001b[38;5;241m=\u001b[39m \u001b[43mre\u001b[49m\u001b[38;5;241;43m.\u001b[39;49m\u001b[43mfindall\u001b[49m\u001b[43m(\u001b[49m\u001b[38;5;124;43mr\u001b[39;49m\u001b[38;5;124;43m'\u001b[39;49m\u001b[38;5;124;43m\\\u001b[39;49m\u001b[38;5;124;43md?,?\u001b[39;49m\u001b[38;5;124;43m\\\u001b[39;49m\u001b[38;5;124;43md+?\u001b[39;49m\u001b[38;5;124;43m'\u001b[39;49m\u001b[43m,\u001b[49m\u001b[43m \u001b[49m\u001b[43mtest_list\u001b[49m\u001b[43m[\u001b[49m\u001b[38;5;241;43m0\u001b[39;49m\u001b[43m]\u001b[49m\u001b[43m)\u001b[49m\n\u001b[0;32m      2\u001b[0m \u001b[38;5;28mprint\u001b[39m(test2_list)\n",
      "File \u001b[1;32m~\\AppData\\Local\\Programs\\Python\\Python312\\Lib\\re\\__init__.py:217\u001b[0m, in \u001b[0;36mfindall\u001b[1;34m(pattern, string, flags)\u001b[0m\n\u001b[0;32m    209\u001b[0m \u001b[38;5;28;01mdef\u001b[39;00m \u001b[38;5;21mfindall\u001b[39m(pattern, string, flags\u001b[38;5;241m=\u001b[39m\u001b[38;5;241m0\u001b[39m):\n\u001b[0;32m    210\u001b[0m \u001b[38;5;250m    \u001b[39m\u001b[38;5;124;03m\"\"\"Return a list of all non-overlapping matches in the string.\u001b[39;00m\n\u001b[0;32m    211\u001b[0m \n\u001b[0;32m    212\u001b[0m \u001b[38;5;124;03m    If one or more capturing groups are present in the pattern, return\u001b[39;00m\n\u001b[1;32m   (...)\u001b[0m\n\u001b[0;32m    215\u001b[0m \n\u001b[0;32m    216\u001b[0m \u001b[38;5;124;03m    Empty matches are included in the result.\"\"\"\u001b[39;00m\n\u001b[1;32m--> 217\u001b[0m     \u001b[38;5;28;01mreturn\u001b[39;00m \u001b[43m_compile\u001b[49m\u001b[43m(\u001b[49m\u001b[43mpattern\u001b[49m\u001b[43m,\u001b[49m\u001b[43m \u001b[49m\u001b[43mflags\u001b[49m\u001b[43m)\u001b[49m\u001b[38;5;241;43m.\u001b[39;49m\u001b[43mfindall\u001b[49m\u001b[43m(\u001b[49m\u001b[43mstring\u001b[49m\u001b[43m)\u001b[49m\n",
      "\u001b[1;31mTypeError\u001b[0m: expected string or bytes-like object, got 'Tag'"
     ]
    }
   ],
   "source": [
    "test2_list = re.findall(r'\\d?,?\\d+?', test_list[0])\n",
    "print(test2_list)"
   ]
  },
  {
   "cell_type": "code",
   "execution_count": 7,
   "metadata": {},
   "outputs": [
    {
     "name": "stdout",
     "output_type": "stream",
     "text": [
      "0 <td colspan=\"7\" height=\"8\"></td>\n",
      "1 <td align=\"center\"><span class=\"tah p10 gray03\">09:06</span></td>\n",
      "2 <td class=\"num\"><span class=\"tah p11\">343,500</span></td>\n",
      "3 <td class=\"num\">\n",
      "<em class=\"bu_p bu_pn\"><span class=\"blind\">보합</span></em><span class=\"tah p11\">0</span>\n",
      "</td>\n",
      "4 <td class=\"num\"><span class=\"tah p11\">344,500</span></td>\n",
      "5 <td class=\"num\"><span class=\"tah p11\">344,000</span></td>\n",
      "6 <td class=\"num\"><span class=\"tah p11\">18,508</span></td>\n",
      "7 <td class=\"num\"><span class=\"tah p11\">3,587</span></td>\n",
      "8 <td align=\"center\"><span class=\"tah p10 gray03\">09:05</span></td>\n",
      "9 <td class=\"num\"><span class=\"tah p11\">343,500</span></td>\n",
      "10 <td class=\"num\">\n",
      "<em class=\"bu_p bu_pn\"><span class=\"blind\">보합</span></em><span class=\"tah p11\">0</span>\n",
      "</td>\n",
      "11 <td class=\"num\"><span class=\"tah p11\">344,000</span></td>\n",
      "12 <td class=\"num\"><span class=\"tah p11\">343,500</span></td>\n",
      "13 <td class=\"num\"><span class=\"tah p11\">14,921</span></td>\n",
      "14 <td class=\"num\"><span class=\"tah p11\">808</span></td>\n",
      "15 <td align=\"center\"><span class=\"tah p10 gray03\">09:04</span></td>\n",
      "16 <td class=\"num\"><span class=\"tah p11\">342,500</span></td>\n",
      "17 <td class=\"num\">\n",
      "<em class=\"bu_p bu_pdn\"><span class=\"blind\">하락</span></em><span class=\"tah p11 nv01\">\n",
      "\t\t\t\t1,000\n",
      "\t\t\t\t</span>\n",
      "</td>\n",
      "18 <td class=\"num\"><span class=\"tah p11\">343,000</span></td>\n",
      "19 <td class=\"num\"><span class=\"tah p11\">342,500</span></td>\n",
      "20 <td class=\"num\"><span class=\"tah p11\">14,113</span></td>\n",
      "21 <td class=\"num\"><span class=\"tah p11\">839</span></td>\n",
      "22 <td align=\"center\"><span class=\"tah p10 gray03\">09:03</span></td>\n",
      "23 <td class=\"num\"><span class=\"tah p11\">341,500</span></td>\n",
      "24 <td class=\"num\">\n",
      "<em class=\"bu_p bu_pdn\"><span class=\"blind\">하락</span></em><span class=\"tah p11 nv01\">\n",
      "\t\t\t\t2,000\n",
      "\t\t\t\t</span>\n",
      "</td>\n",
      "25 <td class=\"num\"><span class=\"tah p11\">342,000</span></td>\n",
      "26 <td class=\"num\"><span class=\"tah p11\">341,500</span></td>\n",
      "27 <td class=\"num\"><span class=\"tah p11\">13,274</span></td>\n",
      "28 <td class=\"num\"><span class=\"tah p11\">4,730</span></td>\n",
      "29 <td align=\"center\"><span class=\"tah p10 gray03\">09:02</span></td>\n",
      "30 <td class=\"num\"><span class=\"tah p11\">343,000</span></td>\n",
      "31 <td class=\"num\">\n",
      "<em class=\"bu_p bu_pdn\"><span class=\"blind\">하락</span></em><span class=\"tah p11 nv01\">\n",
      "\t\t\t\t500\n",
      "\t\t\t\t</span>\n",
      "</td>\n",
      "32 <td class=\"num\"><span class=\"tah p11\">343,000</span></td>\n",
      "33 <td class=\"num\"><span class=\"tah p11\">342,000</span></td>\n",
      "34 <td class=\"num\"><span class=\"tah p11\">8,544</span></td>\n",
      "35 <td class=\"num\"><span class=\"tah p11\">2,537</span></td>\n",
      "36 <td colspan=\"7\" height=\"8\"></td>\n",
      "37 <td bgcolor=\"#e1e1e1\" colspan=\"7\" height=\"1\"></td>\n",
      "38 <td colspan=\"7\" height=\"8\"></td>\n",
      "39 <td align=\"center\"><span class=\"tah p10 gray03\">09:01</span></td>\n",
      "40 <td class=\"num\"><span class=\"tah p11\">343,000</span></td>\n",
      "41 <td class=\"num\">\n",
      "<em class=\"bu_p bu_pdn\"><span class=\"blind\">하락</span></em><span class=\"tah p11 nv01\">\n",
      "\t\t\t\t500\n",
      "\t\t\t\t</span>\n",
      "</td>\n",
      "42 <td class=\"num\"><span class=\"tah p11\">343,000</span></td>\n",
      "43 <td class=\"num\"><span class=\"tah p11\">342,500</span></td>\n",
      "44 <td class=\"num\"><span class=\"tah p11\">6,007</span></td>\n",
      "45 <td class=\"num\"><span class=\"tah p11\">2,092</span></td>\n",
      "46 <td align=\"center\"><span class=\"tah p10 gray03\">09:00</span></td>\n",
      "47 <td class=\"num\"><span class=\"tah p11\">342,000</span></td>\n",
      "48 <td class=\"num\">\n",
      "<em class=\"bu_p bu_pdn\"><span class=\"blind\">하락</span></em><span class=\"tah p11 nv01\">\n",
      "\t\t\t\t1,500\n",
      "\t\t\t\t</span>\n",
      "</td>\n",
      "49 <td class=\"num\"><span class=\"tah p11\">342,000</span></td>\n",
      "50 <td class=\"num\"><span class=\"tah p11\">341,500</span></td>\n",
      "51 <td class=\"num\"><span class=\"tah p11\">3,915</span></td>\n",
      "52 <td class=\"num\"><span class=\"tah p11\">3,915</span></td>\n",
      "53 <td align=\"center\"> </td>\n",
      "54 <td class=\"num\"> </td>\n",
      "55 <td class=\"num\"> </td>\n",
      "56 <td class=\"num\"> </td>\n",
      "57 <td class=\"num\"> </td>\n",
      "58 <td class=\"num\"> </td>\n",
      "59 <td class=\"num\"> </td>\n",
      "60 <td align=\"center\"> </td>\n",
      "61 <td class=\"num\"> </td>\n",
      "62 <td class=\"num\"> </td>\n",
      "63 <td class=\"num\"> </td>\n",
      "64 <td class=\"num\"> </td>\n",
      "65 <td class=\"num\"> </td>\n",
      "66 <td class=\"num\"> </td>\n",
      "67 <td align=\"center\"> </td>\n",
      "68 <td class=\"num\"> </td>\n",
      "69 <td class=\"num\"> </td>\n",
      "70 <td class=\"num\"> </td>\n",
      "71 <td class=\"num\"> </td>\n",
      "72 <td class=\"num\"> </td>\n",
      "73 <td class=\"num\"> </td>\n",
      "74 <td colspan=\"7\" height=\"8\"></td>\n",
      "75 <td class=\"pgLL\">\n",
      "<a href=\"/item/sise_time.naver?code=006400&amp;thistime=202407261800&amp;page=1\">\n",
      "<img alt=\"\" height=\"5\" src=\"https://ssl.pstatic.net/static/n/cmn/bu_pgarLL.gif\" width=\"7\"/>맨앞\n",
      "\t\t\t\t</a>\n",
      "</td>\n",
      "76 <td class=\"pgL\">\n",
      "<a href=\"/item/sise_time.naver?code=006400&amp;thistime=202407261800&amp;page=21\">\n",
      "<img alt=\"\" height=\"5\" src=\"https://ssl.pstatic.net/static/n/cmn/bu_pgarL.gif\" width=\"3\"/>이전\n",
      "\t\t\t\t</a>\n",
      "</td>\n",
      "77 <td>\n",
      "<a href=\"/item/sise_time.naver?code=006400&amp;thistime=202407261800&amp;page=31\">31</a>\n",
      "</td>\n",
      "78 <td>\n",
      "<a href=\"/item/sise_time.naver?code=006400&amp;thistime=202407261800&amp;page=32\">32</a>\n",
      "</td>\n",
      "79 <td>\n",
      "<a href=\"/item/sise_time.naver?code=006400&amp;thistime=202407261800&amp;page=33\">33</a>\n",
      "</td>\n",
      "80 <td>\n",
      "<a href=\"/item/sise_time.naver?code=006400&amp;thistime=202407261800&amp;page=34\">34</a>\n",
      "</td>\n",
      "81 <td>\n",
      "<a href=\"/item/sise_time.naver?code=006400&amp;thistime=202407261800&amp;page=35\">35</a>\n",
      "</td>\n",
      "82 <td>\n",
      "<a href=\"/item/sise_time.naver?code=006400&amp;thistime=202407261800&amp;page=36\">36</a>\n",
      "</td>\n",
      "83 <td>\n",
      "<a href=\"/item/sise_time.naver?code=006400&amp;thistime=202407261800&amp;page=37\">37</a>\n",
      "</td>\n",
      "84 <td>\n",
      "<a href=\"/item/sise_time.naver?code=006400&amp;thistime=202407261800&amp;page=38\">38</a>\n",
      "</td>\n",
      "85 <td class=\"on\">\n",
      "<a href=\"/item/sise_time.naver?code=006400&amp;thistime=202407261800&amp;page=39\">39</a>\n",
      "</td>\n"
     ]
    }
   ],
   "source": [
    "for i in range(len(test_list)):\n",
    "    print(i, test_list[i])"
   ]
  },
  {
   "cell_type": "code",
   "execution_count": 10,
   "metadata": {},
   "outputs": [
    {
     "name": "stdout",
     "output_type": "stream",
     "text": [
      "0 \n",
      "1 09:06\n",
      "2 343,500\n",
      "3 \n",
      "보합0\n",
      "\n",
      "4 344,500\n",
      "5 344,000\n",
      "6 18,508\n",
      "7 3,587\n",
      "8 09:05\n",
      "9 343,500\n",
      "10 \n",
      "보합0\n",
      "\n",
      "11 344,000\n",
      "12 343,500\n",
      "13 14,921\n",
      "14 808\n",
      "15 09:04\n",
      "16 342,500\n",
      "17 \n",
      "하락\n",
      "\t\t\t\t1,000\n",
      "\t\t\t\t\n",
      "\n",
      "18 343,000\n",
      "19 342,500\n",
      "20 14,113\n",
      "21 839\n",
      "22 09:03\n",
      "23 341,500\n",
      "24 \n",
      "하락\n",
      "\t\t\t\t2,000\n",
      "\t\t\t\t\n",
      "\n",
      "25 342,000\n",
      "26 341,500\n",
      "27 13,274\n",
      "28 4,730\n",
      "29 09:02\n",
      "30 343,000\n",
      "31 \n",
      "하락\n",
      "\t\t\t\t500\n",
      "\t\t\t\t\n",
      "\n",
      "32 343,000\n",
      "33 342,000\n",
      "34 8,544\n",
      "35 2,537\n",
      "36 \n",
      "37 \n",
      "38 \n",
      "39 09:01\n",
      "40 343,000\n",
      "41 \n",
      "하락\n",
      "\t\t\t\t500\n",
      "\t\t\t\t\n",
      "\n",
      "42 343,000\n",
      "43 342,500\n",
      "44 6,007\n",
      "45 2,092\n",
      "46 09:00\n",
      "47 342,000\n",
      "48 \n",
      "하락\n",
      "\t\t\t\t1,500\n",
      "\t\t\t\t\n",
      "\n",
      "49 342,000\n",
      "50 341,500\n",
      "51 3,915\n",
      "52 3,915\n",
      "53  \n",
      "54  \n",
      "55  \n",
      "56  \n",
      "57  \n",
      "58  \n",
      "59  \n",
      "60  \n",
      "61  \n",
      "62  \n",
      "63  \n",
      "64  \n",
      "65  \n",
      "66  \n",
      "67  \n",
      "68  \n",
      "69  \n",
      "70  \n",
      "71  \n",
      "72  \n",
      "73  \n"
     ]
    }
   ],
   "source": [
    "for i in range(74):\n",
    "    print(i, test_list[i].text)\n"
   ]
  },
  {
   "cell_type": "code",
   "execution_count": 8,
   "metadata": {},
   "outputs": [
    {
     "ename": "AttributeError",
     "evalue": "'list' object has no attribute 'text'",
     "output_type": "error",
     "traceback": [
      "\u001b[1;31m---------------------------------------------------------------------------\u001b[0m",
      "\u001b[1;31mAttributeError\u001b[0m                            Traceback (most recent call last)",
      "Cell \u001b[1;32mIn[8], line 3\u001b[0m\n\u001b[0;32m      1\u001b[0m \u001b[38;5;28;01mimport\u001b[39;00m \u001b[38;5;21;01mre\u001b[39;00m\n\u001b[1;32m----> 3\u001b[0m test2_list \u001b[38;5;241m=\u001b[39m re\u001b[38;5;241m.\u001b[39mfindall(\u001b[38;5;124mr\u001b[39m\u001b[38;5;124m'\u001b[39m\u001b[38;5;124m\\\u001b[39m\u001b[38;5;124md?,?\u001b[39m\u001b[38;5;124m\\\u001b[39m\u001b[38;5;124md+\u001b[39m\u001b[38;5;124m'\u001b[39m, \u001b[43mtest_list\u001b[49m\u001b[38;5;241;43m.\u001b[39;49m\u001b[43mtext\u001b[49m)\n\u001b[0;32m      4\u001b[0m \u001b[38;5;28mprint\u001b[39m(test2_list)\n",
      "\u001b[1;31mAttributeError\u001b[0m: 'list' object has no attribute 'text'"
     ]
    }
   ],
   "source": [
    "import re\n",
    "\n",
    "test2_list = re.findall(r'\\d?,?\\d+', test_list.text)\n",
    "print(test2_list)"
   ]
  },
  {
   "cell_type": "code",
   "execution_count": 5,
   "metadata": {},
   "outputs": [
    {
     "name": "stdout",
     "output_type": "stream",
     "text": [
      "   index  result\n",
      "0      0       0\n",
      "1      1       2\n",
      "2      2       4\n",
      "3      3       6\n",
      "4      4       8\n",
      "5      5      10\n",
      "6      6      12\n",
      "7      7      14\n",
      "8      8      16\n",
      "9      9      18\n"
     ]
    }
   ],
   "source": [
    "import pandas as pd\n",
    "\n",
    "test_list = []\n",
    "\n",
    "for i in range(10):\n",
    "    test_list.append({\"index\":i, \"result\":2*i})\n",
    "\n",
    "df = pd.DataFrame(test_list)\n",
    "\n",
    "print(df)\n",
    "\n",
    "\n",
    "df.to_csv('./test.csv', index=False, encoding='utf-8-sig')"
   ]
  },
  {
   "cell_type": "code",
   "execution_count": 6,
   "metadata": {},
   "outputs": [
    {
     "ename": "AttributeError",
     "evalue": "'dict' object has no attribute 'text'",
     "output_type": "error",
     "traceback": [
      "\u001b[1;31m---------------------------------------------------------------------------\u001b[0m",
      "\u001b[1;31mAttributeError\u001b[0m                            Traceback (most recent call last)",
      "Cell \u001b[1;32mIn[6], line 1\u001b[0m\n\u001b[1;32m----> 1\u001b[0m a \u001b[38;5;241m=\u001b[39m \u001b[43mtest_list\u001b[49m\u001b[43m[\u001b[49m\u001b[38;5;241;43m3\u001b[39;49m\u001b[43m]\u001b[49m\u001b[38;5;241;43m.\u001b[39;49m\u001b[43mtext\u001b[49m\n\u001b[0;32m      2\u001b[0m b \u001b[38;5;241m=\u001b[39m test_list[\u001b[38;5;241m3\u001b[39m]\u001b[38;5;241m.\u001b[39mget_text()\n\u001b[0;32m      4\u001b[0m \u001b[38;5;28mprint\u001b[39m(a)\n",
      "\u001b[1;31mAttributeError\u001b[0m: 'dict' object has no attribute 'text'"
     ]
    }
   ],
   "source": [
    "a = test_list[3].text\n",
    "b = test_list[3].get_text()\n",
    "\n",
    "print(a)\n",
    "print(b)"
   ]
  }
 ],
 "metadata": {
  "kernelspec": {
   "display_name": ".venv",
   "language": "python",
   "name": "python3"
  },
  "language_info": {
   "codemirror_mode": {
    "name": "ipython",
    "version": 3
   },
   "file_extension": ".py",
   "mimetype": "text/x-python",
   "name": "python",
   "nbconvert_exporter": "python",
   "pygments_lexer": "ipython3",
   "version": "3.12.4"
  }
 },
 "nbformat": 4,
 "nbformat_minor": 2
}
