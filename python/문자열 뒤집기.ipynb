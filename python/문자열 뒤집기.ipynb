{
 "cells": [
  {
   "cell_type": "code",
   "execution_count": 43,
   "id": "6b8513d0-d034-4901-b195-40daa8acd13f",
   "metadata": {},
   "outputs": [],
   "source": [
    "def solution(my_string):\n",
    "    m = [my_string[i] for i in range(len(my_string)-1,-1,-1)]\n",
    "    return \"\".join(m)"
   ]
  },
  {
   "cell_type": "code",
   "execution_count": 39,
   "id": "0d0edb56-004b-46a7-a31a-2d6d0ad0d2c1",
   "metadata": {},
   "outputs": [
    {
     "data": {
      "text/plain": [
       "['f',\n",
       " 'd',\n",
       " 's',\n",
       " 'a',\n",
       " 'n',\n",
       " 's',\n",
       " 'l',\n",
       " 'f',\n",
       " 'a',\n",
       " 'g',\n",
       " 'r',\n",
       " 'a',\n",
       " 'f',\n",
       " 'd',\n",
       " 's',\n",
       " 'a']"
      ]
     },
     "execution_count": 39,
     "metadata": {},
     "output_type": "execute_result"
    }
   ],
   "source": [
    "my_string = 'asdfargaflsnasdf'\n",
    "solution(my_string)"
   ]
  },
  {
   "cell_type": "code",
   "execution_count": 29,
   "id": "0c7124fd-04d9-4ab6-818b-a1f4d19cbdab",
   "metadata": {},
   "outputs": [
    {
     "data": {
      "text/plain": [
       "'f'"
      ]
     },
     "execution_count": 29,
     "metadata": {},
     "output_type": "execute_result"
    }
   ],
   "source": [
    "my_string[15]"
   ]
  },
  {
   "cell_type": "code",
   "execution_count": 41,
   "id": "45017d91-0aca-4539-85ac-e86f965e5b01",
   "metadata": {},
   "outputs": [],
   "source": [
    "def solution(my_string):\n",
    "    return my_string[::-1]"
   ]
  },
  {
   "cell_type": "code",
   "execution_count": 45,
   "id": "d922615b-fff5-4075-87d9-2a88c017d923",
   "metadata": {},
   "outputs": [],
   "source": [
    "\n",
    "2\n",
    "3\n",
    "def solution(my_string):\n",
    "    return ''.join(list(reversed(my_string)))"
   ]
  },
  {
   "cell_type": "code",
   "execution_count": null,
   "id": "e7d28119-1579-464d-b211-86b3c95dcc40",
   "metadata": {},
   "outputs": [],
   "source": []
  }
 ],
 "metadata": {
  "kernelspec": {
   "display_name": "Python 3 (ipykernel)",
   "language": "python",
   "name": "python3"
  },
  "language_info": {
   "codemirror_mode": {
    "name": "ipython",
    "version": 3
   },
   "file_extension": ".py",
   "mimetype": "text/x-python",
   "name": "python",
   "nbconvert_exporter": "python",
   "pygments_lexer": "ipython3",
   "version": "3.12.4"
  }
 },
 "nbformat": 4,
 "nbformat_minor": 5
}
