{
 "cells": [
  {
   "cell_type": "code",
   "execution_count": null,
   "id": "367fd936-2df1-4f41-b17c-0c8327d00cfa",
   "metadata": {},
   "outputs": [],
   "source": [
    "def solution(num_list):\n",
    "    add = 0\n",
    "    even = 0\n",
    "    for i in num_list:\n",
    "        if i%2==0:\n",
    "            even += 1\n",
    "        else:\n",
    "            add += 1\n",
    "    answer = [even, add]\n",
    "    return answer"
   ]
  },
  {
   "cell_type": "code",
   "execution_count": null,
   "id": "1a840b28-7d65-4689-9063-9ee21debd451",
   "metadata": {},
   "outputs": [],
   "source": []
  },
  {
   "cell_type": "code",
   "execution_count": null,
   "id": "3bf3d077-d1b0-43fc-bfec-b63a85f6771f",
   "metadata": {},
   "outputs": [],
   "source": [
    "def solution(num_list):\n",
    "    answer = [0,0]\n",
    "    for n in num_list:\n",
    "        answer[n%2]+=1\n",
    "    return answer"
   ]
  }
 ],
 "metadata": {
  "kernelspec": {
   "display_name": "Python 3 (ipykernel)",
   "language": "python",
   "name": "python3"
  },
  "language_info": {
   "codemirror_mode": {
    "name": "ipython",
    "version": 3
   },
   "file_extension": ".py",
   "mimetype": "text/x-python",
   "name": "python",
   "nbconvert_exporter": "python",
   "pygments_lexer": "ipython3",
   "version": "3.12.4"
  }
 },
 "nbformat": 4,
 "nbformat_minor": 5
}
