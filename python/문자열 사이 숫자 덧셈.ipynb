{
 "cells": [
  {
   "cell_type": "code",
   "execution_count": 9,
   "id": "a315a3e1-e3a4-4075-8c3d-5863233825ed",
   "metadata": {},
   "outputs": [],
   "source": [
    "def solution(my_string):\n",
    "    a = \"\".join([i for i in my_string if (i in '1234567890')])\n",
    "    b = []\n",
    "    for i in range(len(a)):\n",
    "        b[i] = \n",
    "    \n",
    "    return sum(b)"
   ]
  },
  {
   "cell_type": "code",
   "execution_count": 11,
   "id": "b9eaaed2-af22-417e-b336-4f90fa4fd457",
   "metadata": {},
   "outputs": [
    {
     "ename": "IndexError",
     "evalue": "list assignment index out of range",
     "output_type": "error",
     "traceback": [
      "\u001b[1;31m---------------------------------------------------------------------------\u001b[0m",
      "\u001b[1;31mIndexError\u001b[0m                                Traceback (most recent call last)",
      "Cell \u001b[1;32mIn[11], line 2\u001b[0m\n\u001b[0;32m      1\u001b[0m my_string \u001b[38;5;241m=\u001b[39m \u001b[38;5;124m'\u001b[39m\u001b[38;5;124maidfn3304rdsjk8\u001b[39m\u001b[38;5;124m'\u001b[39m\n\u001b[1;32m----> 2\u001b[0m solution(my_string)\n",
      "Cell \u001b[1;32mIn[9], line 5\u001b[0m, in \u001b[0;36msolution\u001b[1;34m(my_string)\u001b[0m\n\u001b[0;32m      3\u001b[0m b \u001b[38;5;241m=\u001b[39m []\n\u001b[0;32m      4\u001b[0m \u001b[38;5;28;01mfor\u001b[39;00m i \u001b[38;5;129;01min\u001b[39;00m \u001b[38;5;28mrange\u001b[39m(\u001b[38;5;28mlen\u001b[39m(a)):\n\u001b[1;32m----> 5\u001b[0m     b[i] \u001b[38;5;241m=\u001b[39m a[i]\n\u001b[0;32m      7\u001b[0m \u001b[38;5;28;01mreturn\u001b[39;00m \u001b[38;5;28msum\u001b[39m(b)\n",
      "\u001b[1;31mIndexError\u001b[0m: list assignment index out of range"
     ]
    }
   ],
   "source": [
    "my_string = 'aidfn3304rdsjk8'\n",
    "solution(my_string)"
   ]
  },
  {
   "cell_type": "code",
   "execution_count": 13,
   "id": "f41a08a1-8f45-4e59-87d0-39c5a2b64282",
   "metadata": {},
   "outputs": [
    {
     "name": "stdout",
     "output_type": "stream",
     "text": [
      "33048\n"
     ]
    }
   ],
   "source": [
    "a = \"\".join([i for i in my_string if (i in '1234567890')])\n",
    "print(a)"
   ]
  },
  {
   "cell_type": "code",
   "execution_count": 15,
   "id": "6415b61c-1a13-4ff4-a30f-c8d1975f64c4",
   "metadata": {},
   "outputs": [
    {
     "data": {
      "text/plain": [
       "'3'"
      ]
     },
     "execution_count": 15,
     "metadata": {},
     "output_type": "execute_result"
    }
   ],
   "source": [
    "a[0]"
   ]
  },
  {
   "cell_type": "code",
   "execution_count": 17,
   "id": "268d325f-5d6a-468c-9f90-23af7651b081",
   "metadata": {},
   "outputs": [
    {
     "data": {
      "text/plain": [
       "5"
      ]
     },
     "execution_count": 17,
     "metadata": {},
     "output_type": "execute_result"
    }
   ],
   "source": [
    "len(a)"
   ]
  },
  {
   "cell_type": "code",
   "execution_count": 26,
   "id": "59a456e8-172c-4fe2-93d4-40144b3e1df9",
   "metadata": {},
   "outputs": [
    {
     "name": "stdout",
     "output_type": "stream",
     "text": [
      "['3']\n"
     ]
    }
   ],
   "source": [
    "b = []\n",
    "b.append(a[0])\n",
    "print(b)"
   ]
  },
  {
   "cell_type": "code",
   "execution_count": 48,
   "id": "454a44e8-bbf1-4767-a18f-556e15687f71",
   "metadata": {},
   "outputs": [],
   "source": [
    "def solution1(my_string):\n",
    "    a = \"\".join([i for i in my_string if (i in '1234567890')])\n",
    "    b = []\n",
    "    for i in range(len(a)):\n",
    "        b.append(a[i])\n",
    "    answer = list(map(int,b))\n",
    "    return sum(answer)\n",
    "    ##런타임 에러 ㅋㅋㅋ"
   ]
  },
  {
   "cell_type": "code",
   "execution_count": 50,
   "id": "2103ffd5-7bf0-4148-bb66-343307dd84c3",
   "metadata": {},
   "outputs": [
    {
     "data": {
      "text/plain": [
       "18"
      ]
     },
     "execution_count": 50,
     "metadata": {},
     "output_type": "execute_result"
    }
   ],
   "source": [
    "my_string = 'aidfn3304rdsjk8'\n",
    "solution1(my_string)"
   ]
  },
  {
   "cell_type": "code",
   "execution_count": null,
   "id": "7c7ff965-67fc-4e4c-b3ef-6a15e28497d4",
   "metadata": {},
   "outputs": [],
   "source": []
  }
 ],
 "metadata": {
  "kernelspec": {
   "display_name": "Python 3 (ipykernel)",
   "language": "python",
   "name": "python3"
  },
  "language_info": {
   "codemirror_mode": {
    "name": "ipython",
    "version": 3
   },
   "file_extension": ".py",
   "mimetype": "text/x-python",
   "name": "python",
   "nbconvert_exporter": "python",
   "pygments_lexer": "ipython3",
   "version": "3.12.4"
  }
 },
 "nbformat": 4,
 "nbformat_minor": 5
}
