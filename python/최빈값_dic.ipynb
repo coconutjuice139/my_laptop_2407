{
 "cells": [
  {
   "cell_type": "code",
   "execution_count": 104,
   "id": "337a8dfc-a622-44d5-b9a9-17bdfb239fc2",
   "metadata": {},
   "outputs": [],
   "source": [
    "def solution(array):\n",
    "    dic = {}\n",
    "    for k in array:\n",
    "        if k in dic:\n",
    "            dic[k] += 1\n",
    "        else:\n",
    "            dic[k] = 1\n",
    "    \n",
    "    key_val = [(v, k) for k, v in dic.items()]\n",
    "    key_val.sort(reverse=True)\n",
    "    \n",
    "    if key_val[0][0] == key_val[1][0]:\n",
    "        answer = -1\n",
    "    else:    \n",
    "        answer = key_val[0][1]\n",
    "    return answer"
   ]
  },
  {
   "cell_type": "code",
   "execution_count": 106,
   "id": "8dd8d35c-58a3-4bd3-8b08-f20eb0a2403c",
   "metadata": {},
   "outputs": [],
   "source": [
    "array = [1,1,2,2,2]"
   ]
  },
  {
   "cell_type": "code",
   "execution_count": 108,
   "id": "c3dce3bb-7a48-409c-ad36-351f8f33bfa8",
   "metadata": {},
   "outputs": [
    {
     "data": {
      "text/plain": [
       "2"
      ]
     },
     "execution_count": 108,
     "metadata": {},
     "output_type": "execute_result"
    }
   ],
   "source": [
    "solution(array)"
   ]
  },
  {
   "cell_type": "code",
   "execution_count": 110,
   "id": "697a263f-b2bd-4454-a93f-6b5b345649e6",
   "metadata": {},
   "outputs": [
    {
     "name": "stdout",
     "output_type": "stream",
     "text": [
      "2\n"
     ]
    }
   ],
   "source": [
    "print(solution(array))"
   ]
  },
  {
   "cell_type": "code",
   "execution_count": null,
   "id": "9f1303f9-e633-4377-a120-d93739809f2e",
   "metadata": {},
   "outputs": [],
   "source": []
  }
 ],
 "metadata": {
  "kernelspec": {
   "display_name": "Python 3 (ipykernel)",
   "language": "python",
   "name": "python3"
  },
  "language_info": {
   "codemirror_mode": {
    "name": "ipython",
    "version": 3
   },
   "file_extension": ".py",
   "mimetype": "text/x-python",
   "name": "python",
   "nbconvert_exporter": "python",
   "pygments_lexer": "ipython3",
   "version": "3.12.4"
  }
 },
 "nbformat": 4,
 "nbformat_minor": 5
}
