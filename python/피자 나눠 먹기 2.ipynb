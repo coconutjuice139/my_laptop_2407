{
 "cells": [
  {
   "cell_type": "code",
   "execution_count": 1,
   "id": "fa72c3f0-c3c5-462a-af09-f2719d52b6ca",
   "metadata": {},
   "outputs": [],
   "source": [
    "def solution(n):\n",
    "    pizza = 1\n",
    "    while (6*pizza)%n:\n",
    "        pizza += 1\n",
    "    return pizza\n"
   ]
  },
  {
   "cell_type": "code",
   "execution_count": 3,
   "id": "a4c4913b-f50d-4696-97eb-5b877ead49fb",
   "metadata": {},
   "outputs": [
    {
     "data": {
      "text/plain": [
       "1"
      ]
     },
     "execution_count": 3,
     "metadata": {},
     "output_type": "execute_result"
    }
   ],
   "source": [
    "def solution(n):\n",
    "    i=1\n",
    "    while(1):\n",
    "        if (6*i)%n==0:\n",
    "            return i\n",
    "        i+=1"
   ]
  },
  {
   "cell_type": "code",
   "execution_count": 5,
   "id": "8aabd464-585c-434e-ab8e-624e8ffb2b86",
   "metadata": {},
   "outputs": [
    {
     "data": {
      "text/plain": [
       "21"
      ]
     },
     "execution_count": 5,
     "metadata": {},
     "output_type": "execute_result"
    }
   ],
   "source": [
    "solution(63)"
   ]
  },
  {
   "cell_type": "code",
   "execution_count": null,
   "id": "af4d718f-d801-430f-ac7d-b3585db92aa4",
   "metadata": {},
   "outputs": [],
   "source": []
  }
 ],
 "metadata": {
  "kernelspec": {
   "display_name": "Python 3 (ipykernel)",
   "language": "python",
   "name": "python3"
  },
  "language_info": {
   "codemirror_mode": {
    "name": "ipython",
    "version": 3
   },
   "file_extension": ".py",
   "mimetype": "text/x-python",
   "name": "python",
   "nbconvert_exporter": "python",
   "pygments_lexer": "ipython3",
   "version": "3.12.4"
  }
 },
 "nbformat": 4,
 "nbformat_minor": 5
}
