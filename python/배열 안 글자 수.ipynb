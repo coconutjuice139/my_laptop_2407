{
 "cells": [
  {
   "cell_type": "code",
   "execution_count": 5,
   "id": "87e2c64b-ea75-4139-8011-c72f84713d57",
   "metadata": {},
   "outputs": [],
   "source": [
    "def solution(strlist):\n",
    "    return [len(strlist[i]) for i in range(len(strlist))]"
   ]
  },
  {
   "cell_type": "code",
   "execution_count": 7,
   "id": "d9b53698-ed77-4b38-a9ab-715ce121b2aa",
   "metadata": {},
   "outputs": [],
   "source": [
    "def solution(strlist):\n",
    "    answer = list(map(len, strlist))\n",
    "    return answer"
   ]
  },
  {
   "cell_type": "code",
   "execution_count": 9,
   "id": "609515c8-a37d-4933-b2fc-629a3cb634c9",
   "metadata": {},
   "outputs": [],
   "source": [
    "def solution(strlist):\n",
    "    return [len(str) for str in strlist]"
   ]
  },
  {
   "cell_type": "code",
   "execution_count": null,
   "id": "0648d8c4-dff8-46d7-ba7f-b5b021c142c6",
   "metadata": {},
   "outputs": [],
   "source": []
  }
 ],
 "metadata": {
  "kernelspec": {
   "display_name": "Python 3 (ipykernel)",
   "language": "python",
   "name": "python3"
  },
  "language_info": {
   "codemirror_mode": {
    "name": "ipython",
    "version": 3
   },
   "file_extension": ".py",
   "mimetype": "text/x-python",
   "name": "python",
   "nbconvert_exporter": "python",
   "pygments_lexer": "ipython3",
   "version": "3.12.4"
  }
 },
 "nbformat": 4,
 "nbformat_minor": 5
}
