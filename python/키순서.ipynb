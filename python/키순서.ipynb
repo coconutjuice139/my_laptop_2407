{
 "cells": [
  {
   "cell_type": "code",
   "execution_count": 45,
   "id": "16ffca83-aef0-4607-a939-2bfb168fe6ee",
   "metadata": {},
   "outputs": [
    {
     "name": "stdout",
     "output_type": "stream",
     "text": [
      "[150, 165, 170, 177, 189]\n",
      "0\n",
      "0\n",
      "0\n",
      "0\n",
      "0\n",
      "4\n",
      "1\n"
     ]
    }
   ],
   "source": [
    "array = [189, 170, 165, 177, 150]\n",
    "height = 189\n",
    "array.sort()\n",
    "print(array)\n",
    "for i in array:\n",
    "    if max(array) == height:\n",
    "        print(0)\n",
    "    if i < height:\n",
    "        continue\n",
    "    elif i > height:\n",
    "        a = array.index(i)\n",
    "        break\n",
    "\n",
    "print(a)\n",
    "answer = len(array)-a\n",
    "print(answer)"
   ]
  },
  {
   "cell_type": "code",
   "execution_count": 3,
   "id": "afa76c57-6171-497e-ba46-359e2aeeeb2a",
   "metadata": {},
   "outputs": [
    {
     "data": {
      "text/plain": [
       "2"
      ]
     },
     "execution_count": 3,
     "metadata": {},
     "output_type": "execute_result"
    }
   ],
   "source": [
    "array.index(170)"
   ]
  },
  {
   "cell_type": "code",
   "execution_count": 47,
   "id": "e7c7ce51-e266-4bef-836d-a0620377a693",
   "metadata": {},
   "outputs": [],
   "source": [
    "def solution(array, height):\n",
    "    return sum(1 for a in array if a > height)"
   ]
  },
  {
   "cell_type": "code",
   "execution_count": 49,
   "id": "7db3785e-2de7-45d3-ad76-c6b85bcfa954",
   "metadata": {},
   "outputs": [
    {
     "data": {
      "text/plain": [
       "0"
      ]
     },
     "execution_count": 49,
     "metadata": {},
     "output_type": "execute_result"
    }
   ],
   "source": [
    "solution(array, height)"
   ]
  },
  {
   "cell_type": "code",
   "execution_count": null,
   "id": "c16ce0d7-0f0e-4c2b-887a-92eafeaa4721",
   "metadata": {},
   "outputs": [],
   "source": []
  }
 ],
 "metadata": {
  "kernelspec": {
   "display_name": "Python 3 (ipykernel)",
   "language": "python",
   "name": "python3"
  },
  "language_info": {
   "codemirror_mode": {
    "name": "ipython",
    "version": 3
   },
   "file_extension": ".py",
   "mimetype": "text/x-python",
   "name": "python",
   "nbconvert_exporter": "python",
   "pygments_lexer": "ipython3",
   "version": "3.12.4"
  }
 },
 "nbformat": 4,
 "nbformat_minor": 5
}
