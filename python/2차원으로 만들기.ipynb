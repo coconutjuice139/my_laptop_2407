{
 "cells": [
  {
   "cell_type": "code",
   "execution_count": 17,
   "id": "331a3bd8-3424-43a6-8b97-aee68623da23",
   "metadata": {},
   "outputs": [],
   "source": [
    "def solution(num_list, n):\n",
    "    a = 0\n",
    "    inner = []\n",
    "    outer = []\n",
    "    for i in range(int(len(num_list)/n)):\n",
    "        for j in range(n):\n",
    "            inner.append(num_list[a])\n",
    "            print(inner)\n",
    "            a += 1\n",
    "        outer.append(inner[:])\n",
    "        inner.clear()\n",
    "    return outer"
   ]
  },
  {
   "cell_type": "code",
   "execution_count": 19,
   "id": "cf8a1054-3954-4d92-97f2-86d2f150a9d4",
   "metadata": {},
   "outputs": [
    {
     "name": "stdout",
     "output_type": "stream",
     "text": [
      "[1]\n",
      "[1, 23]\n",
      "[1, 23, 4]\n",
      "[5]\n",
      "[5, 67]\n",
      "[5, 67, 8]\n",
      "[9]\n",
      "[9, 76]\n",
      "[9, 76, 4]\n"
     ]
    },
    {
     "data": {
      "text/plain": [
       "[[1, 23, 4], [5, 67, 8], [9, 76, 4]]"
      ]
     },
     "execution_count": 19,
     "metadata": {},
     "output_type": "execute_result"
    }
   ],
   "source": [
    "num_list = [1,23,4,5,67,8,9,76,4]\n",
    "n = 3\n",
    "solution(num_list,n)"
   ]
  },
  {
   "cell_type": "code",
   "execution_count": 21,
   "id": "bd965739-7ed6-4861-9571-e75857aff0a3",
   "metadata": {},
   "outputs": [],
   "source": [
    "def solution(num_list, n):\n",
    "    answer = []\n",
    "    for i in range(0, len(num_list), n):\n",
    "        answer.append(num_list[i:i+n])\n",
    "    return answer"
   ]
  },
  {
   "cell_type": "code",
   "execution_count": null,
   "id": "016d8af5-74a6-4adf-b542-3b1e74faaa4c",
   "metadata": {},
   "outputs": [],
   "source": []
  }
 ],
 "metadata": {
  "kernelspec": {
   "display_name": "Python 3 (ipykernel)",
   "language": "python",
   "name": "python3"
  },
  "language_info": {
   "codemirror_mode": {
    "name": "ipython",
    "version": 3
   },
   "file_extension": ".py",
   "mimetype": "text/x-python",
   "name": "python",
   "nbconvert_exporter": "python",
   "pygments_lexer": "ipython3",
   "version": "3.12.4"
  }
 },
 "nbformat": 4,
 "nbformat_minor": 5
}
