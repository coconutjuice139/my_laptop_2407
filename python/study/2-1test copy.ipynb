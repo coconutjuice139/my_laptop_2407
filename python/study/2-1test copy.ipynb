{
 "cells": [
  {
   "cell_type": "code",
   "execution_count": 1,
   "metadata": {},
   "outputs": [],
   "source": [
    "class Note(object):\n",
    "    def __init__(self, content = None): # 노트 첫 생성\n",
    "        self.content = content\n",
    "\n",
    "    def write_content(self, content): # 노트의 내용 작성\n",
    "        self.content = content\n",
    "\n",
    "    def remove_all(self): # 노트 내용 삭제\n",
    "        self.content = \"\" \n",
    "    \n",
    "    def __add__(self, other): # 두 note의 합\n",
    "        return self.content + other.content\n",
    "    \n",
    "    def __str__(self): # note print\n",
    "        return self.content\n",
    "    \n",
    "\n",
    "class NoteBook(object):\n",
    "    def __init__(self, title): # 첫 노트북 생성\n",
    "        self.title = title\n",
    "        self.page_number = 1\n",
    "        self.notes = {}\n",
    "\n",
    "    def add_note(self, note, page = 0): #노트 추가\n",
    "        if self.page_number < 300: #페이지 수 300개 넘는지 확인\n",
    "            if page == 0:\n",
    "                self.notes[self.page_number] = note\n",
    "                self.page_number += 1\n",
    "            else:\n",
    "                self.notes = {page :note}\n",
    "                self.page_number += 1\n",
    "        else:\n",
    "            print('page가 모두 채워졌습니다.')\n",
    "\n",
    "    def remove_note(self, page_number): #노트 삭제\n",
    "        if page_number in self.notes.keys():\n",
    "            return self.notes.pop(page_number)\n",
    "        else:\n",
    "            print(\"해당 페이지는 존재하지 않습니다.\")\n",
    "\n",
    "    def get_number_of_pages(self): #노트 페이지 수 출력\n",
    "        return len(self.notes.keys())"
   ]
  },
  {
   "cell_type": "code",
   "execution_count": 2,
   "metadata": {},
   "outputs": [
    {
     "name": "stdout",
     "output_type": "stream",
     "text": [
      "테스트용\n"
     ]
    }
   ],
   "source": [
    "note1 = Note(\"테스트용\")\n",
    "print(note1)"
   ]
  },
  {
   "cell_type": "code",
   "execution_count": 3,
   "metadata": {},
   "outputs": [
    {
     "name": "stdout",
     "output_type": "stream",
     "text": [
      "테스트 22\n"
     ]
    }
   ],
   "source": [
    "note2 = Note(\"테스트 22\")\n",
    "print(note2)"
   ]
  },
  {
   "cell_type": "code",
   "execution_count": 4,
   "metadata": {},
   "outputs": [],
   "source": [
    "my_notebook = NoteBook(\"수정 버전\")"
   ]
  },
  {
   "cell_type": "code",
   "execution_count": 5,
   "metadata": {},
   "outputs": [
    {
     "name": "stdout",
     "output_type": "stream",
     "text": [
      "<__main__.NoteBook object at 0x0000021AE8693BC0>\n"
     ]
    }
   ],
   "source": [
    "print(my_notebook)"
   ]
  },
  {
   "cell_type": "code",
   "execution_count": 6,
   "metadata": {},
   "outputs": [],
   "source": [
    "my_notebook.add_note(note1)\n",
    "my_notebook.add_note(note2, 100)"
   ]
  },
  {
   "cell_type": "code",
   "execution_count": 7,
   "metadata": {},
   "outputs": [
    {
     "data": {
      "text/plain": [
       "1"
      ]
     },
     "execution_count": 7,
     "metadata": {},
     "output_type": "execute_result"
    }
   ],
   "source": [
    "my_notebook.get_number_of_pages()"
   ]
  },
  {
   "cell_type": "code",
   "execution_count": 8,
   "metadata": {},
   "outputs": [
    {
     "data": {
      "text/plain": [
       "dict_keys([100])"
      ]
     },
     "execution_count": 8,
     "metadata": {},
     "output_type": "execute_result"
    }
   ],
   "source": [
    "my_notebook.notes.keys()"
   ]
  },
  {
   "cell_type": "code",
   "execution_count": null,
   "metadata": {},
   "outputs": [],
   "source": []
  }
 ],
 "metadata": {
  "kernelspec": {
   "display_name": "base",
   "language": "python",
   "name": "python3"
  },
  "language_info": {
   "codemirror_mode": {
    "name": "ipython",
    "version": 3
   },
   "file_extension": ".py",
   "mimetype": "text/x-python",
   "name": "python",
   "nbconvert_exporter": "python",
   "pygments_lexer": "ipython3",
   "version": "3.12.4"
  }
 },
 "nbformat": 4,
 "nbformat_minor": 2
}
