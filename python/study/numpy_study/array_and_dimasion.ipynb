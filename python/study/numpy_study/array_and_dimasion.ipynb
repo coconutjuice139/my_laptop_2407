{
 "cells": [
  {
   "cell_type": "markdown",
   "metadata": {},
   "source": [
    "# programmers에서 제공하는 수업 내용"
   ]
  },
  {
   "cell_type": "code",
   "execution_count": 16,
   "metadata": {},
   "outputs": [],
   "source": [
    "# n차원 배열 (narray) 생성하기\n",
    "\n",
    "import numpy as np\n",
    "\n"
   ]
  },
  {
   "cell_type": "code",
   "execution_count": 17,
   "metadata": {},
   "outputs": [
    {
     "name": "stdout",
     "output_type": "stream",
     "text": [
      "[1 2 3]\n",
      "[[1 2 3]\n",
      " [4 5 6]]\n"
     ]
    }
   ],
   "source": [
    "# 1차원 배열\n",
    "arr = np.array([1,2,3])\n",
    "print(arr)\n",
    "\n",
    "# 2차원 배열\n",
    "arr = np.array([[1, 2, 3],\n",
    "                [4, 5, 6]])\n",
    "print(arr)"
   ]
  },
  {
   "cell_type": "code",
   "execution_count": 18,
   "metadata": {},
   "outputs": [
    {
     "data": {
      "text/plain": [
       "list"
      ]
     },
     "execution_count": 18,
     "metadata": {},
     "output_type": "execute_result"
    }
   ],
   "source": [
    "type([1, 2, 3])"
   ]
  },
  {
   "cell_type": "code",
   "execution_count": 19,
   "metadata": {},
   "outputs": [
    {
     "data": {
      "text/plain": [
       "numpy.ndarray"
      ]
     },
     "execution_count": 19,
     "metadata": {},
     "output_type": "execute_result"
    }
   ],
   "source": [
    "type(arr)"
   ]
  },
  {
   "cell_type": "code",
   "execution_count": 20,
   "metadata": {},
   "outputs": [
    {
     "name": "stdout",
     "output_type": "stream",
     "text": [
      "[4 5 6]\n"
     ]
    }
   ],
   "source": [
    "tpl = (4, 5, 6)\n",
    "\n",
    "arr = np.array(tpl)\n",
    "print(arr)"
   ]
  },
  {
   "cell_type": "code",
   "execution_count": 21,
   "metadata": {},
   "outputs": [
    {
     "name": "stdout",
     "output_type": "stream",
     "text": [
      "[4 5 6]\n"
     ]
    }
   ],
   "source": [
    "lst = [4, 5, 6]\n",
    "\n",
    "arr = np.array(lst)\n",
    "print(arr)"
   ]
  },
  {
   "cell_type": "code",
   "execution_count": 22,
   "metadata": {},
   "outputs": [
    {
     "name": "stdout",
     "output_type": "stream",
     "text": [
      "[[1 2 3]\n",
      " [4 5 6]]\n"
     ]
    }
   ],
   "source": [
    "lst2 = [[1, 2, 3], [4, 5, 6]]\n",
    "\n",
    "arr2 = np.array(lst2)\n",
    "print(arr2)"
   ]
  },
  {
   "cell_type": "code",
   "execution_count": 23,
   "metadata": {},
   "outputs": [
    {
     "name": "stdout",
     "output_type": "stream",
     "text": [
      "(3,)\n"
     ]
    }
   ],
   "source": [
    "# array shape\n",
    "\n",
    "arr1 = np.array([1, 2, 3])\n",
    "arr2 = np.array([[1, 2, 3],[4, 5, 6]])\n",
    "\n",
    "print(arr1.shape)"
   ]
  },
  {
   "cell_type": "code",
   "execution_count": 24,
   "metadata": {},
   "outputs": [
    {
     "name": "stdout",
     "output_type": "stream",
     "text": [
      "(2, 3)\n"
     ]
    }
   ],
   "source": [
    "print(arr2.shape)"
   ]
  },
  {
   "cell_type": "code",
   "execution_count": 25,
   "metadata": {},
   "outputs": [
    {
     "name": "stdout",
     "output_type": "stream",
     "text": [
      "1\n",
      "2\n"
     ]
    }
   ],
   "source": [
    "# ndimansion 어레이 차원 확인\n",
    "\n",
    "print(arr1.ndim)\n",
    "print(arr2.ndim)"
   ]
  },
  {
   "cell_type": "code",
   "execution_count": 26,
   "metadata": {},
   "outputs": [
    {
     "name": "stdout",
     "output_type": "stream",
     "text": [
      "3\n",
      "6\n"
     ]
    }
   ],
   "source": [
    "# n array size 확인\n",
    "\n",
    "print(arr1.size)\n",
    "print(arr2.size)"
   ]
  },
  {
   "cell_type": "code",
   "execution_count": 31,
   "metadata": {},
   "outputs": [
    {
     "name": "stdout",
     "output_type": "stream",
     "text": [
      "[1. 2. 3.] float64\n"
     ]
    }
   ],
   "source": [
    "# n차원 배열의 데이터 타입 확인\n",
    "\n",
    "import numpy as np\n",
    "\n",
    "arr = np.array([1, 2, 3], dtype=np.float64) # 뒤의 숫자는 용량을 나타내는 것으로 숫자가 크면 클수록 더욱 많은 메모리를 사용하게 된다.\n",
    "print(arr, arr.dtype)"
   ]
  },
  {
   "cell_type": "code",
   "execution_count": 33,
   "metadata": {},
   "outputs": [
    {
     "name": "stdout",
     "output_type": "stream",
     "text": [
      "[1 2 3] int32\n"
     ]
    }
   ],
   "source": [
    "arr = np.array([1.1, 2.2, 3.3], dtype=np.int32) # 뒤의 숫자는 용량을 나타내는 것으로 숫자가 크면 클수록 더욱 많은 메모리를 사용하게 된다.\n",
    "print(arr, arr.dtype)"
   ]
  },
  {
   "cell_type": "code",
   "execution_count": 34,
   "metadata": {},
   "outputs": [
    {
     "name": "stdout",
     "output_type": "stream",
     "text": [
      "[False  True  True] bool\n"
     ]
    }
   ],
   "source": [
    "arr = np.array([0,1,1], dtype=np.bool) # dtype을 이용하면 bool도 판단 가능\n",
    "print(arr, arr.dtype)"
   ]
  },
  {
   "cell_type": "code",
   "execution_count": 35,
   "metadata": {},
   "outputs": [
    {
     "name": "stdout",
     "output_type": "stream",
     "text": [
      "[0 1 2 3] int64\n"
     ]
    }
   ],
   "source": [
    "arr = np.array([0, 1, 2, 3])\n",
    "print(arr, arr.dtype)"
   ]
  },
  {
   "cell_type": "code",
   "execution_count": 37,
   "metadata": {},
   "outputs": [
    {
     "name": "stdout",
     "output_type": "stream",
     "text": [
      "[0. 1. 2. 3.] float32\n"
     ]
    }
   ],
   "source": [
    "arr = arr.astype(np.float32) # 기존의 int64 타입을 astype을 이용하여 float32타입으로 변경\n",
    "print(arr, arr.dtype)"
   ]
  },
  {
   "cell_type": "code",
   "execution_count": 38,
   "metadata": {},
   "outputs": [
    {
     "name": "stdout",
     "output_type": "stream",
     "text": [
      "[1.  2.  3.4] float64\n"
     ]
    }
   ],
   "source": [
    "# 데이터 타입이 혼재하는 경우\n",
    "arr = np.array([1, 2, 3.4]) \n",
    "print(arr, arr.dtype)"
   ]
  },
  {
   "cell_type": "code",
   "execution_count": 40,
   "metadata": {},
   "outputs": [
    {
     "name": "stdout",
     "output_type": "stream",
     "text": [
      "['1' '2' '3.4' '64'] <U21\n"
     ]
    }
   ],
   "source": [
    "arr = np.array([1, 2, \"3.4\", \"64\"]) \n",
    "print(arr, arr.dtype)"
   ]
  },
  {
   "cell_type": "code",
   "execution_count": 42,
   "metadata": {},
   "outputs": [
    {
     "name": "stdout",
     "output_type": "stream",
     "text": [
      "[ 1  2  3 64] int64\n"
     ]
    }
   ],
   "source": [
    "arr = np.array([1, 2, 3.4, \"64\"], dtype=int) # dtype을 통해 내부에 문자열 숫자를 int 혹은 float로 변환 가능\n",
    "print(arr, arr.dtype)"
   ]
  },
  {
   "cell_type": "code",
   "execution_count": 43,
   "metadata": {},
   "outputs": [
    {
     "name": "stdout",
     "output_type": "stream",
     "text": [
      "[[0. 0.]\n",
      " [0. 0.]]\n"
     ]
    }
   ],
   "source": [
    "## 정해진 형식의 N차원 배열 생성하기\n",
    "\n",
    "# np.zeros() # 내부는 shape 행렬로\n",
    "\n",
    "arr = np.zeros([2, 2])\n",
    "print(arr)"
   ]
  },
  {
   "cell_type": "code",
   "execution_count": 45,
   "metadata": {},
   "outputs": [
    {
     "name": "stdout",
     "output_type": "stream",
     "text": [
      "[[1. 1. 1. 1. 1.]\n",
      " [1. 1. 1. 1. 1.]\n",
      " [1. 1. 1. 1. 1.]\n",
      " [1. 1. 1. 1. 1.]]\n"
     ]
    }
   ],
   "source": [
    "# np.ones() # 내부는 shape 행렬로\n",
    "\n",
    "arr = np.ones([4, 5])\n",
    "print(arr)"
   ]
  },
  {
   "cell_type": "code",
   "execution_count": 46,
   "metadata": {},
   "outputs": [
    {
     "name": "stdout",
     "output_type": "stream",
     "text": [
      "[[5 5 5]\n",
      " [5 5 5]]\n"
     ]
    }
   ],
   "source": [
    "# np.full() # 모든 원소들이 지정된 fill value로 채워진다.\n",
    "\n",
    "arr = np.full((2,3), 5) # 앞에 튜플 형식으로 작성해야 함.\n",
    "print(arr)"
   ]
  },
  {
   "cell_type": "code",
   "execution_count": 50,
   "metadata": {},
   "outputs": [
    {
     "name": "stdout",
     "output_type": "stream",
     "text": [
      "[[0. 0. 0. 0.]\n",
      " [1. 0. 0. 0.]\n",
      " [0. 1. 0. 0.]\n",
      " [0. 0. 1. 0.]\n",
      " [0. 0. 0. 1.]]\n"
     ]
    }
   ],
   "source": [
    "# np.eye() # 대각 원소가 1인 행렬을 만들고 n,m으로 작성 가능, m을 생략하면 nxn의 정방행렬이 나옴\n",
    "\n",
    "arr=np.eye(5, 4, k= -1) # 대각 원소의 발생 지점을 설정할 수 있음\n",
    "\n",
    "print(arr)"
   ]
  },
  {
   "cell_type": "code",
   "execution_count": 51,
   "metadata": {},
   "outputs": [
    {
     "name": "stdout",
     "output_type": "stream",
     "text": [
      "[[0 0 0]\n",
      " [0 0 0]]\n"
     ]
    }
   ],
   "source": [
    "arr = np.array([[1, 2, 3],\n",
    "               [4, 5, 6]])\n",
    "\n",
    "#np.zeros_like()\n",
    "\n",
    "arr_z = np.zeros_like(arr)\n",
    "print(arr_z)"
   ]
  },
  {
   "cell_type": "code",
   "execution_count": 52,
   "metadata": {},
   "outputs": [
    {
     "name": "stdout",
     "output_type": "stream",
     "text": [
      "[[1 1 1]\n",
      " [1 1 1]]\n"
     ]
    }
   ],
   "source": [
    "# np.ones_like()\n",
    "\n",
    "arr_o = np.ones_like(arr)\n",
    "print(arr_o)"
   ]
  },
  {
   "cell_type": "code",
   "execution_count": 53,
   "metadata": {},
   "outputs": [
    {
     "name": "stdout",
     "output_type": "stream",
     "text": [
      "[[8 8 8]\n",
      " [8 8 8]]\n"
     ]
    }
   ],
   "source": [
    "# np.full_like()\n",
    "\n",
    "arr_f = np.full_like(arr, 8)\n",
    "print(arr_f)"
   ]
  },
  {
   "cell_type": "code",
   "execution_count": 54,
   "metadata": {},
   "outputs": [
    {
     "name": "stdout",
     "output_type": "stream",
     "text": [
      "[0, 2, 4, 6, 8]\n"
     ]
    }
   ],
   "source": [
    "lst = list(range(0,9,2))\n",
    "print(lst)"
   ]
  },
  {
   "cell_type": "code",
   "execution_count": 55,
   "metadata": {},
   "outputs": [
    {
     "name": "stdout",
     "output_type": "stream",
     "text": [
      "[0 1 2 3 4 5 6 7 8]\n"
     ]
    }
   ],
   "source": [
    "# np에서 특정 범위의 값을 가지는 n차원 배열 생성하기\n",
    "\n",
    "arr = np.arange(9)\n",
    "print(arr)"
   ]
  },
  {
   "cell_type": "code",
   "execution_count": 57,
   "metadata": {},
   "outputs": [
    {
     "name": "stdout",
     "output_type": "stream",
     "text": [
      "[ 2  3  4  5  6  7  8  9 10 11 12 13 14 15 16 17 18 19]\n"
     ]
    }
   ],
   "source": [
    "arr = np.arange(2, 20)\n",
    "print(arr)"
   ]
  },
  {
   "cell_type": "code",
   "execution_count": 59,
   "metadata": {},
   "outputs": [
    {
     "name": "stdout",
     "output_type": "stream",
     "text": [
      "[ 1 21 41 61 81]\n"
     ]
    }
   ],
   "source": [
    "arr = np.arange(1, 100, 20)\n",
    "print(arr)"
   ]
  },
  {
   "cell_type": "code",
   "execution_count": 60,
   "metadata": {},
   "outputs": [
    {
     "name": "stdout",
     "output_type": "stream",
     "text": [
      "[2 4 6 8]\n"
     ]
    }
   ],
   "source": [
    "arr = np.arange(stop = 9, start = 2, step = 2)\n",
    "print(arr)"
   ]
  },
  {
   "cell_type": "code",
   "execution_count": 61,
   "metadata": {},
   "outputs": [
    {
     "name": "stdout",
     "output_type": "stream",
     "text": [
      "[  0.  10.  20.  30.  40.  50.  60.  70.  80.  90. 100.]\n"
     ]
    }
   ],
   "source": [
    "# np.linspace()\n",
    "\n",
    "arr = np.linspace(0,100,11) # 0~ 100까지의 11개의 원소를 균등한 간격으로 배열을 생성\n",
    "print(arr)\n",
    " "
   ]
  },
  {
   "cell_type": "code",
   "execution_count": 62,
   "metadata": {},
   "outputs": [],
   "source": [
    "# arange와 linspace의 차이는 stop값에 차이가 있다.\n",
    "# 그리고 arange는 마지막이 step이지만\n",
    "# linspace는 몇개의 원소로 이루어져 있는가는 의미이다\n"
   ]
  },
  {
   "cell_type": "code",
   "execution_count": 63,
   "metadata": {},
   "outputs": [
    {
     "name": "stdout",
     "output_type": "stream",
     "text": [
      "[ 1.  2.  3.  4.  5.  6.  7.  8.  9. 10.]\n",
      "\n",
      "[   2.    4.    8.   16.   32.   64.  128.  256.  512. 1024.]\n"
     ]
    }
   ],
   "source": [
    "# np.logspace()\n",
    "\n",
    "arr = np.linspace(1, 10, 10)\n",
    "print(arr, end = \"\\n\\n\")\n",
    "\n",
    "arr = np.logspace(1, 10, 10, base=2) # 밑이 해당 값을 가지는 lon_{base} {value}의 value 값을 추출해준다.\n",
    "print(arr)"
   ]
  },
  {
   "cell_type": "code",
   "execution_count": 64,
   "metadata": {},
   "outputs": [
    {
     "name": "stdout",
     "output_type": "stream",
     "text": [
      "[1.e+01 1.e+02 1.e+03 1.e+04 1.e+05 1.e+06 1.e+07 1.e+08 1.e+09 1.e+10]\n"
     ]
    }
   ],
   "source": [
    "arr=np.logspace(1, 10, 10) #밑을 지정하지 않으면 10을 기준으로 추출해준다.\n",
    "print(arr)"
   ]
  },
  {
   "cell_type": "code",
   "execution_count": 65,
   "metadata": {},
   "outputs": [],
   "source": [
    "# 난수로 이루어진 n차원 배열 생성하기\n",
    "\n",
    "#데이터를 시각화 할 수 있는 matplotlib가 필요하다.\n",
    "\n",
    "import matplotlib.pyplot as plt"
   ]
  },
  {
   "cell_type": "code",
   "execution_count": 66,
   "metadata": {},
   "outputs": [
    {
     "name": "stdout",
     "output_type": "stream",
     "text": [
      "[-0.54443489 -0.69147666 -1.32394541  2.7085137   0.11945534 -1.02048049\n",
      "  0.52144482  1.89245535  1.49076036 -1.048447  ]\n"
     ]
    }
   ],
   "source": [
    "# np.random.normal()\n",
    "\n",
    "# arr = np.random.normal(loc, scale, size) # 평균, 표준편차, 추출할 표본의 갯수\n",
    "\n",
    "arr = np.random.normal(0, 1, 10) \n",
    "print(arr)"
   ]
  },
  {
   "cell_type": "code",
   "execution_count": 67,
   "metadata": {},
   "outputs": [
    {
     "name": "stdout",
     "output_type": "stream",
     "text": [
      "[[-0.25924997 -1.64741944 -0.10925778 -1.66852079]\n",
      " [ 0.40093835 -0.50909934  1.1366806  -1.34151915]]\n"
     ]
    }
   ],
   "source": [
    "arr = np.random.normal(0, 1, (2, 4)) #size에 튜플로 집어넣으면 행렬로 얻을 수 있음\n",
    "print(arr)"
   ]
  },
  {
   "cell_type": "code",
   "execution_count": 68,
   "metadata": {},
   "outputs": [
    {
     "data": {
      "image/png": "[encoded data removed]",
      "text/plain": [
       "<Figure size 640x480 with 1 Axes>"
      ]
     },
     "metadata": {},
     "output_type": "display_data"
    }
   ],
   "source": [
    "arr = np.random.normal(0, 1, 1000)\n",
    "plt.hist(arr, bins=100) #bins 난수를 몇개의 구간으로 나누어서 볼것인가?\n",
    "plt.show()"
   ]
  },
  {
   "cell_type": "code",
   "execution_count": 69,
   "metadata": {},
   "outputs": [
    {
     "data": {
      "image/png": "[encoded data removed]",
      "text/plain": [
       "<Figure size 640x480 with 1 Axes>"
      ]
     },
     "metadata": {},
     "output_type": "display_data"
    }
   ],
   "source": [
    "# np.random.rand() #0~1의 값을 균등한 비율로 표본을 추출하는 함수\n",
    "arr = np.random.rand(1000) # 인자는 표본 갯수\n",
    "plt.hist(arr, bins=100)\n",
    "plt.show()"
   ]
  },
  {
   "cell_type": "code",
   "execution_count": 70,
   "metadata": {},
   "outputs": [
    {
     "data": {
      "image/png": "[encoded data removed]",
      "text/plain": [
       "<Figure size 640x480 with 1 Axes>"
      ]
     },
     "metadata": {},
     "output_type": "display_data"
    }
   ],
   "source": [
    "# np.random.randn() 랜덤한 수를 가우시안 분포(정규분포)형태에 맞게 추출해줌\n",
    "\n",
    "arr = np.random.randn(1000)\n",
    "plt.hist(arr, bins=100)\n",
    "plt.show()"
   ]
  },
  {
   "cell_type": "code",
   "execution_count": 71,
   "metadata": {},
   "outputs": [
    {
     "name": "stdout",
     "output_type": "stream",
     "text": [
      "[2 4 3 4 3 2 1 4 2 3]\n"
     ]
    }
   ],
   "source": [
    "# np.random.randint() 랜덤한 정수를 출력\n",
    "\n",
    "arr= np.random.randint(low = 1, high = 5, size = 10) # low~high까지 size만큼 배열을 만들어줌\n",
    "print(arr)\n"
   ]
  },
  {
   "cell_type": "code",
   "execution_count": 73,
   "metadata": {},
   "outputs": [
    {
     "name": "stdout",
     "output_type": "stream",
     "text": [
      "[[4 4 4]\n",
      " [4 4 2]\n",
      " [3 4 2]\n",
      " [1 3 4]]\n"
     ]
    }
   ],
   "source": [
    "arr= np.random.randint(low = 1, high = 5, size = (4, 3)) # low~high까지 size만큼 배열을 만들어줌\n",
    "print(arr)"
   ]
  },
  {
   "cell_type": "code",
   "execution_count": 74,
   "metadata": {},
   "outputs": [
    {
     "data": {
      "image/png": "[encoded data removed]",
      "text/plain": [
       "<Figure size 640x480 with 1 Axes>"
      ]
     },
     "metadata": {},
     "output_type": "display_data"
    }
   ],
   "source": [
    "arr = np.random.randint(100, 200, 10000)\n",
    "plt.hist(arr, bins=100)\n",
    "plt.show()"
   ]
  },
  {
   "cell_type": "code",
   "execution_count": 75,
   "metadata": {},
   "outputs": [
    {
     "name": "stdout",
     "output_type": "stream",
     "text": [
      "난수 발생 1\n",
      " [0.53839466 0.66021932 0.42115451 0.05240119 0.77960591 0.28295487\n",
      " 0.11399406 0.39941919 0.30007567 0.29408076]\n",
      "난수 발생 2\n",
      " [0.24910056 0.73112982 0.88421249 0.07951889 0.11474279 0.97250871\n",
      " 0.09340796 0.91271372 0.00753651 0.24308063]\n"
     ]
    }
   ],
   "source": [
    "# 시드(seed)값을 통한 난수 생성 제어\n",
    "\n",
    "arr = np.random.rand(10)\n",
    "print(\"난수 발생 1\\n\", arr)\n",
    "arr = np.random.rand(10)\n",
    "print(\"난수 발생 2\\n\", arr)"
   ]
  },
  {
   "cell_type": "code",
   "execution_count": 78,
   "metadata": {},
   "outputs": [
    {
     "name": "stdout",
     "output_type": "stream",
     "text": [
      "난수 발생 1\n",
      " [0.77132064 0.02075195 0.63364823 0.74880388 0.49850701 0.22479665\n",
      " 0.19806286 0.76053071 0.16911084 0.08833981]\n",
      "난수 발생 2\n",
      " [0.77132064 0.02075195 0.63364823 0.74880388 0.49850701 0.22479665\n",
      " 0.19806286 0.76053071 0.16911084 0.08833981]\n"
     ]
    }
   ],
   "source": [
    "np.random.seed(10) # 시드값을 지정해서 랜덤을 불러오면 똑같은 난수를 생성한다.\n",
    "arr = np.random.rand(10)\n",
    "print(\"난수 발생 1\\n\", arr)\n",
    "np.random.seed(10)\n",
    "arr = np.random.rand(10)\n",
    "print(\"난수 발생 2\\n\", arr)"
   ]
  },
  {
   "cell_type": "code",
   "execution_count": null,
   "metadata": {},
   "outputs": [],
   "source": []
  }
 ],
 "metadata": {
  "kernelspec": {
   "display_name": ".venv",
   "language": "python",
   "name": "python3"
  },
  "language_info": {
   "codemirror_mode": {
    "name": "ipython",
    "version": 3
   },
   "file_extension": ".py",
   "mimetype": "text/x-python",
   "name": "python",
   "nbconvert_exporter": "python",
   "pygments_lexer": "ipython3",
   "version": "3.12.4"
  }
 },
 "nbformat": 4,
 "nbformat_minor": 2
}
