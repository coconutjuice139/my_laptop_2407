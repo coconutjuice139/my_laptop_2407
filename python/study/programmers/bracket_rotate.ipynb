{
 "cells": [
  {
   "cell_type": "code",
   "execution_count": 60,
   "metadata": {},
   "outputs": [],
   "source": [
    "def solution(s):\n",
    "    from collections import deque\n",
    "    s = deque(s)\n",
    "    count = 0 # 전체 카운트\n",
    "    for _ in range(len(s)-1):\n",
    "        count_paren = 0 # 소괄호\n",
    "        count_curly = 0 # 중괄호\n",
    "        count_square = 0 # 대괄호\n",
    "        for i in range(len(s)):\n",
    "            if s[i] == '(':\n",
    "                count_paren += 1\n",
    "            elif s[i] == ')':\n",
    "                count_paren -= 1\n",
    "                if count_paren < 0:\n",
    "                    break\n",
    "            if s[i] == '{':\n",
    "                count_curly += 1\n",
    "            elif s[i] == '}':\n",
    "                count_curly -= 1\n",
    "                if count_curly < 0:\n",
    "                    break\n",
    "            if s[i] == '[':\n",
    "                count_square += 1\n",
    "            elif s[i] == ']':\n",
    "                count_square -= 1\n",
    "                if count_square < 0:\n",
    "                    break\n",
    "        if (count_paren, count_curly, count_square) == (0,0,0):\n",
    "            count += 1\n",
    "        s.appendleft(s.pop())\n",
    "    return count"
   ]
  },
  {
   "cell_type": "code",
   "execution_count": 64,
   "metadata": {},
   "outputs": [
    {
     "data": {
      "text/plain": [
       "1"
      ]
     },
     "execution_count": 64,
     "metadata": {},
     "output_type": "execute_result"
    }
   ],
   "source": [
    "s = '([)]'\n",
    "solution(s)"
   ]
  },
  {
   "cell_type": "code",
   "execution_count": null,
   "metadata": {},
   "outputs": [],
   "source": [
    "def solution(s):\n",
    "    from collections import deque\n",
    "    s = deque(s)\n",
    "    count = 0\n",
    "    for _ in range(len(s)-1):\n",
    "        stack = []\n",
    "        for i in range(len(s)):\n",
    "            if stack:\n",
    "                if stack[-1] == '[' and s[i] == ']':\n",
    "                    stack.pop()\n",
    "                elif stack[-1] == '{' and s[i] == '}':\n",
    "                    stack.pop()\n",
    "                elif stack[-1] == '(' and s[i] == ')':\n",
    "                    stack.pop()\n",
    "                else:\n",
    "                    stack.append(s[i])\n",
    "            else:\n",
    "                stack.append(s[i])\n",
    "        s.appendleft(s.pop())\n",
    "        if not stack:\n",
    "            count += 1\n",
    "    return count"
   ]
  },
  {
   "cell_type": "code",
   "execution_count": 67,
   "metadata": {},
   "outputs": [
    {
     "data": {
      "text/plain": [
       "True"
      ]
     },
     "execution_count": 67,
     "metadata": {},
     "output_type": "execute_result"
    }
   ],
   "source": [
    "bool([1])"
   ]
  },
  {
   "cell_type": "code",
   "execution_count": null,
   "metadata": {},
   "outputs": [],
   "source": []
  }
 ],
 "metadata": {
  "kernelspec": {
   "display_name": "Python 3",
   "language": "python",
   "name": "python3"
  },
  "language_info": {
   "codemirror_mode": {
    "name": "ipython",
    "version": 3
   },
   "file_extension": ".py",
   "mimetype": "text/x-python",
   "name": "python",
   "nbconvert_exporter": "python",
   "pygments_lexer": "ipython3",
   "version": "3.12.4"
  }
 },
 "nbformat": 4,
 "nbformat_minor": 2
}
