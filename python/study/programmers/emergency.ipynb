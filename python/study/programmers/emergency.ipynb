{
 "cells": [
  {
   "cell_type": "code",
   "execution_count": 18,
   "metadata": {},
   "outputs": [],
   "source": [
    "def solution(emergency):\n",
    "    # emer_origin = emergency # 본래 순서에서 emergency의 인덱스 추출(원래 순서 어딘지 파악)\n",
    "    rev_emer = sorted(emergency, reverse = True)# emergency를 역정렬해서 emergency가 큰 순서로 변환\n",
    "    print(rev_emer)\n",
    "    print(emergency)\n",
    "    answer = list(map(int,range(len(emergency))))\n",
    "    for j in range(len(rev_emer)):\n",
    "        for i in range(len(emergency)):#  ㄴ 값을 찾을 때 까지 반복\n",
    "            if emergency[i] == rev_emer[j]:#  ㄴ 원래 숫자가 있으면? 값 할당, 아니면? 다른 곳 살펴보기\n",
    "                answer[i] = j+1 # 해당 숫자가 원래 있던 인덱스에 배당\n",
    "                continue\n",
    "\n",
    "    return answer"
   ]
  },
  {
   "cell_type": "code",
   "execution_count": 19,
   "metadata": {},
   "outputs": [
    {
     "name": "stdout",
     "output_type": "stream",
     "text": [
      "[72, 56, 40, 6]\n",
      "[6, 72, 40, 56]\n"
     ]
    },
    {
     "data": {
      "text/plain": [
       "[4, 1, 3, 2]"
      ]
     },
     "execution_count": 19,
     "metadata": {},
     "output_type": "execute_result"
    }
   ],
   "source": [
    "import random\n",
    "\n",
    "emergency = []\n",
    "for i in range(random.randint(1, 10)):\n",
    "    emergency.append(random.randint(1, 100))\n",
    "\n",
    "solution(emergency)"
   ]
  },
  {
   "cell_type": "code",
   "execution_count": null,
   "metadata": {},
   "outputs": [],
   "source": [
    "# 본래 순서에서 emergency의 인덱스 추출(원래 순서 어딘지 파악)\n",
    "# emergency를 역정렬해서 emergency가 큰 순서로 변환\n",
    "# 해당 숫자가 원래 있던 인덱스에 배당\n",
    "#  ㄴ 원래 숫자가 있으면? 값 할당, 아니면? 다른 곳 살펴보기\n",
    "#  ㄴ 값을 찾을 때 까지 반복\n",
    "# 인덱스 +1 값을 추출해서 순서도 완성"
   ]
  }
 ],
 "metadata": {
  "kernelspec": {
   "display_name": ".venv",
   "language": "python",
   "name": "python3"
  },
  "language_info": {
   "codemirror_mode": {
    "name": "ipython",
    "version": 3
   },
   "file_extension": ".py",
   "mimetype": "text/x-python",
   "name": "python",
   "nbconvert_exporter": "python",
   "pygments_lexer": "ipython3",
   "version": "3.12.4"
  }
 },
 "nbformat": 4,
 "nbformat_minor": 2
}
