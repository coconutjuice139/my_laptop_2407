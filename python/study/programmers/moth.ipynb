{
 "cells": [
  {
   "cell_type": "code",
   "execution_count": 1,
   "metadata": {},
   "outputs": [],
   "source": [
    "morse = { \n",
    "    '.-':'a','-...':'b','-.-.':'c','-..':'d','.':'e','..-.':'f',\n",
    "    '--.':'g','....':'h','..':'i','.---':'j','-.-':'k','.-..':'l',\n",
    "    '--':'m','-.':'n','---':'o','.--.':'p','--.-':'q','.-.':'r',\n",
    "    '...':'s','-':'t','..-':'u','...-':'v','.--':'w','-..-':'x',\n",
    "    '-.--':'y','--..':'z'\n",
    "}"
   ]
  },
  {
   "cell_type": "code",
   "execution_count": 4,
   "metadata": {},
   "outputs": [],
   "source": [
    "def solution(letter):\n",
    "    morse_word = [] # 모스 해독 단어를 담을 리스트 생성\n",
    "    words = letter.split( ) # 모스 부포를 띄워쓰기를 기준으로 분할\n",
    "    for word in words:\n",
    "        morse_word.append(morse[str(word)]) # 해독된 단어를 리스트에 담기\n",
    "    answer = ''.join(morse_word) # 해독된 단어가 담긴 리스트 문자열로 병합하기\n",
    "    return answer"
   ]
  },
  {
   "cell_type": "code",
   "execution_count": 5,
   "metadata": {},
   "outputs": [
    {
     "data": {
      "text/plain": [
       "'hello'"
      ]
     },
     "execution_count": 5,
     "metadata": {},
     "output_type": "execute_result"
    }
   ],
   "source": [
    "letter = \".... . .-.. .-.. ---\"\n",
    "\n",
    "solution(letter)"
   ]
  },
  {
   "cell_type": "code",
   "execution_count": 8,
   "metadata": {},
   "outputs": [],
   "source": [
    "def solution(letter):\n",
    "    morse = {\n",
    "        '.-':'a','-...':'b','-.-.':'c','-..':'d','.':'e','..-.':'f',\n",
    "        '--.':'g','....':'h','..':'i','.---':'j','-.-':'k','.-..':'l',\n",
    "        '--':'m','-.':'n','---':'o','.--.':'p','--.-':'q','.-.':'r',\n",
    "        '...':'s','-':'t','..-':'u','...-':'v','.--':'w','-..-':'x',\n",
    "        '-.--':'y','--..':'z'\n",
    "    }\n",
    "\n",
    "    trm_letter = '' \n",
    "    letter = letter.split()\n",
    "    for l in letter:\n",
    "        trm_letter += morse[l] # 문자열 덧셈으로 해결 가능하다.\n",
    "\n",
    "    return trm_letter"
   ]
  },
  {
   "cell_type": "code",
   "execution_count": 9,
   "metadata": {},
   "outputs": [
    {
     "data": {
      "text/plain": [
       "'hello'"
      ]
     },
     "execution_count": 9,
     "metadata": {},
     "output_type": "execute_result"
    }
   ],
   "source": [
    "letter = \".... . .-.. .-.. ---\"\n",
    "\n",
    "solution(letter)"
   ]
  },
  {
   "cell_type": "code",
   "execution_count": null,
   "metadata": {},
   "outputs": [],
   "source": []
  }
 ],
 "metadata": {
  "kernelspec": {
   "display_name": ".venv",
   "language": "python",
   "name": "python3"
  },
  "language_info": {
   "codemirror_mode": {
    "name": "ipython",
    "version": 3
   },
   "file_extension": ".py",
   "mimetype": "text/x-python",
   "name": "python",
   "nbconvert_exporter": "python",
   "pygments_lexer": "ipython3",
   "version": "3.12.4"
  }
 },
 "nbformat": 4,
 "nbformat_minor": 2
}
