{
 "cells": [
  {
   "cell_type": "code",
   "execution_count": 23,
   "metadata": {},
   "outputs": [],
   "source": [
    "def solution(balls, share):\n",
    "    def factorial(num): #펙토리얼 구현\n",
    "        if num == 0:\n",
    "            return 1\n",
    "        return num*factorial(num-1)\n",
    "        \n",
    "    balls_case = factorial(balls)\n",
    "    share_case = factorial(share)\n",
    "    balls_share_de = factorial(balls - share)\n",
    "    answer = balls_case/(share_case*balls_share_de) #확률 계산식\n",
    "    return int(answer) #정수로 반환"
   ]
  },
  {
   "cell_type": "code",
   "execution_count": 24,
   "metadata": {},
   "outputs": [
    {
     "data": {
      "text/plain": [
       "14307150"
      ]
     },
     "execution_count": 24,
     "metadata": {},
     "output_type": "execute_result"
    }
   ],
   "source": [
    "import random\n",
    "\n",
    "balls = random.randint(1, 30)\n",
    "share = random.randint(1, 30)\n",
    "\n",
    "while balls<=share:\n",
    "    balls = random.randint(1, 30)\n",
    "    share = random.randint(1, 30)\n",
    "\n",
    "solution(balls, share)"
   ]
  },
  {
   "cell_type": "code",
   "execution_count": 11,
   "metadata": {},
   "outputs": [],
   "source": [
    "def test(num):\n",
    "    if num == 0:\n",
    "        return 1\n",
    "    return num*test(num-1)"
   ]
  },
  {
   "cell_type": "code",
   "execution_count": 22,
   "metadata": {},
   "outputs": [
    {
     "data": {
      "text/plain": [
       "120"
      ]
     },
     "execution_count": 22,
     "metadata": {},
     "output_type": "execute_result"
    }
   ],
   "source": [
    "test(5)"
   ]
  },
  {
   "cell_type": "code",
   "execution_count": null,
   "metadata": {},
   "outputs": [],
   "source": []
  }
 ],
 "metadata": {
  "kernelspec": {
   "display_name": ".venv",
   "language": "python",
   "name": "python3"
  },
  "language_info": {
   "codemirror_mode": {
    "name": "ipython",
    "version": 3
   },
   "file_extension": ".py",
   "mimetype": "text/x-python",
   "name": "python",
   "nbconvert_exporter": "python",
   "pygments_lexer": "ipython3",
   "version": "3.12.4"
  }
 },
 "nbformat": 4,
 "nbformat_minor": 2
}
