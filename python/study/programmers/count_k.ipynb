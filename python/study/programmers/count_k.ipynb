{
 "cells": [
  {
   "cell_type": "code",
   "execution_count": 9,
   "metadata": {},
   "outputs": [
    {
     "name": "stdout",
     "output_type": "stream",
     "text": [
      "i = 59, j = 2211, k = 7\n"
     ]
    },
    {
     "data": {
      "text/plain": [
       "635"
      ]
     },
     "execution_count": 9,
     "metadata": {},
     "output_type": "execute_result"
    }
   ],
   "source": [
    "def solution(i, j, k):\n",
    "    answer = [a for a in range(i,j+1)]\n",
    "    count = str(answer).count(str(k))\n",
    "    return count\n",
    "\n",
    "import random\n",
    "\n",
    "i = random.randint(1,100)\n",
    "j = random.randint(1000,10000)\n",
    "k = random.randint(0,9)\n",
    "\n",
    "print(f'i = {i}, j = {j}, k = {k}')\n",
    "solution(i, j, k)"
   ]
  },
  {
   "cell_type": "code",
   "execution_count": null,
   "metadata": {},
   "outputs": [],
   "source": []
  }
 ],
 "metadata": {
  "kernelspec": {
   "display_name": ".venv",
   "language": "python",
   "name": "python3"
  },
  "language_info": {
   "codemirror_mode": {
    "name": "ipython",
    "version": 3
   },
   "file_extension": ".py",
   "mimetype": "text/x-python",
   "name": "python",
   "nbconvert_exporter": "python",
   "pygments_lexer": "ipython3",
   "version": "3.12.4"
  }
 },
 "nbformat": 4,
 "nbformat_minor": 2
}
