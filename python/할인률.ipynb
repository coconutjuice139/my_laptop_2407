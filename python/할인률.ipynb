{
 "cells": [
  {
   "cell_type": "code",
   "execution_count": 23,
   "id": "b4bd276f-0306-4ff2-9e4f-a967074ec14c",
   "metadata": {},
   "outputs": [],
   "source": [
    "def solution(price):\n",
    "    if price < 100000:\n",
    "        return price\n",
    "    if price < 300000:\n",
    "        return int(price * 0.95)\n",
    "    elif price < 500000:\n",
    "        return int(price * 0.9)\n",
    "    else:\n",
    "        return int(price * 0.8)"
   ]
  },
  {
   "cell_type": "code",
   "execution_count": 21,
   "id": "548b1321-7159-4ad7-aea7-df18e5d14dd6",
   "metadata": {},
   "outputs": [
    {
     "data": {
      "text/plain": [
       "400000"
      ]
     },
     "execution_count": 21,
     "metadata": {},
     "output_type": "execute_result"
    }
   ],
   "source": [
    "solution(500000)"
   ]
  },
  {
   "cell_type": "code",
   "execution_count": null,
   "id": "b1650fb1-c6d4-4071-884b-088e0ce05494",
   "metadata": {},
   "outputs": [],
   "source": [
    "def solution(price):\n",
    "    discount_rates = {500000: 0.8, 300000: 0.9, 100000: 0.95, 0: 1}\n",
    "    for discount_price, discount_rate in discount_rates.items():\n",
    "        if price >= discount_price:\n",
    "            return int(price * discount_rate)\n"
   ]
  }
 ],
 "metadata": {
  "kernelspec": {
   "display_name": "Python 3 (ipykernel)",
   "language": "python",
   "name": "python3"
  },
  "language_info": {
   "codemirror_mode": {
    "name": "ipython",
    "version": 3
   },
   "file_extension": ".py",
   "mimetype": "text/x-python",
   "name": "python",
   "nbconvert_exporter": "python",
   "pygments_lexer": "ipython3",
   "version": "3.12.4"
  }
 },
 "nbformat": 4,
 "nbformat_minor": 5
}
