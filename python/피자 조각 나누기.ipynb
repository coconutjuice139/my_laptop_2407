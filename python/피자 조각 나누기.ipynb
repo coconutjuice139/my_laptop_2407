{
 "cells": [
  {
   "cell_type": "code",
   "execution_count": 1,
   "id": "f6063892-30d2-40b0-a8fa-80cea06820f3",
   "metadata": {},
   "outputs": [],
   "source": [
    "def solution(slice, n):\n",
    "    return (n-1)//slice + 1"
   ]
  },
  {
   "cell_type": "code",
   "execution_count": null,
   "id": "3f61f58d-c659-4e97-8c30-292fa9b96103",
   "metadata": {},
   "outputs": [],
   "source": [
    "def solution(slice, n):\n",
    "    d, m = divmod(n, slice)\n",
    "    return d + int(m != 0)"
   ]
  },
  {
   "cell_type": "code",
   "execution_count": null,
   "id": "c4dd2996-dc6a-4f7e-b961-09e34b295ec4",
   "metadata": {},
   "outputs": [],
   "source": []
  }
 ],
 "metadata": {
  "kernelspec": {
   "display_name": "Python 3 (ipykernel)",
   "language": "python",
   "name": "python3"
  },
  "language_info": {
   "codemirror_mode": {
    "name": "ipython",
    "version": 3
   },
   "file_extension": ".py",
   "mimetype": "text/x-python",
   "name": "python",
   "nbconvert_exporter": "python",
   "pygments_lexer": "ipython3",
   "version": "3.12.4"
  }
 },
 "nbformat": 4,
 "nbformat_minor": 5
}
