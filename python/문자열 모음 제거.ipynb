{
 "cells": [
  {
   "cell_type": "code",
   "execution_count": 2,
   "id": "c2fc909d-16a7-49e6-9019-76048b3a0dd1",
   "metadata": {},
   "outputs": [],
   "source": [
    "def solution(n):\n",
    "    answer = [i for i in range(n) if i%2 != 0]\n",
    "    return answer"
   ]
  },
  {
   "cell_type": "code",
   "execution_count": 6,
   "id": "6583c34c-e2ec-4c03-a81b-d24df71dcea0",
   "metadata": {},
   "outputs": [
    {
     "data": {
      "text/plain": [
       "[1,\n",
       " 3,\n",
       " 5,\n",
       " 7,\n",
       " 9,\n",
       " 11,\n",
       " 13,\n",
       " 15,\n",
       " 17,\n",
       " 19,\n",
       " 21,\n",
       " 23,\n",
       " 25,\n",
       " 27,\n",
       " 29,\n",
       " 31,\n",
       " 33,\n",
       " 35,\n",
       " 37,\n",
       " 39,\n",
       " 41,\n",
       " 43,\n",
       " 45,\n",
       " 47,\n",
       " 49,\n",
       " 51,\n",
       " 53,\n",
       " 55,\n",
       " 57,\n",
       " 59,\n",
       " 61,\n",
       " 63,\n",
       " 65,\n",
       " 67,\n",
       " 69,\n",
       " 71,\n",
       " 73,\n",
       " 75,\n",
       " 77,\n",
       " 79,\n",
       " 81,\n",
       " 83,\n",
       " 85,\n",
       " 87,\n",
       " 89,\n",
       " 91,\n",
       " 93,\n",
       " 95]"
      ]
     },
     "execution_count": 6,
     "metadata": {},
     "output_type": "execute_result"
    }
   ],
   "source": [
    "n = 97\n",
    "solution(n)"
   ]
  },
  {
   "cell_type": "code",
   "execution_count": 8,
   "id": "5c120f98-a470-48a7-acdb-2363d6bc7f91",
   "metadata": {},
   "outputs": [
    {
     "data": {
      "text/plain": [
       "True"
      ]
     },
     "execution_count": 8,
     "metadata": {},
     "output_type": "execute_result"
    }
   ],
   "source": [
    "70%90>0"
   ]
  },
  {
   "cell_type": "code",
   "execution_count": 10,
   "id": "03eb698f-d32b-40b4-b23a-1958eccaed7f",
   "metadata": {},
   "outputs": [
    {
     "data": {
      "text/plain": [
       "1"
      ]
     },
     "execution_count": 10,
     "metadata": {},
     "output_type": "execute_result"
    }
   ],
   "source": [
    "(70%90>0)*1"
   ]
  },
  {
   "cell_type": "code",
   "execution_count": 14,
   "id": "4a859ceb-4e18-4fe6-a533-67aa9587872b",
   "metadata": {},
   "outputs": [
    {
     "data": {
      "text/plain": [
       "1"
      ]
     },
     "execution_count": 14,
     "metadata": {},
     "output_type": "execute_result"
    }
   ],
   "source": [
    "(170%90>0)*1"
   ]
  },
  {
   "cell_type": "code",
   "execution_count": 16,
   "id": "fd94beb5-0cdf-4c34-97d1-8db625cd674c",
   "metadata": {},
   "outputs": [
    {
     "data": {
      "text/plain": [
       "True"
      ]
     },
     "execution_count": 16,
     "metadata": {},
     "output_type": "execute_result"
    }
   ],
   "source": [
    "170%90>0"
   ]
  },
  {
   "cell_type": "code",
   "execution_count": 18,
   "id": "2104e970-322e-4ed7-aaec-cafbdb3893dc",
   "metadata": {},
   "outputs": [
    {
     "data": {
      "text/plain": [
       "2"
      ]
     },
     "execution_count": 18,
     "metadata": {},
     "output_type": "execute_result"
    }
   ],
   "source": [
    "180//90"
   ]
  },
  {
   "cell_type": "code",
   "execution_count": 20,
   "id": "815caadb-4659-4c7d-974a-ffffec293656",
   "metadata": {},
   "outputs": [
    {
     "data": {
      "text/plain": [
       "0"
      ]
     },
     "execution_count": 20,
     "metadata": {},
     "output_type": "execute_result"
    }
   ],
   "source": [
    "(180%90>0)*1"
   ]
  },
  {
   "cell_type": "code",
   "execution_count": 22,
   "id": "37951242-a737-488e-835a-4badc5df4dcd",
   "metadata": {},
   "outputs": [],
   "source": [
    "def solution(n):\n",
    "    even = [a for a in range(n+1) if n%2 == 0]\n",
    "    e_sum = sum(even)\n",
    "    return e_sum"
   ]
  },
  {
   "cell_type": "code",
   "execution_count": 26,
   "id": "113c3d6a-34fe-41bb-a0e5-f9d5dab77fe9",
   "metadata": {},
   "outputs": [
    {
     "data": {
      "text/plain": [
       "55"
      ]
     },
     "execution_count": 26,
     "metadata": {},
     "output_type": "execute_result"
    }
   ],
   "source": [
    "n = 10\n",
    "solution(n)"
   ]
  },
  {
   "cell_type": "code",
   "execution_count": 32,
   "id": "7578ffa7-3d05-4297-81b2-d98b5e4331c7",
   "metadata": {},
   "outputs": [
    {
     "name": "stdout",
     "output_type": "stream",
     "text": [
      "[0, 2, 4, 6, 8, 10]\n"
     ]
    }
   ],
   "source": [
    "n = 10\n",
    "even = [a for a in range(0, n+1, 2)]\n",
    "print(even)"
   ]
  },
  {
   "cell_type": "code",
   "execution_count": 38,
   "id": "31079333-ae57-4675-b992-74761388fcef",
   "metadata": {},
   "outputs": [
    {
     "name": "stdout",
     "output_type": "stream",
     "text": [
      "[0, 2, 4, 6, 8, 10]\n"
     ]
    }
   ],
   "source": [
    "n = 10\n",
    "even = [a for a in range(n+1) if a%2 == 0]\n",
    "print(even)"
   ]
  },
  {
   "cell_type": "code",
   "execution_count": 36,
   "id": "dda8202b-803a-439c-9213-335099d12bdb",
   "metadata": {},
   "outputs": [
    {
     "data": {
      "text/plain": [
       "1"
      ]
     },
     "execution_count": 36,
     "metadata": {},
     "output_type": "execute_result"
    }
   ],
   "source": [
    "1%2"
   ]
  },
  {
   "cell_type": "code",
   "execution_count": 46,
   "id": "3b04a3ea-90b1-45b2-8784-8353a9a18ef8",
   "metadata": {},
   "outputs": [
    {
     "name": "stdout",
     "output_type": "stream",
     "text": [
      "[4, 3, 2, 1]\n"
     ]
    }
   ],
   "source": [
    "a = [1, 3, 2, 4]\n",
    "a.sort()\n",
    "a.reverse()\n",
    "print(a)"
   ]
  },
  {
   "cell_type": "code",
   "execution_count": 62,
   "id": "367a3483-fa9d-436c-912a-04c90ac78130",
   "metadata": {},
   "outputs": [
    {
     "name": "stdout",
     "output_type": "stream",
     "text": [
      "spr dpr xtrm\n"
     ]
    }
   ],
   "source": [
    "mystring = 'super duper extream'\n",
    "a = mystring.replace('u','')\n",
    "b = a.replace('e','')\n",
    "c = b.replace('a','')\n",
    "print(c)"
   ]
  },
  {
   "cell_type": "code",
   "execution_count": 64,
   "id": "c3112129-33b7-4137-a086-89f8aa33f3dd",
   "metadata": {},
   "outputs": [],
   "source": [
    "def solution(my_string):\n",
    "    return \"\".join([i for i in my_string if not(i in \"aeiou\")])"
   ]
  },
  {
   "cell_type": "code",
   "execution_count": 66,
   "id": "ca06e583-cf1c-4ce3-ac71-8dce4200c939",
   "metadata": {},
   "outputs": [],
   "source": [
    "def solution(my_string):\n",
    "    vowels = ['a','e','i','o','u']\n",
    "    for vowel in vowels:\n",
    "        my_string = my_string.replace(vowel, '')\n",
    "    return my_string"
   ]
  },
  {
   "cell_type": "code",
   "execution_count": null,
   "id": "43270cda-fe22-4a1f-a062-40aa9b1c0b89",
   "metadata": {},
   "outputs": [],
   "source": []
  }
 ],
 "metadata": {
  "kernelspec": {
   "display_name": "Python 3 (ipykernel)",
   "language": "python",
   "name": "python3"
  },
  "language_info": {
   "codemirror_mode": {
    "name": "ipython",
    "version": 3
   },
   "file_extension": ".py",
   "mimetype": "text/x-python",
   "name": "python",
   "nbconvert_exporter": "python",
   "pygments_lexer": "ipython3",
   "version": "3.12.4"
  }
 },
 "nbformat": 4,
 "nbformat_minor": 5
}
