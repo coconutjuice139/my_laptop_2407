{
 "cells": [
  {
   "cell_type": "code",
   "execution_count": 5,
   "id": "def3cb9f-68c7-4394-a774-29d0e431025f",
   "metadata": {},
   "outputs": [],
   "source": [
    "def solution(n):\n",
    "    n1 = n**(1/2)\n",
    "    n2 = int(n1)**2\n",
    "    if n == n2:\n",
    "        return 1\n",
    "    else:\n",
    "        return 2"
   ]
  },
  {
   "cell_type": "code",
   "execution_count": 7,
   "id": "0d2c265d-787a-428b-a0eb-64c224ceabbe",
   "metadata": {},
   "outputs": [],
   "source": [
    "def solution(n):\n",
    "    if n**(1/2) == int(n**(1/2)) :\n",
    "        return 1\n",
    "    else :\n",
    "        return 2"
   ]
  },
  {
   "cell_type": "code",
   "execution_count": null,
   "id": "3a565f15-2fd0-4d1c-b19a-c14f3cf9a0cc",
   "metadata": {},
   "outputs": [],
   "source": [
    "def solution(n):\n",
    "    return 1 if (n ** 0.5) % 1 == 0 else 2"
   ]
  }
 ],
 "metadata": {
  "kernelspec": {
   "display_name": "Python 3 (ipykernel)",
   "language": "python",
   "name": "python3"
  },
  "language_info": {
   "codemirror_mode": {
    "name": "ipython",
    "version": 3
   },
   "file_extension": ".py",
   "mimetype": "text/x-python",
   "name": "python",
   "nbconvert_exporter": "python",
   "pygments_lexer": "ipython3",
   "version": "3.12.4"
  }
 },
 "nbformat": 4,
 "nbformat_minor": 5
}
