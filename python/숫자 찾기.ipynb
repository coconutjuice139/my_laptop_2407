{
 "cells": [
  {
   "cell_type": "code",
   "execution_count": 11,
   "id": "e985bd9a-5cf0-407b-aef7-ddc99a8193e8",
   "metadata": {},
   "outputs": [],
   "source": [
    "def solution(num, k):\n",
    "    num_l = [int(c) for c in str(num)]\n",
    "# 위에거가 문자열, 숫자열을 각각 자리에 맞게 리스트로 바꾸는 명령어\n",
    "    if k in num_l:\n",
    "        a = num_l.index(k)\n",
    "    else: \n",
    "        return -1\n",
    "    return a+1"
   ]
  },
  {
   "cell_type": "code",
   "execution_count": 15,
   "id": "712eb022-8d53-4380-9696-6ce6d362e5d5",
   "metadata": {},
   "outputs": [],
   "source": [
    "def solution(num, k):\n",
    "    return -1 if str(k) not in str(num) else str(num).find(str(k)) + 1\n"
   ]
  },
  {
   "cell_type": "code",
   "execution_count": 19,
   "id": "8e55a21b-0402-44f4-8757-4f7db59b3ca6",
   "metadata": {},
   "outputs": [],
   "source": [
    "def solution(num, k):\n",
    "    for i, n in enumerate(str(num)):\n",
    "        # enumerate는 index와 value를 함께 추출하는 함수\n",
    "        if str(k) == n:\n",
    "            return i + 1\n",
    "    return -1"
   ]
  },
  {
   "cell_type": "code",
   "execution_count": null,
   "id": "93faa82e-b343-4c23-b484-cb346dd80d22",
   "metadata": {},
   "outputs": [],
   "source": []
  }
 ],
 "metadata": {
  "kernelspec": {
   "display_name": "Python 3 (ipykernel)",
   "language": "python",
   "name": "python3"
  },
  "language_info": {
   "codemirror_mode": {
    "name": "ipython",
    "version": 3
   },
   "file_extension": ".py",
   "mimetype": "text/x-python",
   "name": "python",
   "nbconvert_exporter": "python",
   "pygments_lexer": "ipython3",
   "version": "3.12.4"
  }
 },
 "nbformat": 4,
 "nbformat_minor": 5
}
