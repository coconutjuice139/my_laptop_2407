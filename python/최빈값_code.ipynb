{
 "cells": [
  {
   "cell_type": "code",
   "execution_count": 17,
   "id": "210a4c91-6f7d-45c1-afce-2b6e22b322a1",
   "metadata": {},
   "outputs": [],
   "source": [
    "def solution(array):\n",
    "    a=0\n",
    "    b=0\n",
    "    i=0\n",
    "    j=0\n",
    "    for k in array:\n",
    "        i = array.count(k)\n",
    "        if i > j:\n",
    "            j = i\n",
    "            a = 0\n",
    "            b = k\n",
    "        elif i == j:\n",
    "            a = 1\n",
    "    if a == 0:\n",
    "        answer = b\n",
    "    elif a == 1:\n",
    "        answer = -1\n",
    "    return answer"
   ]
  },
  {
   "cell_type": "code",
   "execution_count": 19,
   "id": "b40a7cfc-61b2-4729-97d7-8d93a65da08a",
   "metadata": {},
   "outputs": [
    {
     "data": {
      "text/plain": [
       "-1"
      ]
     },
     "execution_count": 19,
     "metadata": {},
     "output_type": "execute_result"
    }
   ],
   "source": [
    "array = [1, 1, 1, 1, 2, 3, 1,1, 2, 3, 4, 4, 4, 4, 4]\n",
    "solution(array)"
   ]
  },
  {
   "cell_type": "code",
   "execution_count": 22,
   "id": "370d3a5d-5b24-4642-b6d4-f311d20af498",
   "metadata": {},
   "outputs": [
    {
     "data": {
      "text/plain": [
       "4"
      ]
     },
     "execution_count": 22,
     "metadata": {},
     "output_type": "execute_result"
    }
   ],
   "source": [
    "max(array)"
   ]
  },
  {
   "cell_type": "code",
   "execution_count": 29,
   "id": "2b819d17-0d63-458f-ab7a-a51dcbf09f46",
   "metadata": {},
   "outputs": [],
   "source": [
    "def solution2(array):\n",
    "\tcount = [0] * (max(array)+1) # 숫자 출연 횟수를 셀 리스트\n",
    "\n",
    "\tfor i in array:\n",
    "\t\tcount[i] += 1\n",
    "        \n",
    "\tm = 0 # 최빈값의 개수\n",
    "\tfor c in count:\n",
    "\t\tif c == max(count):\n",
    "\t\t\tm += 1\n",
    "    \n",
    "\tif m > 1: # 최빈값이 2개 이상이면 -1을 리턴\n",
    "\t\treturn -1\n",
    "\telse: # 최빈값이 1개이면 해당 숫자를 리턴\n",
    "\t\treturn count.index(max(count))"
   ]
  },
  {
   "cell_type": "code",
   "execution_count": 35,
   "id": "1c64d4df-7ada-48d8-9e29-92c0c94efda2",
   "metadata": {},
   "outputs": [
    {
     "name": "stdout",
     "output_type": "stream",
     "text": [
      "[0, 0, 0, 0, 0]\n",
      "[0, 6, 2, 2, 5]\n"
     ]
    }
   ],
   "source": [
    "count = [0] * (max(array)+1)\n",
    "\n",
    "print(count)\n",
    "\n",
    "for i in array:\n",
    "\tcount[i] += 1\n",
    "\n",
    "print(count)"
   ]
  },
  {
   "cell_type": "code",
   "execution_count": 37,
   "id": "127bbf17-0c8f-4b61-b81b-7f711010e43c",
   "metadata": {},
   "outputs": [
    {
     "name": "stdout",
     "output_type": "stream",
     "text": [
      "[6, 5, 2, 2, 0]\n"
     ]
    }
   ],
   "source": [
    "count.sort(reverse=True)\n",
    "\n",
    "print(count)"
   ]
  },
  {
   "cell_type": "code",
   "execution_count": null,
   "id": "202ea318-9a03-4a8a-aaa9-6251d78c2e00",
   "metadata": {},
   "outputs": [],
   "source": [
    "def solution(array):\n",
    "    while len(array) != 0:\n",
    "        for i, a in enumerate(set(array)):\n",
    "            array.remove(a)\n",
    "        if i == 0: return a\n",
    "    return -1"
   ]
  }
 ],
 "metadata": {
  "kernelspec": {
   "display_name": "Python 3 (ipykernel)",
   "language": "python",
   "name": "python3"
  },
  "language_info": {
   "codemirror_mode": {
    "name": "ipython",
    "version": 3
   },
   "file_extension": ".py",
   "mimetype": "text/x-python",
   "name": "python",
   "nbconvert_exporter": "python",
   "pygments_lexer": "ipython3",
   "version": "3.12.4"
  }
 },
 "nbformat": 4,
 "nbformat_minor": 5
}
