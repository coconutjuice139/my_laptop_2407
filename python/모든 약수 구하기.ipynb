{
 "cells": [
  {
   "cell_type": "code",
   "execution_count": 5,
   "id": "aa1168d5-8beb-4572-afa2-d526d99ad8c1",
   "metadata": {},
   "outputs": [],
   "source": [
    "def solution(n):\n",
    "    a = sorted([int(c) for c in range(1, n+1) if n % c == 0])\n",
    "    return a"
   ]
  },
  {
   "cell_type": "code",
   "execution_count": 7,
   "id": "73709359-ab01-482d-b257-1c7d15c7bdc0",
   "metadata": {},
   "outputs": [
    {
     "data": {
      "text/plain": [
       "[1, 2, 3, 4, 6, 8, 12, 24]"
      ]
     },
     "execution_count": 7,
     "metadata": {},
     "output_type": "execute_result"
    }
   ],
   "source": [
    "n = 24\n",
    "solution(n)"
   ]
  },
  {
   "cell_type": "code",
   "execution_count": 9,
   "id": "e55d6703-e6cd-413a-9f61-4ee81c6e0389",
   "metadata": {},
   "outputs": [],
   "source": [
    "def solution(n):\n",
    "    answer = [i for i in range(1,n+1) if n%i == 0]\n",
    "    return answer"
   ]
  },
  {
   "cell_type": "code",
   "execution_count": null,
   "id": "495cffa5-d6f7-4f6b-b6a9-66401cda6db9",
   "metadata": {},
   "outputs": [],
   "source": [
    "def solution(n):\n",
    "    return list(filter(lambda v: n % v == 0, [i for i in range(1, n//2+1)])) + [n]"
   ]
  }
 ],
 "metadata": {
  "kernelspec": {
   "display_name": "Python 3 (ipykernel)",
   "language": "python",
   "name": "python3"
  },
  "language_info": {
   "codemirror_mode": {
    "name": "ipython",
    "version": 3
   },
   "file_extension": ".py",
   "mimetype": "text/x-python",
   "name": "python",
   "nbconvert_exporter": "python",
   "pygments_lexer": "ipython3",
   "version": "3.12.4"
  }
 },
 "nbformat": 4,
 "nbformat_minor": 5
}
