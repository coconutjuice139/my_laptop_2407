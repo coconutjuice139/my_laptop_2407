{
 "cells": [
  {
   "cell_type": "code",
   "execution_count": 32,
   "id": "73d5a4ef-1bca-4186-90b9-d0ae4e86e434",
   "metadata": {},
   "outputs": [],
   "source": [
    "def solution(cipher, code):\n",
    "    str = ''\n",
    "    for a in range(len(cipher)):\n",
    "        if a % (code-1) == 0:\n",
    "            str = str.join(cipher[a])\n",
    "    return str"
   ]
  },
  {
   "cell_type": "code",
   "execution_count": 34,
   "id": "f9348762-1b65-42e9-8fe4-8fe1977b8094",
   "metadata": {},
   "outputs": [
    {
     "data": {
      "text/plain": [
       "'f'"
      ]
     },
     "execution_count": 34,
     "metadata": {},
     "output_type": "execute_result"
    }
   ],
   "source": [
    "cipher = 'asdlfen23sadf3'\n",
    "code = 5\n",
    "solution(cipher, code)"
   ]
  },
  {
   "cell_type": "code",
   "execution_count": 36,
   "id": "d39fd345-d573-42e3-8bd7-94af8fdd7986",
   "metadata": {},
   "outputs": [
    {
     "name": "stdout",
     "output_type": "stream",
     "text": [
      "range(0, 14)\n"
     ]
    }
   ],
   "source": [
    "print( range(len(cipher)))"
   ]
  },
  {
   "cell_type": "code",
   "execution_count": 69,
   "id": "756f7bae-02ae-4b24-9691-e6added50637",
   "metadata": {},
   "outputs": [
    {
     "name": "stdout",
     "output_type": "stream",
     "text": [
      "['a', 'f', '3', 'f']\n"
     ]
    }
   ],
   "source": [
    "cipher = 'asdlfen23sadf3'\n",
    "code = 5\n",
    "s = []\n",
    "for a in range(len(cipher)):\n",
    "    if a % (code-1) == 0:\n",
    "        s.append(cipher[a])\n",
    "\n",
    "print(s)"
   ]
  },
  {
   "cell_type": "code",
   "execution_count": 71,
   "id": "74a6b7ed-e881-4643-89bb-6a7dbf1e4a12",
   "metadata": {},
   "outputs": [],
   "source": [
    "b = ''.join(s)"
   ]
  },
  {
   "cell_type": "code",
   "execution_count": 73,
   "id": "90dd672b-5f3c-43fd-9201-6eb4388f37d6",
   "metadata": {},
   "outputs": [
    {
     "name": "stdout",
     "output_type": "stream",
     "text": [
      "af3f\n"
     ]
    }
   ],
   "source": [
    "print(b)"
   ]
  },
  {
   "cell_type": "code",
   "execution_count": 79,
   "id": "ef908d72-4489-478a-8e8b-aff7daba9138",
   "metadata": {},
   "outputs": [],
   "source": [
    "def solution(cipher, code):\n",
    "    b = []\n",
    "    for a in range(len(cipher)):\n",
    "        if (1+a) % code == 0:\n",
    "            b.append(cipher[a])\n",
    "    return \"\".join(b)"
   ]
  },
  {
   "cell_type": "code",
   "execution_count": 81,
   "id": "19b912c0-d8f6-4b66-b4bb-6e43c9cbf38d",
   "metadata": {},
   "outputs": [
    {
     "data": {
      "text/plain": [
       "'fs'"
      ]
     },
     "execution_count": 81,
     "metadata": {},
     "output_type": "execute_result"
    }
   ],
   "source": [
    "solution(cipher, code)"
   ]
  },
  {
   "cell_type": "code",
   "execution_count": 83,
   "id": "86ff7617-07f5-4ce9-bca8-762ac42f3826",
   "metadata": {},
   "outputs": [],
   "source": [
    "def solution(cipher, code):\n",
    "    answer = cipher[code-1::code]\n",
    "    return answer"
   ]
  },
  {
   "cell_type": "code",
   "execution_count": null,
   "id": "a08813a4-8fbd-4ad2-b549-9c4ead80494e",
   "metadata": {},
   "outputs": [],
   "source": []
  }
 ],
 "metadata": {
  "kernelspec": {
   "display_name": "Python 3 (ipykernel)",
   "language": "python",
   "name": "python3"
  },
  "language_info": {
   "codemirror_mode": {
    "name": "ipython",
    "version": 3
   },
   "file_extension": ".py",
   "mimetype": "text/x-python",
   "name": "python",
   "nbconvert_exporter": "python",
   "pygments_lexer": "ipython3",
   "version": "3.12.4"
  }
 },
 "nbformat": 4,
 "nbformat_minor": 5
}
