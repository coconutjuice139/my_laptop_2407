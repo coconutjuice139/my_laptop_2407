{
 "cells": [
  {
   "cell_type": "code",
   "execution_count": 1,
   "id": "73e7cdc5-b5cf-4639-95ae-d9da36989e6d",
   "metadata": {},
   "outputs": [],
   "source": [
    "def solution(my_string):\n",
    "    a = []\n",
    "    for i in range(len(my_string)):\n",
    "        if my_string[i] in '1234567890':\n",
    "            a.append(my_string[i])\n",
    "    a = list(map(int,a))\n",
    "    a.sort()\n",
    "    return a"
   ]
  },
  {
   "cell_type": "code",
   "execution_count": 3,
   "id": "835413bc-bc94-43d7-a460-f84d9c5931bd",
   "metadata": {},
   "outputs": [],
   "source": [
    "def solution(my_string):\n",
    "    return sorted([int(c) for c in my_string if c.isdigit()])\n",
    "    # isdigit() 는 숫자를 판별하는 boolean 연산자"
   ]
  },
  {
   "cell_type": "code",
   "execution_count": 5,
   "id": "200ac934-5896-4185-be6c-f2d8c7b605f8",
   "metadata": {},
   "outputs": [],
   "source": [
    "def solution(my_string):\n",
    "    return sorted(map(int, filter(lambda s: s.isdigit(), my_string)))"
   ]
  },
  {
   "cell_type": "code",
   "execution_count": null,
   "id": "4dbc1393-ffe6-4326-b504-479789f575af",
   "metadata": {},
   "outputs": [],
   "source": []
  }
 ],
 "metadata": {
  "kernelspec": {
   "display_name": "Python 3 (ipykernel)",
   "language": "python",
   "name": "python3"
  },
  "language_info": {
   "codemirror_mode": {
    "name": "ipython",
    "version": 3
   },
   "file_extension": ".py",
   "mimetype": "text/x-python",
   "name": "python",
   "nbconvert_exporter": "python",
   "pygments_lexer": "ipython3",
   "version": "3.12.4"
  }
 },
 "nbformat": 4,
 "nbformat_minor": 5
}
