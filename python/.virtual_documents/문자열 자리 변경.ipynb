def solution(my_string, num1, num2):
    a = min(num1, num2)
    b = max(num1, num2)
    return my_string[:a]+my_string[b]+my_string[a+1:b]+my_string[a]+my_string[b+1:]




def solution(my_string, num1, num2):
    s = list(my_string)
    s[num1],s[num2] = s[num2],s[num1]
    return ''.join(s)


def solution(my_string, num1, num2):
    [a, b] = sorted([num1, num2])
    return my_string[0:a] + my_string[b] + my_string[a+1:b] + my_string[a] + my_string[b+1:]



