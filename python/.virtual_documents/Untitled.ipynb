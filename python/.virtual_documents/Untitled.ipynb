def solution(my_string):
    answer = ''
    str_l = [str(c) for c in my_string]
    str_rev = list(reversed(str_l))
    alp = 'abcdefghijklmnopqrstuvwxyz'
    ALP = 'ABCDEFGHIJKLMNOPQRSTUVWXYZ'
    for i in alp:
        if str_rev.count(i) > 1:
            a = str_rev.count(i)
            while a != 1:
                str_rev.remove(i)
                a -= 1
    for j in ALP:
        if str_rev.count(j) > 1:
            a = str_rev.count(j)
            while a != 1:
                str_rev.remove(j)
                a -= 1

    if str_rev.count(' ') >1:
        a = str_rev.count(' ')
        while a != 1:
            str_rev.remove(' ')
            a -= 1
            
    answer = list(reversed(str_rev))
    return "".join(answer)


my_string = 'asdkgarogsdfnklasdf'
solution(my_string)


str_l = [str(c) for c in my_string]
print(str_l)


str_rev = list(reversed(str_l))
print(str_rev)
# sort는 순차정렬의 의미가 있으니
# 완전 뒤집는 의미를 갖는 reversed를 이용


my_string = 'asdkgarogsdfnklasdf'
solution(my_string)


my_string='We are the world'
solution(my_string)


def solution(my_string):
    return ''.join(dict.fromkeys(my_string))


def solution(my_string):
    answer = ''
    for i in my_string:
        if i not in answer:
            answer+=i
    return answer


def solution(my_string):
    answer = []
    for i in my_string :
        if answer.count(i) == 0 :
            answer.append(i)
    return ''.join(answer)


def solution(my_string):
    answer = ''
    dic = {}
    for m in my_string:
        if m not in dic:
            dic[m] = 1
            answer += m
        elif m in dic:
            continue

    return answer


def solution(my_string):
    answer = ''
    for i in range(len(my_string)):
        if my_string[i] not in answer:
            answer += my_string[i]
    return answer



