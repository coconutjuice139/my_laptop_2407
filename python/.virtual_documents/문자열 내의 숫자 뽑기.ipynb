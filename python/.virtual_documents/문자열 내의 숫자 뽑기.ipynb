def solution(my_string):
    a = []
    for i in range(len(my_string)):
        if my_string[i] in '1234567890':
            a.append(my_string[i])
    a = list(map(int,a))
    a.sort()
    return a


def solution(my_string):
    return sorted([int(c) for c in my_string if c.isdigit()])
    # isdigit() 는 숫자를 판별하는 boolean 연산자


def solution(my_string):
    return sorted(map(int, filter(lambda s: s.isdigit(), my_string)))



