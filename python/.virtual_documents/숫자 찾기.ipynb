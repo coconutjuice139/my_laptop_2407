def solution(num, k):
    num_l = [int(c) for c in str(num)]
# 위에거가 문자열, 숫자열을 각각 자리에 맞게 리스트로 바꾸는 명령어
    if k in num_l:
        a = num_l.index(k)
    else: 
        return -1
    return a+1


def solution(num, k):
    return -1 if str(k) not in str(num) else str(num).find(str(k)) + 1



def solution(num, k):
    for i, n in enumerate(str(num)):
        # enumerate는 index와 value를 함께 추출하는 함수
        if str(k) == n:
            return i + 1
    return -1



