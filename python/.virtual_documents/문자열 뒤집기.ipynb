def solution(my_string):
    m = [my_string[i] for i in range(len(my_string)-1,-1,-1)]
    return "".join(m)


my_string = 'asdfargaflsnasdf'
solution(my_string)


my_string[15]


def solution(my_string):
    return my_string[::-1]



2
3
def solution(my_string):
    return ''.join(list(reversed(my_string)))



