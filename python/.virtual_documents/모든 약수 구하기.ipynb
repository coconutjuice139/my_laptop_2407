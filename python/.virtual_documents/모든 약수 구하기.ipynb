def solution(n):
    a = sorted([int(c) for c in range(1, n+1) if n % c == 0])
    return a


n = 24
solution(n)


def solution(n):
    answer = [i for i in range(1,n+1) if n%i == 0]
    return answer


def solution(n):
    return list(filter(lambda v: n % v == 0, [i for i in range(1, n//2+1)])) + [n]
