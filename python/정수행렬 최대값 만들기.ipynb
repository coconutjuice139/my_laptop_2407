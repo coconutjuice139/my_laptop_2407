{
 "cells": [
  {
   "cell_type": "code",
   "execution_count": 1,
   "id": "a2253276-ec67-4530-9467-c456a1c85d01",
   "metadata": {},
   "outputs": [],
   "source": [
    "def solution(numbers):\n",
    "    numbers.sort()\n",
    "    a = numbers[0]*numbers[1]\n",
    "    b = numbers[-1]*numbers[-2]\n",
    "    answer = max(a,b)\n",
    "    return answer"
   ]
  },
  {
   "cell_type": "code",
   "execution_count": 3,
   "id": "cd308af6-9d27-43b8-abad-e0d8905c95e1",
   "metadata": {},
   "outputs": [],
   "source": [
    "\n",
    "2\n",
    "3\n",
    "4\n",
    "def solution(numbers):\n",
    "    numbers = sorted(numbers)\n",
    "    return max(numbers[0] * numbers[1], numbers[-1]*numbers[-2])"
   ]
  },
  {
   "cell_type": "code",
   "execution_count": null,
   "id": "ea92ed87-b023-4e60-84c9-0b7a9576c68d",
   "metadata": {},
   "outputs": [],
   "source": []
  }
 ],
 "metadata": {
  "kernelspec": {
   "display_name": "Python 3 (ipykernel)",
   "language": "python",
   "name": "python3"
  },
  "language_info": {
   "codemirror_mode": {
    "name": "ipython",
    "version": 3
   },
   "file_extension": ".py",
   "mimetype": "text/x-python",
   "name": "python",
   "nbconvert_exporter": "python",
   "pygments_lexer": "ipython3",
   "version": "3.12.4"
  }
 },
 "nbformat": 4,
 "nbformat_minor": 5
}
