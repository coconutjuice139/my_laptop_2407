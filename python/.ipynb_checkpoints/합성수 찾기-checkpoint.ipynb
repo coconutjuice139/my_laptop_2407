{
 "cells": [
  {
   "cell_type": "code",
   "execution_count": 1,
   "id": "1ad4c535-3af1-4c42-a359-53cc8330537f",
   "metadata": {},
   "outputs": [],
   "source": [
    "def solution(n):\n",
    "    answer = 0\n",
    "    for i in range(1, n+1):\n",
    "        count = 0\n",
    "        for j in range(1, i+1):\n",
    "            if i % j == 0:\n",
    "                count += 1\n",
    "\n",
    "        if count >= 3:\n",
    "            answer +=1\n",
    "\n",
    "    return answer"
   ]
  },
  {
   "cell_type": "code",
   "execution_count": null,
   "id": "4c33f92b-6d98-4be7-a94d-9996d4acf7cd",
   "metadata": {},
   "outputs": [],
   "source": [
    "def solution(n):\n",
    "    output = 0\n",
    "    for i in range(4, n + 1):\n",
    "        for j in range(2, int(i ** 0.5) + 1):\n",
    "            if i % j == 0:\n",
    "                output += 1\n",
    "                break\n",
    "    return output"
   ]
  }
 ],
 "metadata": {
  "kernelspec": {
   "display_name": "Python 3 (ipykernel)",
   "language": "python",
   "name": "python3"
  },
  "language_info": {
   "codemirror_mode": {
    "name": "ipython",
    "version": 3
   },
   "file_extension": ".py",
   "mimetype": "text/x-python",
   "name": "python",
   "nbconvert_exporter": "python",
   "pygments_lexer": "ipython3",
   "version": "3.12.4"
  }
 },
 "nbformat": 4,
 "nbformat_minor": 5
}
