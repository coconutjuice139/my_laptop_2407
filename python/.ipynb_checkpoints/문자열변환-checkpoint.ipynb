{
 "cells": [
  {
   "cell_type": "code",
   "execution_count": 103,
   "id": "d0016a10-a6ce-4d43-b832-2b10e6db5edc",
   "metadata": {},
   "outputs": [],
   "source": [
    "def solution(rsp):\n",
    "    res = []\n",
    "    for i in range(len(rsp)):\n",
    "        if rsp[i] == 0:\n",
    "            res.append('5')\n",
    "        elif rsp[i] == 2:\n",
    "            res.append('0')\n",
    "        elif rsp[i] == 5:\n",
    "            res.append('2')\n",
    "    return str(res)"
   ]
  },
  {
   "cell_type": "code",
   "execution_count": 99,
   "id": "92b16511-ac93-4123-88c6-1f97c04e04d4",
   "metadata": {},
   "outputs": [
    {
     "name": "stdout",
     "output_type": "stream",
     "text": [
      "[5, 2, 0, 0, 2, 5]\n"
     ]
    }
   ],
   "source": [
    "rsp = [5,2,0,0,2,5]\n",
    "rsp = list(map(int,rsp))\n",
    "print(rsp)"
   ]
  },
  {
   "cell_type": "code",
   "execution_count": 105,
   "id": "ae888843-1c3b-412c-8cd0-22f046228382",
   "metadata": {},
   "outputs": [
    {
     "data": {
      "text/plain": [
       "\"['2', '0', '5', '5', '0', '2']\""
      ]
     },
     "execution_count": 105,
     "metadata": {},
     "output_type": "execute_result"
    }
   ],
   "source": [
    "solution(rsp)"
   ]
  },
  {
   "cell_type": "code",
   "execution_count": 121,
   "id": "a98bc2a9-a3d4-4455-b6ab-f06e6291fd77",
   "metadata": {},
   "outputs": [],
   "source": [
    "def solution2(rsp):\n",
    "    res = []\n",
    "    for i in range(len(rsp)):\n",
    "        if rsp[i] == 0:\n",
    "            res.append('5')\n",
    "        elif rsp[i] == 2:\n",
    "            res.append('0')\n",
    "        elif rsp[i] == 5:\n",
    "            res.append('2')\n",
    "    str = ''        \n",
    "    for s in res:\n",
    "        str += s\n",
    "    return str"
   ]
  },
  {
   "cell_type": "code",
   "execution_count": 123,
   "id": "22f2a493-70d3-462c-9baa-4061a64a938d",
   "metadata": {},
   "outputs": [
    {
     "data": {
      "text/plain": [
       "'205502'"
      ]
     },
     "execution_count": 123,
     "metadata": {},
     "output_type": "execute_result"
    }
   ],
   "source": [
    "solution2(rsp)"
   ]
  },
  {
   "cell_type": "code",
   "execution_count": 125,
   "id": "a772ffc1-2615-42b8-acdf-a982f5153812",
   "metadata": {},
   "outputs": [],
   "source": [
    "def solution3(rsp):\n",
    "    res = []\n",
    "    for i in range(len(rsp)):\n",
    "        if rsp[i] == 0:\n",
    "            res.append('5')\n",
    "        elif rsp[i] == 2:\n",
    "            res.append('0')\n",
    "        elif rsp[i] == 5:\n",
    "            res.append('2')\n",
    "    str = ''\n",
    "    for s in res:\n",
    "        str += s\n",
    "    return str"
   ]
  },
  {
   "cell_type": "code",
   "execution_count": 131,
   "id": "0a932c83-db47-415c-9c39-c2ec73d63330",
   "metadata": {},
   "outputs": [
    {
     "data": {
      "text/plain": [
       "'2055020022555'"
      ]
     },
     "execution_count": 131,
     "metadata": {},
     "output_type": "execute_result"
    }
   ],
   "source": [
    "rsp3 = [5,2,0,0,2,5,2,2,5,5,0,0,0]\n",
    "solution3(rsp3)"
   ]
  },
  {
   "cell_type": "code",
   "execution_count": 135,
   "id": "8fb76990-55ab-4ee8-b2a8-3fdf2263011e",
   "metadata": {},
   "outputs": [
    {
     "data": {
      "text/plain": [
       "'2'"
      ]
     },
     "execution_count": 135,
     "metadata": {},
     "output_type": "execute_result"
    }
   ],
   "source": [
    "solution3(rsp3)[0]"
   ]
  },
  {
   "cell_type": "code",
   "execution_count": 149,
   "id": "ab106ca5-8e01-4d93-b1cd-efd652ede70d",
   "metadata": {},
   "outputs": [],
   "source": [
    "i = []\n",
    "i = [solution3(rsp3)[a] for a in range(len(solution3(rsp3)))]"
   ]
  },
  {
   "cell_type": "code",
   "execution_count": 151,
   "id": "b21f25a5-077b-46b8-84ca-1b7bd2de2037",
   "metadata": {},
   "outputs": [
    {
     "name": "stdout",
     "output_type": "stream",
     "text": [
      "['2', '0', '5', '5', '0', '2', '0', '0', '2', '2', '5', '5', '5']\n"
     ]
    }
   ],
   "source": [
    "print(i)"
   ]
  },
  {
   "cell_type": "code",
   "execution_count": 169,
   "id": "cebbef72-356c-4f78-9e30-bbc120a9a9a1",
   "metadata": {},
   "outputs": [],
   "source": [
    "def solution4(rsp):\n",
    "    rsp_list = [rsp[i] for i in range(len(rsp))]\n",
    "    rsp_list = list(map(int,rsp_list))\n",
    "    res = []\n",
    "    for i in range(len(rsp)):\n",
    "        if rsp[i] == 0:\n",
    "            res.append('5')\n",
    "        elif rsp[i] == 2:\n",
    "            res.append('0')\n",
    "        elif rsp[i] == 5:\n",
    "            res.append('2')\n",
    "    str = ''\n",
    "    for s in res:\n",
    "        str += s\n",
    "    return str"
   ]
  },
  {
   "cell_type": "code",
   "execution_count": 171,
   "id": "b9747b40-32fc-46a6-b9d2-3efad2c7f002",
   "metadata": {},
   "outputs": [
    {
     "data": {
      "text/plain": [
       "''"
      ]
     },
     "execution_count": 171,
     "metadata": {},
     "output_type": "execute_result"
    }
   ],
   "source": [
    "rsp = \"520505250502\"\n",
    "solution4(rsp)"
   ]
  },
  {
   "cell_type": "code",
   "execution_count": 179,
   "id": "bbe25c6e-32f9-41d3-a5eb-fc5286f17083",
   "metadata": {},
   "outputs": [
    {
     "name": "stdout",
     "output_type": "stream",
     "text": [
      "[5, 2, 0, 5, 0, 5, 2, 5, 0, 5, 0, 2]\n",
      "['2', '0', '5', '2', '5', '2', '0', '2', '5', '2', '5', '0']\n",
      "205252025250\n"
     ]
    }
   ],
   "source": [
    "rsp = \"520505250502\"\n",
    "\n",
    "rsp_list = [rsp[i] for i in range(len(rsp))]\n",
    "rsp_list = list(map(int,rsp_list))\n",
    "\n",
    "print(rsp_list)\n",
    "\n",
    "res = []\n",
    "for i in range(len(rsp_list)):\n",
    "    if rsp_list[i] == 0:\n",
    "        res.append('5')\n",
    "    elif rsp_list[i] == 2:\n",
    "        res.append('0')\n",
    "    elif rsp_list[i] == 5:\n",
    "        res.append('2')\n",
    "\n",
    "print(res)\n",
    "\n",
    "str = ''\n",
    "for s in res:\n",
    "    str += s\n",
    "\n",
    "print(str)"
   ]
  },
  {
   "cell_type": "code",
   "execution_count": 183,
   "id": "d9183880-7e4f-4d72-b612-875cf035f30b",
   "metadata": {},
   "outputs": [],
   "source": [
    "def solution5(rsp):\n",
    "    rsp_list = [rsp[i] for i in range(len(rsp))]\n",
    "    rsp_list = list(map(int,rsp_list))\n",
    "    res = []\n",
    "    for i in range(len(rsp_list)):\n",
    "        if rsp_list[i] == 0:\n",
    "            res.append('5')\n",
    "        elif rsp_list[i] == 2:\n",
    "            res.append('0')\n",
    "        elif rsp_list[i] == 5:\n",
    "            res.append('2')\n",
    "    str = ''\n",
    "    for s in res:\n",
    "        str += s\n",
    "    return str"
   ]
  },
  {
   "cell_type": "code",
   "execution_count": 185,
   "id": "60d2c67f-f2e0-4cf6-8962-d397ea56da71",
   "metadata": {},
   "outputs": [
    {
     "data": {
      "text/plain": [
       "'205252025250'"
      ]
     },
     "execution_count": 185,
     "metadata": {},
     "output_type": "execute_result"
    }
   ],
   "source": [
    "rsp = \"520505250502\"\n",
    "solution5(rsp)"
   ]
  },
  {
   "cell_type": "code",
   "execution_count": 187,
   "id": "73eb080a-b457-4d3b-b195-be66f0ab2437",
   "metadata": {},
   "outputs": [],
   "source": [
    "def solution(rsp):\n",
    "    d = {'0':'5','2':'0','5':'2'}\n",
    "    return ''.join(d[i] for i in rsp)"
   ]
  },
  {
   "cell_type": "code",
   "execution_count": 189,
   "id": "5ae2307b-6934-4d0d-b7b9-7c849b13dd24",
   "metadata": {},
   "outputs": [],
   "source": [
    "def solution(rsp):\n",
    "    rsp =rsp.replace('2','s')\n",
    "    rsp =rsp.replace('5','p')\n",
    "    rsp =rsp.replace('0','r')\n",
    "    rsp =rsp.replace('r','5')\n",
    "    rsp =rsp.replace('s','0')\n",
    "    rsp =rsp.replace('p','2')\n",
    "    return rsp"
   ]
  },
  {
   "cell_type": "code",
   "execution_count": 191,
   "id": "ef8941de-95f0-43bf-bf00-7c9d2c554dd7",
   "metadata": {},
   "outputs": [],
   "source": [
    "def solution(rsp):\n",
    "    answer = ''\n",
    "    for i in rsp :\n",
    "        if i == '0' :\n",
    "            answer += '5'\n",
    "        elif i == '2' :\n",
    "            answer += '0'\n",
    "        else :\n",
    "            answer += '2'\n",
    "    return answer"
   ]
  },
  {
   "cell_type": "code",
   "execution_count": null,
   "id": "4b009bd2-a47c-4fda-ab53-509476cfe75b",
   "metadata": {},
   "outputs": [],
   "source": []
  }
 ],
 "metadata": {
  "kernelspec": {
   "display_name": "Python 3 (ipykernel)",
   "language": "python",
   "name": "python3"
  },
  "language_info": {
   "codemirror_mode": {
    "name": "ipython",
    "version": 3
   },
   "file_extension": ".py",
   "mimetype": "text/x-python",
   "name": "python",
   "nbconvert_exporter": "python",
   "pygments_lexer": "ipython3",
   "version": "3.12.4"
  }
 },
 "nbformat": 4,
 "nbformat_minor": 5
}
