{
 "cells": [
  {
   "cell_type": "code",
   "execution_count": 6,
   "id": "e985bd9a-5cf0-407b-aef7-ddc99a8193e8",
   "metadata": {},
   "outputs": [
    {
     "ename": "TypeError",
     "evalue": "string indices must be integers, not 'str'",
     "output_type": "error",
     "traceback": [
      "\u001b[1;31m---------------------------------------------------------------------------\u001b[0m",
      "\u001b[1;31mTypeError\u001b[0m                                 Traceback (most recent call last)",
      "Cell \u001b[1;32mIn[6], line 3\u001b[0m\n\u001b[0;32m      1\u001b[0m num \u001b[38;5;241m=\u001b[39m \u001b[38;5;241m2376453\u001b[39m\n\u001b[0;32m      2\u001b[0m num_s \u001b[38;5;241m=\u001b[39m \u001b[38;5;28mstr\u001b[39m(num)\n\u001b[1;32m----> 3\u001b[0m num_l \u001b[38;5;241m=\u001b[39m [\u001b[38;5;28mint\u001b[39m(num_s[i]) \u001b[38;5;28;01mfor\u001b[39;00m i \u001b[38;5;129;01min\u001b[39;00m num_s]\n\u001b[0;32m      4\u001b[0m \u001b[38;5;28;01mif\u001b[39;00m k \u001b[38;5;129;01min\u001b[39;00m num_l:\n\u001b[0;32m      5\u001b[0m     a \u001b[38;5;241m=\u001b[39m num_l\u001b[38;5;241m.\u001b[39mindex(k)\n",
      "\u001b[1;31mTypeError\u001b[0m: string indices must be integers, not 'str'"
     ]
    }
   ],
   "source": [
    "num = 2376453\n",
    "num_s = str(num)\n",
    "num_l = [int(num_s[i]) for i in num_s]\n",
    "if k in num_l:\n",
    "    a = num_l.index(k)\n",
    "    print(a)\n",
    "else: \n",
    "    print(-1)"
   ]
  },
  {
   "cell_type": "code",
   "execution_count": 22,
   "id": "712eb022-8d53-4380-9696-6ce6d362e5d5",
   "metadata": {},
   "outputs": [
    {
     "ename": "TypeError",
     "evalue": "string indices must be integers, not 'str'",
     "output_type": "error",
     "traceback": [
      "\u001b[1;31m---------------------------------------------------------------------------\u001b[0m",
      "\u001b[1;31mTypeError\u001b[0m                                 Traceback (most recent call last)",
      "Cell \u001b[1;32mIn[22], line 4\u001b[0m\n\u001b[0;32m      2\u001b[0m num_s \u001b[38;5;241m=\u001b[39m \u001b[38;5;28mstr\u001b[39m(num)\n\u001b[0;32m      3\u001b[0m \u001b[38;5;28;01mfor\u001b[39;00m i \u001b[38;5;129;01min\u001b[39;00m num_s:\n\u001b[1;32m----> 4\u001b[0m     num_l \u001b[38;5;241m=\u001b[39m [\u001b[38;5;28mmap\u001b[39m(\u001b[38;5;28mint\u001b[39m,num_s[i])]\n\u001b[0;32m      6\u001b[0m     \u001b[38;5;28mprint\u001b[39m(num_l)\n\u001b[0;32m      7\u001b[0m \u001b[38;5;28;01melse\u001b[39;00m: \n",
      "\u001b[1;31mTypeError\u001b[0m: string indices must be integers, not 'str'"
     ]
    }
   ],
   "source": [
    "num = 2376453\n",
    "num_s = str(num)\n",
    "for i in num_s:\n",
    "    num_l = [map(int,num_s[i])]\n",
    "\n",
    "    print(num_l)\n",
    "else: \n",
    "    print(-1)"
   ]
  },
  {
   "cell_type": "code",
   "execution_count": 14,
   "id": "8e55a21b-0402-44f4-8757-4f7db59b3ca6",
   "metadata": {},
   "outputs": [
    {
     "data": {
      "text/plain": [
       "'3'"
      ]
     },
     "execution_count": 14,
     "metadata": {},
     "output_type": "execute_result"
    }
   ],
   "source": [
    "num = 2376453\n",
    "num_s = str(num)\n",
    "num_s[1]"
   ]
  },
  {
   "cell_type": "code",
   "execution_count": null,
   "id": "93faa82e-b343-4c23-b484-cb346dd80d22",
   "metadata": {},
   "outputs": [],
   "source": []
  }
 ],
 "metadata": {
  "kernelspec": {
   "display_name": "Python 3 (ipykernel)",
   "language": "python",
   "name": "python3"
  },
  "language_info": {
   "codemirror_mode": {
    "name": "ipython",
    "version": 3
   },
   "file_extension": ".py",
   "mimetype": "text/x-python",
   "name": "python",
   "nbconvert_exporter": "python",
   "pygments_lexer": "ipython3",
   "version": "3.12.4"
  }
 },
 "nbformat": 4,
 "nbformat_minor": 5
}
