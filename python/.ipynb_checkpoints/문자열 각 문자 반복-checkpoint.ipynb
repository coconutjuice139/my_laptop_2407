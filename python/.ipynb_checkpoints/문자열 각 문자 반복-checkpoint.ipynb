{
 "cells": [
  {
   "cell_type": "code",
   "execution_count": 1,
   "id": "fe43393d-dad7-4bfa-ae3d-e566a520081c",
   "metadata": {},
   "outputs": [],
   "source": [
    "def solution(my_string, n):\n",
    "    a = list(my_string)\n",
    "    b = []\n",
    "    for i in a:\n",
    "        b.append(i*n)\n",
    "    answer = \"\".join(b)\n",
    "    return answer"
   ]
  },
  {
   "cell_type": "code",
   "execution_count": 3,
   "id": "f36df20a-22ae-4ccc-a0c4-6acd58127ed8",
   "metadata": {},
   "outputs": [],
   "source": [
    "def solution(my_string, n):\n",
    "    return ''.join(i*n for i in my_string)"
   ]
  },
  {
   "cell_type": "code",
   "execution_count": null,
   "id": "b303b1b5-9172-4066-80b8-24ec070b3b1c",
   "metadata": {},
   "outputs": [],
   "source": [
    "def solution(my_string, n):\n",
    "    answer = ''\n",
    "\n",
    "    for c in list(my_string):\n",
    "        answer += c*n\n",
    "    return answer"
   ]
  }
 ],
 "metadata": {
  "kernelspec": {
   "display_name": "Python 3 (ipykernel)",
   "language": "python",
   "name": "python3"
  },
  "language_info": {
   "codemirror_mode": {
    "name": "ipython",
    "version": 3
   },
   "file_extension": ".py",
   "mimetype": "text/x-python",
   "name": "python",
   "nbconvert_exporter": "python",
   "pygments_lexer": "ipython3",
   "version": "3.12.4"
  }
 },
 "nbformat": 4,
 "nbformat_minor": 5
}
