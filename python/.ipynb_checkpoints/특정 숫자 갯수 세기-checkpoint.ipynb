{
 "cells": [
  {
   "cell_type": "code",
   "execution_count": 15,
   "id": "8de45a4e-c7ed-426e-949c-8348087570cc",
   "metadata": {},
   "outputs": [
    {
     "name": "stdout",
     "output_type": "stream",
     "text": [
      "3\n"
     ]
    }
   ],
   "source": [
    "order = 235343\n",
    "order = str(order)\n",
    "order_list = [1 for i in order if (i in '369')]\n",
    "\n",
    "print(sum(order_list))"
   ]
  },
  {
   "cell_type": "code",
   "execution_count": null,
   "id": "e48e0a7c-ff0f-4448-829e-e54c0068b0cb",
   "metadata": {},
   "outputs": [],
   "source": [
    "def solution(order):\n",
    "\n",
    "    order_str = str(order)\n",
    "\n",
    "    order_list = [1 for i in order_str if (i in '369')]\n",
    "\n",
    "    return sum(order_list)\n"
   ]
  },
  {
   "cell_type": "code",
   "execution_count": null,
   "id": "3896a6e4-ebf9-49bd-9571-899a922d0150",
   "metadata": {},
   "outputs": [],
   "source": [
    "def solution(order):\n",
    "    return sum(map(lambda x: str(order).count(str(x)), [3, 6, 9]))"
   ]
  },
  {
   "cell_type": "code",
   "execution_count": null,
   "id": "b233b480-f568-4bf1-8fd1-bc1b69912e91",
   "metadata": {},
   "outputs": [],
   "source": [
    "def solution(order):\n",
    "    answer = 0\n",
    "    order = str(order)\n",
    "    return order.count('3') + order.count('6') + order.count('9')"
   ]
  }
 ],
 "metadata": {
  "kernelspec": {
   "display_name": "Python 3 (ipykernel)",
   "language": "python",
   "name": "python3"
  },
  "language_info": {
   "codemirror_mode": {
    "name": "ipython",
    "version": 3
   },
   "file_extension": ".py",
   "mimetype": "text/x-python",
   "name": "python",
   "nbconvert_exporter": "python",
   "pygments_lexer": "ipython3",
   "version": "3.12.4"
  }
 },
 "nbformat": 4,
 "nbformat_minor": 5
}
