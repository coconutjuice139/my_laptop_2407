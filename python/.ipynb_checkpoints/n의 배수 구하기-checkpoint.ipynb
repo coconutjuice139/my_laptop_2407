{
 "cells": [
  {
   "cell_type": "code",
   "execution_count": 1,
   "id": "04d381c0-5155-4925-a819-a5ff605b7419",
   "metadata": {},
   "outputs": [],
   "source": [
    "def solution(n, numlist):\n",
    "\n",
    "    a=[]\n",
    "    for i in numlist:\n",
    "        if i % n == 0:\n",
    "            a.append(i)\n",
    "\n",
    "    return a\n"
   ]
  },
  {
   "cell_type": "code",
   "execution_count": 3,
   "id": "33247c23-c390-401e-81a4-94d2b2e28839",
   "metadata": {},
   "outputs": [],
   "source": [
    "def solution(n, numlist):\n",
    "    return list(filter(lambda v: v%n==0, numlist))"
   ]
  },
  {
   "cell_type": "code",
   "execution_count": 5,
   "id": "4cfea345-849e-41d1-bc57-0d594ff05fc3",
   "metadata": {},
   "outputs": [],
   "source": [
    "def solution(n, numlist):\n",
    "    answer = [i for i in numlist if i%n==0]\n",
    "    return answer"
   ]
  },
  {
   "cell_type": "code",
   "execution_count": null,
   "id": "03c05a85-0699-430e-934e-aad16fdc5b23",
   "metadata": {},
   "outputs": [],
   "source": []
  }
 ],
 "metadata": {
  "kernelspec": {
   "display_name": "Python 3 (ipykernel)",
   "language": "python",
   "name": "python3"
  },
  "language_info": {
   "codemirror_mode": {
    "name": "ipython",
    "version": 3
   },
   "file_extension": ".py",
   "mimetype": "text/x-python",
   "name": "python",
   "nbconvert_exporter": "python",
   "pygments_lexer": "ipython3",
   "version": "3.12.4"
  }
 },
 "nbformat": 4,
 "nbformat_minor": 5
}
