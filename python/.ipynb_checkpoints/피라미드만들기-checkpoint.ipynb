{
 "cells": [
  {
   "cell_type": "code",
   "execution_count": null,
   "id": "d8ddb260-db3c-4498-b19b-cf0c0cb65aeb",
   "metadata": {},
   "outputs": [],
   "source": [
    "n = int(input())\n",
    "for i in range(n):\n",
    "    for j in range(i+1):\n",
    "        print('*', end = \"\")\n",
    "    print(\"\")"
   ]
  },
  {
   "cell_type": "code",
   "execution_count": null,
   "id": "7217e4a4-31e7-4ecd-9f5c-fb1d271f0afc",
   "metadata": {},
   "outputs": [],
   "source": [
    "print('\\n'.join('*' * (i + 1) for i in range(int(input()))))"
   ]
  },
  {
   "cell_type": "code",
   "execution_count": null,
   "id": "66c52bd0-202c-4c0d-a361-9c5607152f38",
   "metadata": {},
   "outputs": [],
   "source": [
    "n = int(input())\n",
    "for i in range(1,n+1):\n",
    "    print('*'*i)\n"
   ]
  },
  {
   "cell_type": "code",
   "execution_count": null,
   "id": "bab7a64c-ba5f-454a-a2ad-7e937729a6f4",
   "metadata": {},
   "outputs": [],
   "source": []
  }
 ],
 "metadata": {
  "kernelspec": {
   "display_name": "Python 3 (ipykernel)",
   "language": "python",
   "name": "python3"
  },
  "language_info": {
   "codemirror_mode": {
    "name": "ipython",
    "version": 3
   },
   "file_extension": ".py",
   "mimetype": "text/x-python",
   "name": "python",
   "nbconvert_exporter": "python",
   "pygments_lexer": "ipython3",
   "version": "3.12.4"
  }
 },
 "nbformat": 4,
 "nbformat_minor": 5
}
