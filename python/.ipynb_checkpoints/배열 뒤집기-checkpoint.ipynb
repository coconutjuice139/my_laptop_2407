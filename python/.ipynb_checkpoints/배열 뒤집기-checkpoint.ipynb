{
 "cells": [
  {
   "cell_type": "code",
   "execution_count": 1,
   "id": "5090f5d0-4742-424d-a2da-3d99a639a8e9",
   "metadata": {},
   "outputs": [],
   "source": [
    "def solution(num_list):\n",
    "    num_list.reverse()\n",
    "    return num_list"
   ]
  },
  {
   "cell_type": "code",
   "execution_count": 3,
   "id": "b95dd6f5-a8e8-4441-b292-d84efd7ff856",
   "metadata": {},
   "outputs": [],
   "source": [
    "def solution(num_list):\n",
    "    return num_list[::-1]"
   ]
  },
  {
   "cell_type": "code",
   "execution_count": null,
   "id": "9b9de797-1ec4-4383-8b8b-5593a80d817b",
   "metadata": {},
   "outputs": [],
   "source": []
  }
 ],
 "metadata": {
  "kernelspec": {
   "display_name": "Python 3 (ipykernel)",
   "language": "python",
   "name": "python3"
  },
  "language_info": {
   "codemirror_mode": {
    "name": "ipython",
    "version": 3
   },
   "file_extension": ".py",
   "mimetype": "text/x-python",
   "name": "python",
   "nbconvert_exporter": "python",
   "pygments_lexer": "ipython3",
   "version": "3.12.4"
  }
 },
 "nbformat": 4,
 "nbformat_minor": 5
}
