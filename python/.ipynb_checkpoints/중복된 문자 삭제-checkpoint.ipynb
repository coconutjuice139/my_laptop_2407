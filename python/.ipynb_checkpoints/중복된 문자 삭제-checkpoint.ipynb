{
 "cells": [
  {
   "cell_type": "code",
   "execution_count": 73,
   "id": "709f1937-512b-41be-9119-9c0aa0269bad",
   "metadata": {},
   "outputs": [],
   "source": [
    "def solution(my_string):\n",
    "    answer = ''\n",
    "    str_l = [str(c) for c in my_string]\n",
    "    str_rev = list(reversed(str_l))\n",
    "    alp = 'abcdefghijklmnopqrstuvwxyz'\n",
    "    ALP = 'ABCDEFGHIJKLMNOPQRSTUVWXYZ'\n",
    "    for i in alp:\n",
    "        if str_rev.count(i) > 1:\n",
    "            a = str_rev.count(i)\n",
    "            while a != 1:\n",
    "                str_rev.remove(i)\n",
    "                a -= 1\n",
    "    for j in ALP:\n",
    "        if str_rev.count(j) > 1:\n",
    "            a = str_rev.count(j)\n",
    "            while a != 1:\n",
    "                str_rev.remove(j)\n",
    "                a -= 1\n",
    "\n",
    "    if str_rev.count(' ') >1:\n",
    "        a = str_rev.count(' ')\n",
    "        while a != 1:\n",
    "            str_rev.remove(' ')\n",
    "            a -= 1\n",
    "            \n",
    "    answer = list(reversed(str_rev))\n",
    "    return answer"
   ]
  },
  {
   "cell_type": "code",
   "execution_count": 43,
   "id": "b55d1b4b-1e77-4130-888e-bfebc9b7538c",
   "metadata": {},
   "outputs": [
    {
     "data": {
      "text/plain": [
       "['s', 'r', 'o', 'n', 'l', 'k', 'g', 'f', 'd', 'a']"
      ]
     },
     "execution_count": 43,
     "metadata": {},
     "output_type": "execute_result"
    }
   ],
   "source": [
    "my_string = 'asdkgarogsdfnklasdf'\n",
    "solution(my_string)"
   ]
  },
  {
   "cell_type": "code",
   "execution_count": 45,
   "id": "b585e3a0-5f7c-4ebd-82fd-44ba6777a900",
   "metadata": {},
   "outputs": [
    {
     "name": "stdout",
     "output_type": "stream",
     "text": [
      "['a', 's', 'd', 'k', 'g', 'a', 'r', 'o', 'g', 's', 'd', 'f', 'n', 'k', 'l', 'a', 's', 'd', 'f']\n"
     ]
    }
   ],
   "source": [
    "str_l = [str(c) for c in my_string]\n",
    "print(str_l)"
   ]
  },
  {
   "cell_type": "code",
   "execution_count": 59,
   "id": "d2201922-f061-43bd-b134-34fa02d8d8ad",
   "metadata": {},
   "outputs": [
    {
     "name": "stdout",
     "output_type": "stream",
     "text": [
      "['f', 'd', 's', 'a', 'l', 'k', 'n', 'f', 'd', 's', 'g', 'o', 'r', 'a', 'g', 'k', 'd', 's', 'a']\n"
     ]
    }
   ],
   "source": [
    "str_rev = list(reversed(str_l))\n",
    "print(str_rev)\n",
    "# sort는 순차정렬의 의미가 있으니\n",
    "# 완전 뒤집는 의미를 갖는 reversed를 이용"
   ]
  },
  {
   "cell_type": "code",
   "execution_count": 71,
   "id": "e59614cc-ca4b-47f2-98d3-57c5eb8f5561",
   "metadata": {},
   "outputs": [
    {
     "data": {
      "text/plain": [
       "['a', 's', 'd', 'k', 'g', 'r', 'o', 'f', 'n', 'l']"
      ]
     },
     "execution_count": 71,
     "metadata": {},
     "output_type": "execute_result"
    }
   ],
   "source": [
    "my_string = 'asdkgarogsdfnklasdf'\n",
    "solution(my_string)"
   ]
  },
  {
   "cell_type": "code",
   "execution_count": null,
   "id": "2e30ae66-437b-4c01-ab85-9cbae17b1a88",
   "metadata": {},
   "outputs": [],
   "source": []
  }
 ],
 "metadata": {
  "kernelspec": {
   "display_name": "Python 3 (ipykernel)",
   "language": "python",
   "name": "python3"
  },
  "language_info": {
   "codemirror_mode": {
    "name": "ipython",
    "version": 3
   },
   "file_extension": ".py",
   "mimetype": "text/x-python",
   "name": "python",
   "nbconvert_exporter": "python",
   "pygments_lexer": "ipython3",
   "version": "3.12.4"
  }
 },
 "nbformat": 4,
 "nbformat_minor": 5
}
