{
 "cells": [
  {
   "cell_type": "code",
   "execution_count": 2,
   "metadata": {},
   "outputs": [
    {
     "name": "stdout",
     "output_type": "stream",
     "text": [
      "Hello, My name is Jinhyun, I played in MF in center\n"
     ]
    }
   ],
   "source": [
    "class SoccerPlayer():\n",
    "    # 변수와 class의 함수명은 각각 snake_case와 CamelCase를 사용한다.\n",
    "    # CamelCase는 띄워쓰는 부분에 대문자를 사용한다.\n",
    "\n",
    "    # class는 속성(가진 정보), 행동(method)이 필요하다.\n",
    "    # 속성을 만드는 것 : __init__<객체 초기화>(여러 속성 정보):\n",
    "    # 네임드 튜플과 비슷하다.\n",
    "    def __init__(self, name:str, position:str, back_number:int):\n",
    "        self.name = name\n",
    "        self.position = position\n",
    "        self.back_number = back_number\n",
    "\n",
    "        # __(언더바 2개)는 특수한 예약함수나 벼수 그리고 함수명 변경(맨글링)으로 사용한다.\n",
    "        # ex) __main__, __add__, __str__, __eq__\n",
    "\n",
    "    def __str__(self): #print를 쓰면 return을 출력하는 기능을 부여\n",
    "        return \"Hello, My name is %s, I played in %s in center\" \\\n",
    "        %(self.name, self.position)\n",
    "    \n",
    "jinhyun = SoccerPlayer(\"Jinhyun\", \"MF\", 10)\n",
    "print(jinhyun)"
   ]
  },
  {
   "cell_type": "code",
   "execution_count": 9,
   "metadata": {},
   "outputs": [
    {
     "name": "stdout",
     "output_type": "stream",
     "text": [
      "Hello, My name is choi, I played in 10 in center\n",
      "<class 'int'>\n"
     ]
    }
   ],
   "source": [
    "choi = SoccerPlayer(\"choi\", 10, \"10\")\n",
    "print(choi)\n",
    "\n",
    "print(type(choi.position))"
   ]
  },
  {
   "cell_type": "code",
   "execution_count": 39,
   "metadata": {},
   "outputs": [],
   "source": [
    "# notebook 구현하기\n",
    "# 1. Note를 정리하는 프로그램\n",
    "# 2. 사용자는 Note에 뭔가를 적을 수 있다.\n",
    "# 3. Note에는 Content(str)이 있고, 내용을 제거할 수 있다.\n",
    "# 4. 두 개의 노트북을 합쳐 하나로 만들 수 있다.\n",
    "# 5. Note는 Notebook에 삽입된다.\n",
    "# 6. Notebook은 Note가 삽입 될 때, 페이지(attribute)를 생성하며, 최고 300페이지까지 저장 가능하다.\n",
    "# 7. 300페이지를 넘으면 더이상 노트를 삽입할 수 없다.\n",
    "\n",
    "# class로 만들기 위한 함수 정리\n",
    "# 1. Notebook['methode'] = (add_note, remove_note, get_number_of pages)\n",
    "# 2. Notebook['variable'] = (title<생략가능>, page_number, notes)\n",
    "# 3. note['method'] = (write_content, remove_all)\n",
    "# 4. note['variable'] = content\n",
    "\n",
    "class Note(object):\n",
    "    def __init__(self, content = None): # 노트 첫 생성\n",
    "        self.content = content\n",
    "\n",
    "    def write_content(self, content): # 노트의 내용 작성\n",
    "        self.content = content\n",
    "\n",
    "    def remove_all(self): # 노트 내용 삭제\n",
    "        self.content = \"\" \n",
    "    \n",
    "    def __add__(self, other): # 두 note의 합\n",
    "        return self.content + other.content\n",
    "    \n",
    "    def __str__(self): # note print\n",
    "        return self.content\n",
    "    \n",
    "\n",
    "class NoteBook(object):\n",
    "    def __init__(self, title): # 첫 노트북 생성\n",
    "        self.title = title\n",
    "        self.page_number = 1\n",
    "        self.notes = {}\n",
    "\n",
    "    def add_note(self, note, page = 0): #노트 추가\n",
    "        if self.page_number < 300: #페이지 수 300개 넘는지 확인\n",
    "            if page == 0:\n",
    "                self.notes[self.page_number] = note\n",
    "                self.page_number += 1\n",
    "            else:\n",
    "                self.notes[page] = note\n",
    "                self.page_number += 1\n",
    "        else:\n",
    "            print('page가 모두 채워졌습니다.')\n",
    "\n",
    "    def remove_note(self, page_number): #노트 삭제\n",
    "        if page_number in self.notes.keys():\n",
    "            return self.notes.pop(page_number)\n",
    "        else:\n",
    "            print(\"해당 페이지는 존재하지 않습니다.\")\n",
    "\n",
    "    def get_number_of_pages(self): #노트 페이지 수 출력\n",
    "        return len(self.notes.keys())"
   ]
  },
  {
   "cell_type": "code",
   "execution_count": 40,
   "metadata": {},
   "outputs": [
    {
     "data": {
      "text/plain": [
       "<__main__.NoteBook at 0x29209b54050>"
      ]
     },
     "execution_count": 40,
     "metadata": {},
     "output_type": "execute_result"
    }
   ],
   "source": [
    "my_notebook = NoteBook(\"팀 랩 강의노트\")\n",
    "my_notebook"
   ]
  },
  {
   "cell_type": "code",
   "execution_count": 41,
   "metadata": {},
   "outputs": [
    {
     "data": {
      "text/plain": [
       "'팀 랩 강의노트'"
      ]
     },
     "execution_count": 41,
     "metadata": {},
     "output_type": "execute_result"
    }
   ],
   "source": [
    "my_notebook.title"
   ]
  },
  {
   "cell_type": "code",
   "execution_count": 42,
   "metadata": {},
   "outputs": [],
   "source": [
    "new_note = Note(\"아 수업하기 싫다\")"
   ]
  },
  {
   "cell_type": "code",
   "execution_count": 43,
   "metadata": {},
   "outputs": [
    {
     "name": "stdout",
     "output_type": "stream",
     "text": [
      "아 수업하기 싫다\n"
     ]
    }
   ],
   "source": [
    "print(new_note)"
   ]
  },
  {
   "cell_type": "code",
   "execution_count": 44,
   "metadata": {},
   "outputs": [
    {
     "name": "stdout",
     "output_type": "stream",
     "text": [
      "파이썬 강의\n"
     ]
    }
   ],
   "source": [
    "new_note2 = Note(\"파이썬 강의\")\n",
    "print(new_note2)"
   ]
  },
  {
   "cell_type": "code",
   "execution_count": 45,
   "metadata": {},
   "outputs": [
    {
     "data": {
      "text/plain": [
       "'아 수업하기 싫다파이썬 강의'"
      ]
     },
     "execution_count": 45,
     "metadata": {},
     "output_type": "execute_result"
    }
   ],
   "source": [
    "new_note.__add__(new_note2)"
   ]
  },
  {
   "cell_type": "code",
   "execution_count": 46,
   "metadata": {},
   "outputs": [
    {
     "name": "stdout",
     "output_type": "stream",
     "text": [
      "아 수업하기 싫다\n"
     ]
    }
   ],
   "source": [
    "print(new_note)"
   ]
  },
  {
   "cell_type": "code",
   "execution_count": 47,
   "metadata": {},
   "outputs": [],
   "source": [
    "my_notebook.add_note(new_note)"
   ]
  },
  {
   "cell_type": "code",
   "execution_count": 48,
   "metadata": {},
   "outputs": [
    {
     "name": "stdout",
     "output_type": "stream",
     "text": [
      "아 수업하기 싫다\n"
     ]
    },
    {
     "data": {
      "text/plain": [
       "1"
      ]
     },
     "execution_count": 48,
     "metadata": {},
     "output_type": "execute_result"
    }
   ],
   "source": [
    "print(my_notebook.notes[1])\n",
    "my_notebook.get_number_of_pages()"
   ]
  },
  {
   "cell_type": "code",
   "execution_count": 49,
   "metadata": {},
   "outputs": [],
   "source": [
    "my_notebook.add_note(new_note2, 100)"
   ]
  },
  {
   "cell_type": "code",
   "execution_count": 50,
   "metadata": {},
   "outputs": [
    {
     "data": {
      "text/plain": [
       "2"
      ]
     },
     "execution_count": 50,
     "metadata": {},
     "output_type": "execute_result"
    }
   ],
   "source": [
    "my_notebook.get_number_of_pages()"
   ]
  },
  {
   "cell_type": "code",
   "execution_count": 51,
   "metadata": {},
   "outputs": [
    {
     "data": {
      "text/plain": [
       "dict_keys([1, 100])"
      ]
     },
     "execution_count": 51,
     "metadata": {},
     "output_type": "execute_result"
    }
   ],
   "source": [
    "my_notebook.notes.keys()"
   ]
  },
  {
   "cell_type": "code",
   "execution_count": 33,
   "metadata": {},
   "outputs": [],
   "source": [
    "my_notebook.add_note(new_note)\n",
    "my_notebook.add_note(new_note2, 100)"
   ]
  },
  {
   "cell_type": "code",
   "execution_count": 52,
   "metadata": {},
   "outputs": [
    {
     "data": {
      "text/plain": [
       "{1: <__main__.Note at 0x29209b4d7f0>, 100: <__main__.Note at 0x29209b4f740>}"
      ]
     },
     "execution_count": 52,
     "metadata": {},
     "output_type": "execute_result"
    }
   ],
   "source": [
    "my_notebook.notes"
   ]
  },
  {
   "cell_type": "markdown",
   "metadata": {},
   "source": []
  },
  {
   "cell_type": "code",
   "execution_count": 38,
   "metadata": {},
   "outputs": [
    {
     "data": {
      "text/plain": [
       "<__main__.Note at 0x29209b4f3b0>"
      ]
     },
     "execution_count": 38,
     "metadata": {},
     "output_type": "execute_result"
    }
   ],
   "source": [
    "my_notebook.remove_note(100)"
   ]
  },
  {
   "cell_type": "code",
   "execution_count": null,
   "metadata": {},
   "outputs": [],
   "source": []
  }
 ],
 "metadata": {
  "kernelspec": {
   "display_name": "base",
   "language": "python",
   "name": "python3"
  },
  "language_info": {
   "codemirror_mode": {
    "name": "ipython",
    "version": 3
   },
   "file_extension": ".py",
   "mimetype": "text/x-python",
   "name": "python",
   "nbconvert_exporter": "python",
   "pygments_lexer": "ipython3",
   "version": "3.12.4"
  }
 },
 "nbformat": 4,
 "nbformat_minor": 2
}
