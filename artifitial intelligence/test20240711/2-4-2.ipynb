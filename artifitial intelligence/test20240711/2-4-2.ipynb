{
 "cells": [
  {
   "cell_type": "code",
   "execution_count": 2,
   "metadata": {},
   "outputs": [],
   "source": [
    "class Product(object):\n",
    "\t\tpass\n",
    "\t\t\n",
    "class Inventory(object):\n",
    "\t\tdef __init__(self):\n",
    "\t\t\t\tself.__items = [] #__(언더바 두개 이후 함수명은 private로 접근하면 오류를 띄움)\n",
    "\t\t\n",
    "\t\t@property # property decorator 숨겨진 변수를 변환하게 해준다.\n",
    "\t\tdef items(self):\n",
    "\t\t\t\treturn self.__items\n",
    "\t\t\t\t\n",
    "\t\tdef add_new_item(self, product):\n",
    "\t\t\t\tif type(product) == Product:\n",
    "\t\t\t\t\t\tself.__items.append(product)\n",
    "\t\t\t\t\t\tprint(\"New item added\")\n",
    "\t\t\t\telse:\n",
    "\t\t\t\t\t\traise ValueError(\"Invalid Item\")\n",
    "\t\t\t\t\t\t\n",
    "\t\t\t\t\t\t\n",
    "\t\tdef get_number_of_items(self):\n",
    "\t\t\t\treturn len(self.__items)"
   ]
  },
  {
   "cell_type": "code",
   "execution_count": 3,
   "metadata": {},
   "outputs": [
    {
     "name": "stdout",
     "output_type": "stream",
     "text": [
      "New item added\n",
      "New item added\n",
      "2\n"
     ]
    }
   ],
   "source": [
    "my_inventory = Inventory()\n",
    "my_inventory.add_new_item(Product())\n",
    "my_inventory.add_new_item(Product())\n",
    "print(my_inventory.get_number_of_items())"
   ]
  },
  {
   "cell_type": "code",
   "execution_count": 4,
   "metadata": {},
   "outputs": [
    {
     "name": "stdout",
     "output_type": "stream",
     "text": [
      "3\n"
     ]
    }
   ],
   "source": [
    "# 위의 property decorator가 있으면 함수를 변수처럼 호출이 가능하다.\n",
    "items = my_inventory.items\n",
    "items.append(Product())\n",
    "print(my_inventory.get_number_of_items())"
   ]
  },
  {
   "cell_type": "code",
   "execution_count": 6,
   "metadata": {},
   "outputs": [
    {
     "ename": "AttributeError",
     "evalue": "'Inventory' object has no attribute '__item'",
     "output_type": "error",
     "traceback": [
      "\u001b[1;31m---------------------------------------------------------------------------\u001b[0m",
      "\u001b[1;31mAttributeError\u001b[0m                            Traceback (most recent call last)",
      "Cell \u001b[1;32mIn[6], line 1\u001b[0m\n\u001b[1;32m----> 1\u001b[0m my_inventory\u001b[38;5;241m.\u001b[39m__item(product())\n",
      "\u001b[1;31mAttributeError\u001b[0m: 'Inventory' object has no attribute '__item'"
     ]
    }
   ],
   "source": [
    "my_inventory.__item(product())"
   ]
  },
  {
   "cell_type": "code",
   "execution_count": null,
   "metadata": {},
   "outputs": [],
   "source": []
  }
 ],
 "metadata": {
  "kernelspec": {
   "display_name": "base",
   "language": "python",
   "name": "python3"
  },
  "language_info": {
   "codemirror_mode": {
    "name": "ipython",
    "version": 3
   },
   "file_extension": ".py",
   "mimetype": "text/x-python",
   "name": "python",
   "nbconvert_exporter": "python",
   "pygments_lexer": "ipython3",
   "version": "3.12.4"
  }
 },
 "nbformat": 4,
 "nbformat_minor": 2
}
