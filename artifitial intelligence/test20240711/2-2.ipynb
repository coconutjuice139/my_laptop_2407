{
 "cells": [
  {
   "cell_type": "code",
   "execution_count": 16,
   "metadata": {},
   "outputs": [],
   "source": [
    "class Person(object): #부모 클래스 Person 선언\n",
    "\n",
    "    def __init__(self, name, age, gender):\n",
    "            self.name = name # 속성값 지정, 해당 변수가 클래스의 attribute임을 명확히\n",
    "            self.age = age\n",
    "            self.gender = gender\n",
    "\n",
    "    def about_me(self): # method 선언\n",
    "        print(\"저의 이름은 \", self.name,\"이고, \\\n",
    "제 나이는 \", str(self.age),\"살 입니다.\")\n",
    "\n",
    "\n",
    "class Employee(Person): # 부모 클래스 Person으로 부터 상속\n",
    "    \n",
    "    def __init__(self, name, age, gender, salary, hire_date):\n",
    "        super().__init__(name, age, gender) #부모 객체 사용\n",
    "        self.salary = salary\n",
    "        self.hire_date = hire_date\n",
    "\n",
    "    def do_work(self): # 새로운 메서드 추가\n",
    "        print(\"열심히 일을 합시다\")\n",
    "    \n",
    "    def about_me(self): # 부모 클래스 함수 재정의\n",
    "        super().about_me() # 부모 클래스 함수 사용\n",
    "        print(f'제 급여는 {self.salary}이고, 제 입사일은 {self.hire_date}입니다.')\n"
   ]
  },
  {
   "cell_type": "code",
   "execution_count": 17,
   "metadata": {},
   "outputs": [],
   "source": [
    "KSE = Person('KSE', 28, 'Male')"
   ]
  },
  {
   "cell_type": "code",
   "execution_count": 18,
   "metadata": {},
   "outputs": [
    {
     "data": {
      "text/plain": [
       "'KSE'"
      ]
     },
     "execution_count": 18,
     "metadata": {},
     "output_type": "execute_result"
    }
   ],
   "source": [
    "KSE.name"
   ]
  },
  {
   "cell_type": "code",
   "execution_count": 19,
   "metadata": {},
   "outputs": [
    {
     "data": {
      "text/plain": [
       "28"
      ]
     },
     "execution_count": 19,
     "metadata": {},
     "output_type": "execute_result"
    }
   ],
   "source": [
    "KSE.age"
   ]
  },
  {
   "cell_type": "code",
   "execution_count": 23,
   "metadata": {},
   "outputs": [],
   "source": [
    "E_KSE = Employee(\"KSE\", 50, 'male', 50, \"july\")"
   ]
  },
  {
   "cell_type": "code",
   "execution_count": 25,
   "metadata": {},
   "outputs": [
    {
     "name": "stdout",
     "output_type": "stream",
     "text": [
      "저의 이름은  KSE 이고,         제 나이는  28 살 입니다.\n"
     ]
    }
   ],
   "source": [
    "KSE.about_me()"
   ]
  },
  {
   "cell_type": "code",
   "execution_count": null,
   "metadata": {},
   "outputs": [],
   "source": []
  }
 ],
 "metadata": {
  "kernelspec": {
   "display_name": "base",
   "language": "python",
   "name": "python3"
  },
  "language_info": {
   "codemirror_mode": {
    "name": "ipython",
    "version": 3
   },
   "file_extension": ".py",
   "mimetype": "text/x-python",
   "name": "python",
   "nbconvert_exporter": "python",
   "pygments_lexer": "ipython3",
   "version": "3.12.4"
  }
 },
 "nbformat": 4,
 "nbformat_minor": 2
}
