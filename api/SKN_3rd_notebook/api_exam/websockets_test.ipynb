{
 "cells": [
  {
   "cell_type": "code",
   "execution_count": 1,
   "metadata": {},
   "outputs": [],
   "source": [
    "def stockspurchase(data_cnt, data):\n",
    "    print(\"============================================\")\n",
    "    menulist = \"유가증권단축종목코드|주식체결시간|주식현재가|전일대비부호|전일대비|전일대비율|가중평균주식가격|주식시가|주식최고가|주식최저가|매도호가1|매수호가1|체결거래량|누적거래량|누적거래대금|매도체결건수|매수체결건수|순매수체결건수|체결강도|총매도수량|총매수수량|체결구분|매수비율|전일거래량대비등락율|시가시간|시가대비구분|시가대비|최고가시간|고가대비구분|고가대비|최저가시간|저가대비구분|저가대비|영업일자|신장운영구분코드|거래정지여부|매도호가잔량|매수호가잔량|총매도호가잔량|총매수호가잔량|거래량회전율|전일동시간누적거래량|전일동시간누적거래량비율|시간구분코드|임의종료구분코드|정적VI발동기준가\"\n",
    "    menustr = menulist.split('|')\n",
    "    pValue = data.split('^')\n",
    "    i = 0\n",
    "    for cnt in range(data_cnt):     # 넘겨받은 체결데이터 개수만큼 print 한다\n",
    "        print(\"### [%d / %d]\"%(cnt+1, data_cnt))\n",
    "        for menu in menustr:\n",
    "            print(\"%-13s[%s]\" % (menu, pValue[i]))\n",
    "            i += 1"
   ]
  },
  {
   "cell_type": "code",
   "execution_count": 2,
   "metadata": {},
   "outputs": [],
   "source": [
    "import websockets\n",
    "import json\n",
    "import os\n",
    "import asyncio\n",
    "import time\n",
    "\n",
    "from Crypto.Cipher import AES\n",
    "from Crypto.Util.Padding import unpad\n",
    "from base64 import b64decode\n",
    "\n",
    "clearConsole = lambda: os.system('cls' if os.name in ('nt', 'dos') else 'clear')\n",
    "\n"
   ]
  },
  {
   "cell_type": "code",
   "execution_count": null,
   "metadata": {},
   "outputs": [],
   "source": [
    "senddata = '{\"header\" : \n",
    "                  { \n",
    "                  \"appkey\" : \"홈페이지에서 발급받은 APP Key\",\n",
    "                  \"appsecret\" : \"홈페이지에서 발급받은 APP Secret\",\n",
    "                  \"custtype\" : \"P\",\n",
    "                  \"tr_type\" : \"1\",\n",
    "                  \"content-type\" : \"utf-8\"\n",
    "                  },\n",
    "                  \"body\" : {\n",
    "                    \"input\":{\n",
    "                      \"tr_id\" : \"tr_id\"\n",
    "                      \"tr_key\" : \"구분값\"\n",
    "                      }\n",
    "                    }\n",
    "                  }'\n"
   ]
  }
 ],
 "metadata": {
  "kernelspec": {
   "display_name": ".venv",
   "language": "python",
   "name": "python3"
  },
  "language_info": {
   "codemirror_mode": {
    "name": "ipython",
    "version": 3
   },
   "file_extension": ".py",
   "mimetype": "text/x-python",
   "name": "python",
   "nbconvert_exporter": "python",
   "pygments_lexer": "ipython3",
   "version": "3.12.4"
  }
 },
 "nbformat": 4,
 "nbformat_minor": 2
}
