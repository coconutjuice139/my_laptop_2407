{
 "cells": [
  {
   "cell_type": "code",
   "execution_count": 3,
   "metadata": {},
   "outputs": [
    {
     "name": "stdout",
     "output_type": "stream",
     "text": [
      "https://openapivts.koreainvestment.com:29443/oauth2/tokenP\n"
     ]
    }
   ],
   "source": [
    "\n",
    "import os\n",
    "import time\n",
    "from datetime import datetime\n",
    "import yaml\n",
    "import json\n",
    "import requests\n",
    "\n",
    "config_root = 'C:\\\\dev\\\\api_exam\\\\test_data\\\\'\n",
    "\n",
    "token_tmp = config_root + 'KIS' + datetime.today().strftime(\"%Y%m%d\")\n",
    "\n",
    "if os.path.exists(token_tmp) == False:\n",
    "    f = open(token_tmp, \"w+\")\n",
    "\n",
    "with open(config_root + 'kis_devlp.yaml', encoding='UTF-8') as f:\n",
    "    _cfg = yaml.load(f, Loader=yaml.FullLoader)\n",
    "\n",
    "svr='vps'\n",
    "\n",
    "url = f'{_cfg[svr]}/oauth2/tokenP'\n",
    "print(url)\n",
    "\n"
   ]
  },
  {
   "cell_type": "code",
   "execution_count": 4,
   "metadata": {},
   "outputs": [
    {
     "name": "stdout",
     "output_type": "stream",
     "text": [
      "<Response [200]>\n"
     ]
    }
   ],
   "source": [
    "p = {\n",
    "        \"grant_type\": \"client_credentials\",\n",
    "        \"appkey\" : \"PSlk7opiVk7xrZASl1UIxKz9I03fvKVHIoj0\",\n",
    "        \"appsecret\": \"ydBlQkV4uT8A1+BdNtyru+LIZ/MrWdPY3Az7pAUWuwu5yfvqSk2YxeYz2gsf/m9X4uOCyBzT6yAigGXsR4W/0BBMyKXwShvIWriZMdiMepxJsC7TxnKkqRT77TT7hrnkCU+c1YBr7vynuNAfe6QMJ/oXazA3IMFhIk96tCkKHf+xW3SIs4U=\"\n",
    "    }\n",
    "\n",
    "base_headers = {\n",
    "    \"Content-Type\": \"application/json\",\n",
    "    \"Accept\": \"text/plain\",\n",
    "    \"charset\": \"UTF-8\",\n",
    "    'User-Agent': _cfg['my_agent']\n",
    "}\n",
    "\n",
    "res = requests.post(url, data=json.dumps(p), headers=base_headers)\n",
    "print(res)"
   ]
  },
  {
   "cell_type": "code",
   "execution_count": 5,
   "metadata": {},
   "outputs": [
    {
     "name": "stdout",
     "output_type": "stream",
     "text": [
      "200\n"
     ]
    }
   ],
   "source": [
    "rescode = res.status_code\n",
    "print(rescode)"
   ]
  },
  {
   "cell_type": "code",
   "execution_count": 6,
   "metadata": {},
   "outputs": [
    {
     "name": "stdout",
     "output_type": "stream",
     "text": [
      "{'grant_type': 'client_credentials', 'appkey': 'PSlk7opiVk7xrZASl1UIxKz9I03fvKVHIoj0', 'appsecret': 'ydBlQkV4uT8A1+BdNtyru+LIZ/MrWdPY3Az7pAUWuwu5yfvqSk2YxeYz2gsf/m9X4uOCyBzT6yAigGXsR4W/0BBMyKXwShvIWriZMdiMepxJsC7TxnKkqRT77TT7hrnkCU+c1YBr7vynuNAfe6QMJ/oXazA3IMFhIk96tCkKHf+xW3SIs4U='}\n"
     ]
    }
   ],
   "source": [
    "p = {\n",
    "        \"grant_type\": \"client_credentials\",\n",
    "    }\n",
    "\n",
    "ak1 = 'my_app'  # 앱키 (모의투자용)\n",
    "ak2 = 'my_sec'\n",
    "\n",
    "p[\"appkey\"] = _cfg[ak1]\n",
    "p[\"appsecret\"] = _cfg[ak2]\n",
    "\n",
    "print(p)"
   ]
  },
  {
   "cell_type": "code",
   "execution_count": 2,
   "metadata": {},
   "outputs": [
    {
     "data": {
      "text/plain": [
       "'c:\\\\dev\\\\api_exam'"
      ]
     },
     "execution_count": 2,
     "metadata": {},
     "output_type": "execute_result"
    }
   ],
   "source": [
    "import os\n",
    "\n",
    "os.getcwd()"
   ]
  }
 ],
 "metadata": {
  "kernelspec": {
   "display_name": ".venv",
   "language": "python",
   "name": "python3"
  },
  "language_info": {
   "codemirror_mode": {
    "name": "ipython",
    "version": 3
   },
   "file_extension": ".py",
   "mimetype": "text/x-python",
   "name": "python",
   "nbconvert_exporter": "python",
   "pygments_lexer": "ipython3",
   "version": "3.12.4"
  }
 },
 "nbformat": 4,
 "nbformat_minor": 2
}
